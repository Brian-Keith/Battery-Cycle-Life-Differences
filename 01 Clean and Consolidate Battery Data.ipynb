{
 "cells": [
  {
   "cell_type": "markdown",
   "metadata": {},
   "source": [
    "<img src=\"imgs/GeorgiaTech_RGB.png\" alt=\"GeorgiaTech_RGB\" width=\"200\" style=\"float: left;\"/>\n",
    "<br><br><br>\n",
    "\n",
    "# <span style='color:#B3A369'> <b>Clean and Consolidate Battery Data</b> </span>\n",
    "\n",
    "> <b> Notebook Author:</b> Brian Keith (bkeith9@gatech.edu) <br>\n",
    "> \n",
    "> **Based on codes provided by authors of paper at:**\n",
    "> - https://github.com/rdbraatz/data-driven-prediction-of-battery-cycle-life-before-capacity-degradation/blob/master/Load%20Data.ipynb\n",
    "> \n",
    "> **Data Citation:**\n",
    "> - Severson et al. Data-driven prediction of battery cycle life before capacity degradation. Nature Energy volume 4, pages 383–391 (2019)\n",
    "> - Downloaded from: https://data.matr.io/1/projects/5c48dd2bc625d700019f3204\n",
    ">   - Batch 1 (`2017-05-12_batchdata_updated_struct_errorcorrect.mat`): https://data.matr.io/1/projects/5c48dd2bc625d700019f3204/batches/5c86c0b5fa2ede00015ddf67\n",
    ">   - Batch 2 (`2017-06-30_batchdata_updated_struct_errorcorrect.mat`): https://data.matr.io/1/projects/5c48dd2bc625d700019f3204/batches/5c86bf14fa2ede00015ddd83\n",
    ">   - Batch 3 (`2018-04-12_batchdata_updated_struct_errorcorrect.mat`): https://data.matr.io/1/projects/5c48dd2bc625d700019f3204/batches/5c86bd64fa2ede00015ddbb3"
   ]
  },
  {
   "cell_type": "markdown",
   "metadata": {},
   "source": [
    "## <span style='color:#003057'> Initial Tasks </span>"
   ]
  },
  {
   "cell_type": "code",
   "execution_count": 1,
   "metadata": {},
   "outputs": [],
   "source": [
    "import gc\n",
    "import numpy as np\n",
    "import pandas as pd\n",
    "import matplotlib.pyplot as plt\n",
    "import pickle\n",
    "import pathlib\n",
    "from IPython.display import display, Markdown\n",
    "import datetime as dt\n",
    "curr_time = dt.datetime.today().strftime('%Y-%m-%d %H%M')\n",
    "from timeit import default_timer as timer\n",
    "\n",
    "def printmd(string):\n",
    "    header_map = {1:'#B3A369',2:'#003057',3:'#54585A'}\n",
    "    if string.startswith('#'):\n",
    "        nh = string.count('#')\n",
    "        string = string.replace('#','')\n",
    "        display(Markdown('#'*nh + f' <span style=\"color:{header_map[nh]}\">{string}</span>'))\n",
    "    else:\n",
    "        display(Markdown(string))"
   ]
  },
  {
   "cell_type": "markdown",
   "metadata": {},
   "source": [
    "## <span style='color:#003057'> Load Batch Data </span>"
   ]
  },
  {
   "cell_type": "code",
   "execution_count": 2,
   "metadata": {},
   "outputs": [],
   "source": [
    "with open (r'data\\batch1.pkl', 'rb') as fp:\n",
    "    batch1 = pickle.load(fp)\n",
    "\n",
    "with open (r'data\\batch2.pkl', 'rb') as fp:\n",
    "    batch2 = pickle.load(fp)\n",
    "\n",
    "with open (r'data\\batch3.pkl', 'rb') as fp:\n",
    "    batch3 = pickle.load(fp)"
   ]
  },
  {
   "cell_type": "markdown",
   "metadata": {},
   "source": [
    "## <span style='color:#003057'> Data handling </span>\n",
    "\n",
    "> Some data handling was done by the reseachers to remove bad data as well as to consolidate some of the continued runs between batch 1 and batch 2. This code does that data handling."
   ]
  },
  {
   "cell_type": "code",
   "execution_count": 3,
   "metadata": {},
   "outputs": [
    {
     "name": "stdout",
     "output_type": "stream",
     "text": [
      "Batch 1 has 41 batteries\n",
      "Batch 2 has 43 batteries\n",
      "Batch 3 has 40 batteries\n"
     ]
    }
   ],
   "source": [
    "#remove batteries that do not reach 80% capacity\n",
    "del batch1['b1c8']\n",
    "del batch1['b1c10']\n",
    "del batch1['b1c12']\n",
    "del batch1['b1c13']\n",
    "del batch1['b1c22']\n",
    "\n",
    "numBat1 = len(batch1.keys())\n",
    "print(f'Batch 1 has {numBat1} batteries')\n",
    "\n",
    "# There are four cells from batch1 that carried into batch2, we'll remove the data from batch2\n",
    "# and put it with the correct cell from batch1\n",
    "batch2_keys = ['b2c7', 'b2c8', 'b2c9', 'b2c15', 'b2c16']\n",
    "batch1_keys = ['b1c0', 'b1c1', 'b1c2', 'b1c3', 'b1c4']\n",
    "add_len = [662, 981, 1060, 208, 482]\n",
    "\n",
    "for i, bk in enumerate(batch1_keys):\n",
    "    # print(bk)\n",
    "    batch1[bk]['cycle_life'] = batch1[bk]['cycle_life'] + add_len[i]\n",
    "    \n",
    "    for j in batch1[bk]['summary'].keys():\n",
    "        # print(j)\n",
    "        # print(batch2_keys[i])\n",
    "        if j == 'cycle':\n",
    "            batch1[bk]['summary'][j] = np.hstack((batch1[bk]['summary'][j], batch2[batch2_keys[i]]['summary'][j] + len(batch1[bk]['summary'][j])))\n",
    "        else:\n",
    "            batch1[bk]['summary'][j] = np.hstack((batch1[bk]['summary'][j], batch2[batch2_keys[i]]['summary'][j]))\n",
    "    \n",
    "    last_cycle = len(batch1[bk]['cycles'].keys())\n",
    "    \n",
    "    for j, jk in enumerate(batch2[batch2_keys[i]]['cycles'].keys()):\n",
    "        batch1[bk]['cycles'][str(last_cycle + j)] = batch2[batch2_keys[i]]['cycles'][jk]\n",
    "\n",
    "del batch2['b2c7']\n",
    "del batch2['b2c8']\n",
    "del batch2['b2c9']\n",
    "del batch2['b2c15']\n",
    "del batch2['b2c16']\n",
    "\n",
    "numBat2 = len(batch2.keys())\n",
    "print(f'Batch 2 has {numBat2} batteries')\n",
    "\n",
    "# remove noisy channels from batch3\n",
    "del batch3['b3c37']\n",
    "del batch3['b3c2']\n",
    "del batch3['b3c23']\n",
    "del batch3['b3c32']\n",
    "del batch3['b3c42']\n",
    "del batch3['b3c43']\n",
    "\n",
    "numBat3 = len(batch3.keys())\n",
    "print(f'Batch 3 has {numBat3} batteries')\n",
    "\n"
   ]
  },
  {
   "cell_type": "markdown",
   "metadata": {},
   "source": [
    "## <span style='color:#003057'> Consolidate Cleaned Batch Data </span>"
   ]
  },
  {
   "cell_type": "code",
   "execution_count": 4,
   "metadata": {},
   "outputs": [
    {
     "data": {
      "text/markdown": [
       "## <span style=\"color:#003057\"> All Batch Data (124 batteries)</span>"
      ],
      "text/plain": [
       "<IPython.core.display.Markdown object>"
      ]
     },
     "metadata": {},
     "output_type": "display_data"
    },
    {
     "name": "stdout",
     "output_type": "stream",
     "text": [
      "['b1c0', 'b1c1', 'b1c2', 'b1c3', 'b1c4', 'b1c5', 'b1c6', 'b1c7', 'b1c9', 'b1c11', 'b1c14', 'b1c15', 'b1c16', 'b1c17', 'b1c18', 'b1c19', 'b1c20', 'b1c21', 'b1c23', 'b1c24', 'b1c25', 'b1c26', 'b1c27', 'b1c28', 'b1c29', 'b1c30', 'b1c31', 'b1c32', 'b1c33', 'b1c34', 'b1c35', 'b1c36', 'b1c37', 'b1c38', 'b1c39', 'b1c40', 'b1c41', 'b1c42', 'b1c43', 'b1c44', 'b1c45', 'b2c0', 'b2c1', 'b2c2', 'b2c3', 'b2c4', 'b2c5', 'b2c6', 'b2c10', 'b2c11', 'b2c12', 'b2c13', 'b2c14', 'b2c17', 'b2c18', 'b2c19', 'b2c20', 'b2c21', 'b2c22', 'b2c23', 'b2c24', 'b2c25', 'b2c26', 'b2c27', 'b2c28', 'b2c29', 'b2c30', 'b2c31', 'b2c32', 'b2c33', 'b2c34', 'b2c35', 'b2c36', 'b2c37', 'b2c38', 'b2c39', 'b2c40', 'b2c41', 'b2c42', 'b2c43', 'b2c44', 'b2c45', 'b2c46', 'b2c47', 'b3c0', 'b3c1', 'b3c3', 'b3c4', 'b3c5', 'b3c6', 'b3c7', 'b3c8', 'b3c9', 'b3c10', 'b3c11', 'b3c12', 'b3c13', 'b3c14', 'b3c15', 'b3c16', 'b3c17', 'b3c18', 'b3c19', 'b3c20', 'b3c21', 'b3c22', 'b3c24', 'b3c25', 'b3c26', 'b3c27', 'b3c28', 'b3c29', 'b3c30', 'b3c31', 'b3c33', 'b3c34', 'b3c35', 'b3c36', 'b3c38', 'b3c39', 'b3c40', 'b3c41', 'b3c44', 'b3c45']\n"
     ]
    },
    {
     "data": {
      "text/markdown": [
       "### <span style=\"color:#54585A\"> Pickle File Saved as data/CleanedConsolidatedBatches.pkl</span>"
      ],
      "text/plain": [
       "<IPython.core.display.Markdown object>"
      ]
     },
     "metadata": {},
     "output_type": "display_data"
    }
   ],
   "source": [
    "bat_dict = {**batch1, **batch2, **batch3}\n",
    "printmd(f'## All Batch Data ({numBat1 + numBat2 + numBat3} batteries)')\n",
    "print(list(bat_dict.keys()))\n",
    "\n",
    "pkl_name = f'data/CleanedConsolidatedBatches.pkl'\n",
    "with open(pkl_name,'wb') as fp:\n",
    "    pickle.dump(bat_dict,fp)\n",
    "printmd('### Pickle File Saved as ' + pkl_name)"
   ]
  },
  {
   "cell_type": "markdown",
   "metadata": {},
   "source": [
    "## <span style='color:#003057'> Misc - Visualization </span>\n",
    "\n",
    "> This is just to ensure the visualization of the data matched the one from the researchers in their code."
   ]
  },
  {
   "cell_type": "code",
   "execution_count": 5,
   "metadata": {},
   "outputs": [
    {
     "data": {
      "image/png": "[encoded data removed]",
      "text/plain": [
       "<Figure size 640x480 with 1 Axes>"
      ]
     },
     "metadata": {},
     "output_type": "display_data"
    }
   ],
   "source": [
    "for i in bat_dict.keys():\n",
    "    plt.plot(bat_dict[i]['summary']['cycle'], bat_dict[i]['summary']['QD'])\n",
    "plt.xlabel('Cycle Number')\n",
    "plt.ylabel('Discharge Capacity (Ah)')\n",
    "plt.show()"
   ]
  },
  {
   "cell_type": "markdown",
   "metadata": {},
   "source": [
    "## <span style='color:#003057'> Extract Summary Information </span>\n",
    "\n",
    "> This code was not included by the researchers. After some analysis, it was clear that there are two sets of data of interest, the summary and cycle data. This code consolidates the data to only include the summary information for each batch and cycle."
   ]
  },
  {
   "cell_type": "code",
   "execution_count": 6,
   "metadata": {},
   "outputs": [
    {
     "data": {
      "text/html": [
       "<div>\n",
       "<style scoped>\n",
       "    .dataframe tbody tr th:only-of-type {\n",
       "        vertical-align: middle;\n",
       "    }\n",
       "\n",
       "    .dataframe tbody tr th {\n",
       "        vertical-align: top;\n",
       "    }\n",
       "\n",
       "    .dataframe thead th {\n",
       "        text-align: right;\n",
       "    }\n",
       "</style>\n",
       "<table border=\"1\" class=\"dataframe\">\n",
       "  <thead>\n",
       "    <tr style=\"text-align: right;\">\n",
       "      <th></th>\n",
       "      <th>batch</th>\n",
       "      <th>charge_policy</th>\n",
       "      <th>cycle_life</th>\n",
       "      <th>IR</th>\n",
       "      <th>QC</th>\n",
       "      <th>QD</th>\n",
       "      <th>Tavg</th>\n",
       "      <th>Tmin</th>\n",
       "      <th>Tmax</th>\n",
       "      <th>chargetime</th>\n",
       "      <th>cycle</th>\n",
       "    </tr>\n",
       "  </thead>\n",
       "  <tbody>\n",
       "    <tr>\n",
       "      <th>0</th>\n",
       "      <td>b1c0</td>\n",
       "      <td>3.6C(80%)-3.6C</td>\n",
       "      <td>1852.0</td>\n",
       "      <td>0.000000</td>\n",
       "      <td>0.000000</td>\n",
       "      <td>0.000000</td>\n",
       "      <td>0.000000</td>\n",
       "      <td>0.000000</td>\n",
       "      <td>0.000000</td>\n",
       "      <td>0.000000</td>\n",
       "      <td>1.0</td>\n",
       "    </tr>\n",
       "    <tr>\n",
       "      <th>1</th>\n",
       "      <td>b1c0</td>\n",
       "      <td>3.6C(80%)-3.6C</td>\n",
       "      <td>1852.0</td>\n",
       "      <td>0.016742</td>\n",
       "      <td>1.071042</td>\n",
       "      <td>1.070689</td>\n",
       "      <td>31.875011</td>\n",
       "      <td>29.566130</td>\n",
       "      <td>35.652016</td>\n",
       "      <td>13.341250</td>\n",
       "      <td>2.0</td>\n",
       "    </tr>\n",
       "    <tr>\n",
       "      <th>2</th>\n",
       "      <td>b1c0</td>\n",
       "      <td>3.6C(80%)-3.6C</td>\n",
       "      <td>1852.0</td>\n",
       "      <td>0.016724</td>\n",
       "      <td>1.071674</td>\n",
       "      <td>1.071900</td>\n",
       "      <td>31.931490</td>\n",
       "      <td>29.604385</td>\n",
       "      <td>35.692978</td>\n",
       "      <td>13.425777</td>\n",
       "      <td>3.0</td>\n",
       "    </tr>\n",
       "    <tr>\n",
       "      <th>3</th>\n",
       "      <td>b1c0</td>\n",
       "      <td>3.6C(80%)-3.6C</td>\n",
       "      <td>1852.0</td>\n",
       "      <td>0.016681</td>\n",
       "      <td>1.072304</td>\n",
       "      <td>1.072510</td>\n",
       "      <td>31.932603</td>\n",
       "      <td>29.744202</td>\n",
       "      <td>35.680588</td>\n",
       "      <td>13.425167</td>\n",
       "      <td>4.0</td>\n",
       "    </tr>\n",
       "    <tr>\n",
       "      <th>4</th>\n",
       "      <td>b1c0</td>\n",
       "      <td>3.6C(80%)-3.6C</td>\n",
       "      <td>1852.0</td>\n",
       "      <td>0.016662</td>\n",
       "      <td>1.072970</td>\n",
       "      <td>1.073174</td>\n",
       "      <td>31.959322</td>\n",
       "      <td>29.644709</td>\n",
       "      <td>35.728691</td>\n",
       "      <td>13.341442</td>\n",
       "      <td>5.0</td>\n",
       "    </tr>\n",
       "    <tr>\n",
       "      <th>...</th>\n",
       "      <td>...</td>\n",
       "      <td>...</td>\n",
       "      <td>...</td>\n",
       "      <td>...</td>\n",
       "      <td>...</td>\n",
       "      <td>...</td>\n",
       "      <td>...</td>\n",
       "      <td>...</td>\n",
       "      <td>...</td>\n",
       "      <td>...</td>\n",
       "      <td>...</td>\n",
       "    </tr>\n",
       "    <tr>\n",
       "      <th>100496</th>\n",
       "      <td>b3c45</td>\n",
       "      <td>4.8C(80%)-4.8C-newstructure</td>\n",
       "      <td>1801.0</td>\n",
       "      <td>0.017538</td>\n",
       "      <td>0.881796</td>\n",
       "      <td>0.881539</td>\n",
       "      <td>32.532753</td>\n",
       "      <td>30.328932</td>\n",
       "      <td>34.571934</td>\n",
       "      <td>15.404138</td>\n",
       "      <td>1796.0</td>\n",
       "    </tr>\n",
       "    <tr>\n",
       "      <th>100497</th>\n",
       "      <td>b3c45</td>\n",
       "      <td>4.8C(80%)-4.8C-newstructure</td>\n",
       "      <td>1801.0</td>\n",
       "      <td>0.017294</td>\n",
       "      <td>0.881874</td>\n",
       "      <td>0.881441</td>\n",
       "      <td>32.679857</td>\n",
       "      <td>29.591684</td>\n",
       "      <td>35.492989</td>\n",
       "      <td>15.497987</td>\n",
       "      <td>1797.0</td>\n",
       "    </tr>\n",
       "    <tr>\n",
       "      <th>100498</th>\n",
       "      <td>b3c45</td>\n",
       "      <td>4.8C(80%)-4.8C-newstructure</td>\n",
       "      <td>1801.0</td>\n",
       "      <td>0.017605</td>\n",
       "      <td>0.881364</td>\n",
       "      <td>0.880883</td>\n",
       "      <td>32.217071</td>\n",
       "      <td>31.470758</td>\n",
       "      <td>33.999550</td>\n",
       "      <td>16.357937</td>\n",
       "      <td>1798.0</td>\n",
       "    </tr>\n",
       "    <tr>\n",
       "      <th>100499</th>\n",
       "      <td>b3c45</td>\n",
       "      <td>4.8C(80%)-4.8C-newstructure</td>\n",
       "      <td>1801.0</td>\n",
       "      <td>0.017526</td>\n",
       "      <td>0.881120</td>\n",
       "      <td>0.880757</td>\n",
       "      <td>33.035630</td>\n",
       "      <td>29.526152</td>\n",
       "      <td>35.779078</td>\n",
       "      <td>16.046140</td>\n",
       "      <td>1799.0</td>\n",
       "    </tr>\n",
       "    <tr>\n",
       "      <th>100500</th>\n",
       "      <td>b3c45</td>\n",
       "      <td>4.8C(80%)-4.8C-newstructure</td>\n",
       "      <td>1801.0</td>\n",
       "      <td>0.017456</td>\n",
       "      <td>0.880991</td>\n",
       "      <td>0.880473</td>\n",
       "      <td>32.769553</td>\n",
       "      <td>31.031042</td>\n",
       "      <td>34.298580</td>\n",
       "      <td>16.985313</td>\n",
       "      <td>1800.0</td>\n",
       "    </tr>\n",
       "  </tbody>\n",
       "</table>\n",
       "<p>100501 rows × 11 columns</p>\n",
       "</div>"
      ],
      "text/plain": [
       "        batch                charge_policy  cycle_life        IR        QC  \\\n",
       "0        b1c0               3.6C(80%)-3.6C      1852.0  0.000000  0.000000   \n",
       "1        b1c0               3.6C(80%)-3.6C      1852.0  0.016742  1.071042   \n",
       "2        b1c0               3.6C(80%)-3.6C      1852.0  0.016724  1.071674   \n",
       "3        b1c0               3.6C(80%)-3.6C      1852.0  0.016681  1.072304   \n",
       "4        b1c0               3.6C(80%)-3.6C      1852.0  0.016662  1.072970   \n",
       "...       ...                          ...         ...       ...       ...   \n",
       "100496  b3c45  4.8C(80%)-4.8C-newstructure      1801.0  0.017538  0.881796   \n",
       "100497  b3c45  4.8C(80%)-4.8C-newstructure      1801.0  0.017294  0.881874   \n",
       "100498  b3c45  4.8C(80%)-4.8C-newstructure      1801.0  0.017605  0.881364   \n",
       "100499  b3c45  4.8C(80%)-4.8C-newstructure      1801.0  0.017526  0.881120   \n",
       "100500  b3c45  4.8C(80%)-4.8C-newstructure      1801.0  0.017456  0.880991   \n",
       "\n",
       "              QD       Tavg       Tmin       Tmax  chargetime   cycle  \n",
       "0       0.000000   0.000000   0.000000   0.000000    0.000000     1.0  \n",
       "1       1.070689  31.875011  29.566130  35.652016   13.341250     2.0  \n",
       "2       1.071900  31.931490  29.604385  35.692978   13.425777     3.0  \n",
       "3       1.072510  31.932603  29.744202  35.680588   13.425167     4.0  \n",
       "4       1.073174  31.959322  29.644709  35.728691   13.341442     5.0  \n",
       "...          ...        ...        ...        ...         ...     ...  \n",
       "100496  0.881539  32.532753  30.328932  34.571934   15.404138  1796.0  \n",
       "100497  0.881441  32.679857  29.591684  35.492989   15.497987  1797.0  \n",
       "100498  0.880883  32.217071  31.470758  33.999550   16.357937  1798.0  \n",
       "100499  0.880757  33.035630  29.526152  35.779078   16.046140  1799.0  \n",
       "100500  0.880473  32.769553  31.031042  34.298580   16.985313  1800.0  \n",
       "\n",
       "[100501 rows x 11 columns]"
      ]
     },
     "metadata": {},
     "output_type": "display_data"
    },
    {
     "name": "stdout",
     "output_type": "stream",
     "text": [
      "<class 'pandas.core.frame.DataFrame'>\n",
      "RangeIndex: 100501 entries, 0 to 100500\n",
      "Data columns (total 11 columns):\n",
      " #   Column         Non-Null Count   Dtype  \n",
      "---  ------         --------------   -----  \n",
      " 0   batch          100501 non-null  object \n",
      " 1   charge_policy  100501 non-null  object \n",
      " 2   cycle_life     100501 non-null  float64\n",
      " 3   IR             100501 non-null  float64\n",
      " 4   QC             100501 non-null  float64\n",
      " 5   QD             100501 non-null  float64\n",
      " 6   Tavg           100501 non-null  float64\n",
      " 7   Tmin           100501 non-null  float64\n",
      " 8   Tmax           100501 non-null  float64\n",
      " 9   chargetime     100501 non-null  float64\n",
      " 10  cycle          100501 non-null  float64\n",
      "dtypes: float64(9), object(2)\n",
      "memory usage: 20.0 MB\n",
      "<class 'pandas.core.frame.DataFrame'>\n",
      "RangeIndex: 100501 entries, 0 to 100500\n",
      "Data columns (total 11 columns):\n",
      " #   Column         Non-Null Count   Dtype   \n",
      "---  ------         --------------   -----   \n",
      " 0   batch          100501 non-null  category\n",
      " 1   charge_policy  100501 non-null  category\n",
      " 2   cycle_life     100501 non-null  int16   \n",
      " 3   IR             100501 non-null  float64 \n",
      " 4   QC             100501 non-null  float64 \n",
      " 5   QD             100501 non-null  float64 \n",
      " 6   Tavg           100501 non-null  float64 \n",
      " 7   Tmin           100501 non-null  float64 \n",
      " 8   Tmax           100501 non-null  float64 \n",
      " 9   chargetime     100501 non-null  float64 \n",
      " 10  cycle          100501 non-null  int16   \n",
      "dtypes: category(2), float64(7), int16(2)\n",
      "memory usage: 6.0 MB\n"
     ]
    },
    {
     "data": {
      "text/markdown": [
       "### <span style=\"color:#54585A\"> Summary Data Saved as Saved as data/SummaryData.pkl</span>"
      ],
      "text/plain": [
       "<IPython.core.display.Markdown object>"
      ]
     },
     "metadata": {},
     "output_type": "display_data"
    }
   ],
   "source": [
    "\n",
    "dfs_summary = []\n",
    "\n",
    "for pk in bat_dict.keys():\n",
    "    tmp_life = bat_dict[pk]['cycle_life'][0][0]\n",
    "    tmp_policy = bat_dict[pk]['charge_policy']\n",
    "    \n",
    "    tmp_summary = pd.DataFrame(bat_dict[pk]['summary'])\n",
    "    tmp_summary.insert(0,'batch',pk)\n",
    "    tmp_summary.insert(1,'charge_policy',tmp_policy)\n",
    "    tmp_summary.insert(2,'cycle_life',tmp_life)\n",
    "    dfs_summary.append(tmp_summary)\n",
    "\n",
    "summary = pd.concat(dfs_summary, ignore_index=True)\n",
    "display(summary)\n",
    "summary.info(memory_usage='deep')\n",
    "\n",
    "sum_tmap = {\n",
    "    'batch': 'category',\n",
    "    'charge_policy': 'category',\n",
    "    'cycle_life': np.int16,\n",
    "    'IR': np.float64,\n",
    "    'QC': np.float64,\n",
    "    'QD': np.float64,\n",
    "    'Tavg': np.float64,\n",
    "    'Tmin': np.float64,\n",
    "    'Tmax': np.float64,\n",
    "    'chargetime': np.float64,\n",
    "    'cycle': np.int16,\n",
    "}\n",
    "\n",
    "summary = summary.astype(sum_tmap)\n",
    "\n",
    "summary.info(memory_usage='deep')\n",
    "\n",
    "summary_df_name = f'data/SummaryData.pkl'\n",
    "summary.to_pickle(summary_df_name)\n",
    "printmd('### Summary Data Saved as Saved as ' + summary_df_name)"
   ]
  },
  {
   "cell_type": "markdown",
   "metadata": {},
   "source": [
    "## <span style='color:#003057'> Extract Cycle Information </span>\n",
    "\n",
    "> This code was not included by the researchers. After some analysis, it was clear that there are two sets of data of interest, the summary and cycle data. This code consolidates the detailed cycle data for each batch and cycle."
   ]
  },
  {
   "cell_type": "markdown",
   "metadata": {},
   "source": [
    "### <span style='color:#54585A'> Delete All Unnecessary Data Before Proceeding </span>\n",
    "\n",
    "> This block is here to delete all previous variables that are not needed for the rest of the notebook. This is because the next portion of the code uses a massive amount of memory (~52 GB on my machine).\n",
    ">\n",
    "> This process is repeated again before saving the files out to again reduce the memory load."
   ]
  },
  {
   "cell_type": "code",
   "execution_count": 7,
   "metadata": {},
   "outputs": [],
   "source": [
    "#free up as much memory as possible before next step\n",
    "try:\n",
    "    del batch1\n",
    "    gc.collect()\n",
    "except:\n",
    "    pass\n",
    "try:\n",
    "    del batch2\n",
    "    gc.collect()\n",
    "except:\n",
    "    pass\n",
    "try:\n",
    "    del batch3\n",
    "    gc.collect()\n",
    "except:\n",
    "    pass\n",
    "try:\n",
    "    del summary\n",
    "    gc.collect()\n",
    "except:\n",
    "    pass\n",
    "try:\n",
    "    del dfs_summary\n",
    "    gc.collect()\n",
    "except:\n",
    "    pass"
   ]
  },
  {
   "cell_type": "markdown",
   "metadata": {},
   "source": [
    "### <span style='color:#54585A'> Create DataFrame for Measured and Derived Data </span>"
   ]
  },
  {
   "cell_type": "code",
   "execution_count": 8,
   "metadata": {},
   "outputs": [
    {
     "data": {
      "text/markdown": [
       "### <span style=\"color:#54585A\"> <b>Processing data for: b1c0</b></span>"
      ],
      "text/plain": [
       "<IPython.core.display.Markdown object>"
      ]
     },
     "metadata": {},
     "output_type": "display_data"
    },
    {
     "name": "stdout",
     "output_type": "stream",
     "text": [
      "Checking for issues with length of cycle arrays...\n",
      "\tValues for all columns in a given cycle have arrays are the same length. Continuing...\n",
      "Exploding arrays into rows and storing cycle...\n",
      "\tTotal number of rows in measured data: 1,936,644\n",
      "\tTotal number of rows in derived data: 1,850,002\n",
      "Total runtime: 0:00:06.24\n"
     ]
    },
    {
     "data": {
      "text/markdown": [
       "**Example of handling performed for a single cycle and batch**"
      ],
      "text/plain": [
       "<IPython.core.display.Markdown object>"
      ]
     },
     "metadata": {},
     "output_type": "display_data"
    },
    {
     "name": "stdout",
     "output_type": "stream",
     "text": [
      "Raw Data (All):\n"
     ]
    },
    {
     "data": {
      "text/html": [
       "<div>\n",
       "<style scoped>\n",
       "    .dataframe tbody tr th:only-of-type {\n",
       "        vertical-align: middle;\n",
       "    }\n",
       "\n",
       "    .dataframe tbody tr th {\n",
       "        vertical-align: top;\n",
       "    }\n",
       "\n",
       "    .dataframe thead th {\n",
       "        text-align: right;\n",
       "    }\n",
       "</style>\n",
       "<table border=\"1\" class=\"dataframe\">\n",
       "  <thead>\n",
       "    <tr style=\"text-align: right;\">\n",
       "      <th></th>\n",
       "      <th>I</th>\n",
       "      <th>Qc</th>\n",
       "      <th>Qd</th>\n",
       "      <th>Qdlin</th>\n",
       "      <th>T</th>\n",
       "      <th>Tdlin</th>\n",
       "      <th>V</th>\n",
       "      <th>dQdV</th>\n",
       "      <th>t</th>\n",
       "    </tr>\n",
       "  </thead>\n",
       "  <tbody>\n",
       "    <tr>\n",
       "      <th>0</th>\n",
       "      <td>[0, 0]</td>\n",
       "      <td>[0, 0]</td>\n",
       "      <td>[0, 0]</td>\n",
       "      <td>[0, 0]</td>\n",
       "      <td>[0, 0]</td>\n",
       "      <td>[0, 0]</td>\n",
       "      <td>[0, 0]</td>\n",
       "      <td>[0, 0]</td>\n",
       "      <td>[0, 0]</td>\n",
       "    </tr>\n",
       "    <tr>\n",
       "      <th>1</th>\n",
       "      <td>[0.0, 0.21590752727272727, 0.3598308545454545,...</td>\n",
       "      <td>[0.0, 1.0935055e-06, 1.0935055e-06, 1.0935055e...</td>\n",
       "      <td>[0.0, 0.0, 0.0, 0.0, 0.0, 0.0, 0.0, 0.0, 0.0, ...</td>\n",
       "      <td>[-0.00035743169172071344, -0.00031852458675475...</td>\n",
       "      <td>[31.632496, 31.632496, 31.632496, 31.632496, 3...</td>\n",
       "      <td>[29.585882115781974, 29.585889890630046, 29.58...</td>\n",
       "      <td>[2.0264158, 2.0393877, 2.0516596, 2.0630703, 2...</td>\n",
       "      <td>[-0.01269011993883918, -0.01269011993883918, -...</td>\n",
       "      <td>[0.0, 0.0024166666666739427, 0.002911666666659...</td>\n",
       "    </tr>\n",
       "    <tr>\n",
       "      <th>2</th>\n",
       "      <td>[0.0, 0.2159846909090909, 0.39595430909090906,...</td>\n",
       "      <td>[0.0, 2.1892861e-06, 2.1892861e-06, 2.1892861e...</td>\n",
       "      <td>[0.0, 0.0, 0.0, 0.0, 0.0, 0.0, 0.0, 0.0, 0.0, ...</td>\n",
       "      <td>[-0.0003798085051063239, -0.000349296036017368...</td>\n",
       "      <td>[31.712118, 31.642683, 31.642683, 31.642683, 3...</td>\n",
       "      <td>[29.645995720295176, 29.645996341146088, 29.64...</td>\n",
       "      <td>[2.0264654, 2.0391855, 2.0548534, 2.0668211, 2...</td>\n",
       "      <td>[0.0, 0.0, 0.0, -0.0001205143244502763, -9.373...</td>\n",
       "      <td>[0.0, 0.0024866666666639504, 0.002989999999984...</td>\n",
       "    </tr>\n",
       "    <tr>\n",
       "      <th>3</th>\n",
       "      <td>[0.0, 0.2157774818181818, 0.3601186909090909, ...</td>\n",
       "      <td>[0.0, 3.5126993e-10, 3.5126993e-10, 3.5126993e...</td>\n",
       "      <td>[0.0, 0.0, 0.0, 0.0, 0.0, 0.0, 0.0, 0.0, 0.0, ...</td>\n",
       "      <td>[-0.00034664050996769205, -0.00030765716078066...</td>\n",
       "      <td>[31.620401, 31.618505, 31.618505, 31.618505, 3...</td>\n",
       "      <td>[29.744202517029763, 29.744202352704704, 29.74...</td>\n",
       "      <td>[2.0254135, 2.0385513, 2.0506926, 2.0621805, 2...</td>\n",
       "      <td>[-0.005111738067271755, -0.003948040695798245,...</td>\n",
       "      <td>[0.0, 0.002541666666669092, 0.0030000000000048...</td>\n",
       "    </tr>\n",
       "    <tr>\n",
       "      <th>4</th>\n",
       "      <td>[0.0, 0.2160713909090909, 0.3960115272727272, ...</td>\n",
       "      <td>[0.0, 1.4893225e-06, 1.4893225e-06, 1.4893225e...</td>\n",
       "      <td>[0.0, 0.0, 0.0, 0.0, 0.0, 0.0, 0.0, 0.0, 0.0, ...</td>\n",
       "      <td>[-0.00037102355649936325, -0.00032921416080221...</td>\n",
       "      <td>[31.814196, 31.814196, 31.814196, 31.814196, 3...</td>\n",
       "      <td>[29.621225424314172, 29.62840559151371, 29.634...</td>\n",
       "      <td>[2.0245466, 2.0373793, 2.0533218, 2.0652456, 2...</td>\n",
       "      <td>[0.0, 0.0, 0.0, 0.0, 0.0, 0.0, 0.0, 0.0, -0.00...</td>\n",
       "      <td>[0.0, 0.002484999999978754, 0.0030183333332994...</td>\n",
       "    </tr>\n",
       "    <tr>\n",
       "      <th>...</th>\n",
       "      <td>...</td>\n",
       "      <td>...</td>\n",
       "      <td>...</td>\n",
       "      <td>...</td>\n",
       "      <td>...</td>\n",
       "      <td>...</td>\n",
       "      <td>...</td>\n",
       "      <td>...</td>\n",
       "      <td>...</td>\n",
       "    </tr>\n",
       "    <tr>\n",
       "      <th>1846</th>\n",
       "      <td>[0.0, 0.18007711818181815, 0.3599643727272727,...</td>\n",
       "      <td>[0.0, 0.0, 0.0, 0.0, 0.0, 0.0, 3.1805856e-05, ...</td>\n",
       "      <td>[0.0, 0.0, 0.0, 0.0, 0.0, 0.0, 0.0, 0.0, 0.0, ...</td>\n",
       "      <td>[-0.000368957979760066, -0.0003303087749448706...</td>\n",
       "      <td>[33.230957, 33.252869, 33.252869, 33.252869, 3...</td>\n",
       "      <td>[31.137816250764793, 31.13781645176324, 31.137...</td>\n",
       "      <td>[2.0182428, 2.0283432, 2.0433197, 2.0553179, 2...</td>\n",
       "      <td>[0.0, 0.0, 0.0, -0.0017375641222407575, -0.005...</td>\n",
       "      <td>[0.0, 0.002538333332631737, 0.0030349999996057...</td>\n",
       "    </tr>\n",
       "    <tr>\n",
       "      <th>1847</th>\n",
       "      <td>[0.0, 0.17994273636363634, 0.32404466363636364...</td>\n",
       "      <td>[0.0, 0.0, 0.0, 0.0, 0.0, 0.0, 0.0, 0.0, 0.0, ...</td>\n",
       "      <td>[0.0, 0.0, 0.0, 0.0, 0.0, 0.0, 0.0, 0.0, 0.0, ...</td>\n",
       "      <td>[-0.0005361036659395283, -0.000493413157419082...</td>\n",
       "      <td>[31.196554, 31.168356, 31.168356, 31.168356, 3...</td>\n",
       "      <td>[28.956433911874836, 28.95643392898498, 28.956...</td>\n",
       "      <td>[2.0186205, 2.0289431, 2.0408869, 2.0524855, 2...</td>\n",
       "      <td>[-0.021427543002214677, -0.020100966148739317,...</td>\n",
       "      <td>[0.0, 0.0024316666667194417, 0.002873333333021...</td>\n",
       "    </tr>\n",
       "    <tr>\n",
       "      <th>1848</th>\n",
       "      <td>[0.0, 0.25214195454545457, 0.43192689999999995...</td>\n",
       "      <td>[0.0, 2.5690929e-06, 2.5690929e-06, 2.5690929e...</td>\n",
       "      <td>[0.0, 0.0, 0.0, 0.0, 0.0, 0.0, 0.0, 0.0, 0.0, ...</td>\n",
       "      <td>[-0.0003789834679669762, -0.000340945642056505...</td>\n",
       "      <td>[32.182819, 32.182819, 32.182819, 32.182819, 3...</td>\n",
       "      <td>[30.318500841419464, 30.318500885202255, 30.31...</td>\n",
       "      <td>[2.018465, 2.0339508, 2.0515919, 2.0649662, 2....</td>\n",
       "      <td>[0.0, 0.0, 0.0, 0.0, 0.0, 0.0, 0.0, 0.0, 0.0, ...</td>\n",
       "      <td>[0.0, 0.0025783333333341337, 0.003111666666666...</td>\n",
       "    </tr>\n",
       "    <tr>\n",
       "      <th>1849</th>\n",
       "      <td>[0.0, 0.21583730909090906, 0.36018111818181814...</td>\n",
       "      <td>[0.0, 2.8016209e-06, 2.8016209e-06, 1.0089959e...</td>\n",
       "      <td>[0.0, 0.0, 0.0, 0.0, 0.0, 0.0, 0.0, 0.0, 0.0, ...</td>\n",
       "      <td>[-0.0004762586628410943, -0.000431648379298407...</td>\n",
       "      <td>[32.688221, 32.717159, 32.717159, 32.717159, 3...</td>\n",
       "      <td>[30.358992219776944, 30.358638911859238, 30.35...</td>\n",
       "      <td>[2.0188541, 2.0314713, 2.0439901, 2.0603561, 2...</td>\n",
       "      <td>[-0.006598907200909048, -0.006598907200909048,...</td>\n",
       "      <td>[0.0, 0.002634999999994155, 0.0031149999999949...</td>\n",
       "    </tr>\n",
       "    <tr>\n",
       "      <th>1850</th>\n",
       "      <td>[0.0, 0.17997048181818182, 0.3240195181818182,...</td>\n",
       "      <td>[0.0, 4.1895825e-07, 4.1895825e-07, 4.1895825e...</td>\n",
       "      <td>[0.0, 0.0, 0.0, 0.0, 0.0, 0.0, 0.0, 0.0, 0.0, ...</td>\n",
       "      <td>[-0.00022379391822730706, -0.00019532883919790...</td>\n",
       "      <td>[32.566662, 32.47105, 32.47105, 32.47105, 32.4...</td>\n",
       "      <td>[30.657435989718326, 30.657435994959464, 30.65...</td>\n",
       "      <td>[2.0183439, 2.0284653, 2.0403452, 2.0518084, 2...</td>\n",
       "      <td>[0.0, 0.0, 0.0, 0.0, 0.0, 0.0, 0.0, 0.0, 0.0, ...</td>\n",
       "      <td>[0.0, 0.002448333333344029, 0.0029283333333296...</td>\n",
       "    </tr>\n",
       "  </tbody>\n",
       "</table>\n",
       "<p>1851 rows × 9 columns</p>\n",
       "</div>"
      ],
      "text/plain": [
       "                                                      I  \\\n",
       "0                                                [0, 0]   \n",
       "1     [0.0, 0.21590752727272727, 0.3598308545454545,...   \n",
       "2     [0.0, 0.2159846909090909, 0.39595430909090906,...   \n",
       "3     [0.0, 0.2157774818181818, 0.3601186909090909, ...   \n",
       "4     [0.0, 0.2160713909090909, 0.3960115272727272, ...   \n",
       "...                                                 ...   \n",
       "1846  [0.0, 0.18007711818181815, 0.3599643727272727,...   \n",
       "1847  [0.0, 0.17994273636363634, 0.32404466363636364...   \n",
       "1848  [0.0, 0.25214195454545457, 0.43192689999999995...   \n",
       "1849  [0.0, 0.21583730909090906, 0.36018111818181814...   \n",
       "1850  [0.0, 0.17997048181818182, 0.3240195181818182,...   \n",
       "\n",
       "                                                     Qc  \\\n",
       "0                                                [0, 0]   \n",
       "1     [0.0, 1.0935055e-06, 1.0935055e-06, 1.0935055e...   \n",
       "2     [0.0, 2.1892861e-06, 2.1892861e-06, 2.1892861e...   \n",
       "3     [0.0, 3.5126993e-10, 3.5126993e-10, 3.5126993e...   \n",
       "4     [0.0, 1.4893225e-06, 1.4893225e-06, 1.4893225e...   \n",
       "...                                                 ...   \n",
       "1846  [0.0, 0.0, 0.0, 0.0, 0.0, 0.0, 3.1805856e-05, ...   \n",
       "1847  [0.0, 0.0, 0.0, 0.0, 0.0, 0.0, 0.0, 0.0, 0.0, ...   \n",
       "1848  [0.0, 2.5690929e-06, 2.5690929e-06, 2.5690929e...   \n",
       "1849  [0.0, 2.8016209e-06, 2.8016209e-06, 1.0089959e...   \n",
       "1850  [0.0, 4.1895825e-07, 4.1895825e-07, 4.1895825e...   \n",
       "\n",
       "                                                     Qd  \\\n",
       "0                                                [0, 0]   \n",
       "1     [0.0, 0.0, 0.0, 0.0, 0.0, 0.0, 0.0, 0.0, 0.0, ...   \n",
       "2     [0.0, 0.0, 0.0, 0.0, 0.0, 0.0, 0.0, 0.0, 0.0, ...   \n",
       "3     [0.0, 0.0, 0.0, 0.0, 0.0, 0.0, 0.0, 0.0, 0.0, ...   \n",
       "4     [0.0, 0.0, 0.0, 0.0, 0.0, 0.0, 0.0, 0.0, 0.0, ...   \n",
       "...                                                 ...   \n",
       "1846  [0.0, 0.0, 0.0, 0.0, 0.0, 0.0, 0.0, 0.0, 0.0, ...   \n",
       "1847  [0.0, 0.0, 0.0, 0.0, 0.0, 0.0, 0.0, 0.0, 0.0, ...   \n",
       "1848  [0.0, 0.0, 0.0, 0.0, 0.0, 0.0, 0.0, 0.0, 0.0, ...   \n",
       "1849  [0.0, 0.0, 0.0, 0.0, 0.0, 0.0, 0.0, 0.0, 0.0, ...   \n",
       "1850  [0.0, 0.0, 0.0, 0.0, 0.0, 0.0, 0.0, 0.0, 0.0, ...   \n",
       "\n",
       "                                                  Qdlin  \\\n",
       "0                                                [0, 0]   \n",
       "1     [-0.00035743169172071344, -0.00031852458675475...   \n",
       "2     [-0.0003798085051063239, -0.000349296036017368...   \n",
       "3     [-0.00034664050996769205, -0.00030765716078066...   \n",
       "4     [-0.00037102355649936325, -0.00032921416080221...   \n",
       "...                                                 ...   \n",
       "1846  [-0.000368957979760066, -0.0003303087749448706...   \n",
       "1847  [-0.0005361036659395283, -0.000493413157419082...   \n",
       "1848  [-0.0003789834679669762, -0.000340945642056505...   \n",
       "1849  [-0.0004762586628410943, -0.000431648379298407...   \n",
       "1850  [-0.00022379391822730706, -0.00019532883919790...   \n",
       "\n",
       "                                                      T  \\\n",
       "0                                                [0, 0]   \n",
       "1     [31.632496, 31.632496, 31.632496, 31.632496, 3...   \n",
       "2     [31.712118, 31.642683, 31.642683, 31.642683, 3...   \n",
       "3     [31.620401, 31.618505, 31.618505, 31.618505, 3...   \n",
       "4     [31.814196, 31.814196, 31.814196, 31.814196, 3...   \n",
       "...                                                 ...   \n",
       "1846  [33.230957, 33.252869, 33.252869, 33.252869, 3...   \n",
       "1847  [31.196554, 31.168356, 31.168356, 31.168356, 3...   \n",
       "1848  [32.182819, 32.182819, 32.182819, 32.182819, 3...   \n",
       "1849  [32.688221, 32.717159, 32.717159, 32.717159, 3...   \n",
       "1850  [32.566662, 32.47105, 32.47105, 32.47105, 32.4...   \n",
       "\n",
       "                                                  Tdlin  \\\n",
       "0                                                [0, 0]   \n",
       "1     [29.585882115781974, 29.585889890630046, 29.58...   \n",
       "2     [29.645995720295176, 29.645996341146088, 29.64...   \n",
       "3     [29.744202517029763, 29.744202352704704, 29.74...   \n",
       "4     [29.621225424314172, 29.62840559151371, 29.634...   \n",
       "...                                                 ...   \n",
       "1846  [31.137816250764793, 31.13781645176324, 31.137...   \n",
       "1847  [28.956433911874836, 28.95643392898498, 28.956...   \n",
       "1848  [30.318500841419464, 30.318500885202255, 30.31...   \n",
       "1849  [30.358992219776944, 30.358638911859238, 30.35...   \n",
       "1850  [30.657435989718326, 30.657435994959464, 30.65...   \n",
       "\n",
       "                                                      V  \\\n",
       "0                                                [0, 0]   \n",
       "1     [2.0264158, 2.0393877, 2.0516596, 2.0630703, 2...   \n",
       "2     [2.0264654, 2.0391855, 2.0548534, 2.0668211, 2...   \n",
       "3     [2.0254135, 2.0385513, 2.0506926, 2.0621805, 2...   \n",
       "4     [2.0245466, 2.0373793, 2.0533218, 2.0652456, 2...   \n",
       "...                                                 ...   \n",
       "1846  [2.0182428, 2.0283432, 2.0433197, 2.0553179, 2...   \n",
       "1847  [2.0186205, 2.0289431, 2.0408869, 2.0524855, 2...   \n",
       "1848  [2.018465, 2.0339508, 2.0515919, 2.0649662, 2....   \n",
       "1849  [2.0188541, 2.0314713, 2.0439901, 2.0603561, 2...   \n",
       "1850  [2.0183439, 2.0284653, 2.0403452, 2.0518084, 2...   \n",
       "\n",
       "                                                   dQdV  \\\n",
       "0                                                [0, 0]   \n",
       "1     [-0.01269011993883918, -0.01269011993883918, -...   \n",
       "2     [0.0, 0.0, 0.0, -0.0001205143244502763, -9.373...   \n",
       "3     [-0.005111738067271755, -0.003948040695798245,...   \n",
       "4     [0.0, 0.0, 0.0, 0.0, 0.0, 0.0, 0.0, 0.0, -0.00...   \n",
       "...                                                 ...   \n",
       "1846  [0.0, 0.0, 0.0, -0.0017375641222407575, -0.005...   \n",
       "1847  [-0.021427543002214677, -0.020100966148739317,...   \n",
       "1848  [0.0, 0.0, 0.0, 0.0, 0.0, 0.0, 0.0, 0.0, 0.0, ...   \n",
       "1849  [-0.006598907200909048, -0.006598907200909048,...   \n",
       "1850  [0.0, 0.0, 0.0, 0.0, 0.0, 0.0, 0.0, 0.0, 0.0, ...   \n",
       "\n",
       "                                                      t  \n",
       "0                                                [0, 0]  \n",
       "1     [0.0, 0.0024166666666739427, 0.002911666666659...  \n",
       "2     [0.0, 0.0024866666666639504, 0.002989999999984...  \n",
       "3     [0.0, 0.002541666666669092, 0.0030000000000048...  \n",
       "4     [0.0, 0.002484999999978754, 0.0030183333332994...  \n",
       "...                                                 ...  \n",
       "1846  [0.0, 0.002538333332631737, 0.0030349999996057...  \n",
       "1847  [0.0, 0.0024316666667194417, 0.002873333333021...  \n",
       "1848  [0.0, 0.0025783333333341337, 0.003111666666666...  \n",
       "1849  [0.0, 0.002634999999994155, 0.0031149999999949...  \n",
       "1850  [0.0, 0.002448333333344029, 0.0029283333333296...  \n",
       "\n",
       "[1851 rows x 9 columns]"
      ]
     },
     "metadata": {},
     "output_type": "display_data"
    },
    {
     "name": "stdout",
     "output_type": "stream",
     "text": [
      "Array Length Mapping (Measured):\n"
     ]
    },
    {
     "data": {
      "text/html": [
       "<div>\n",
       "<style scoped>\n",
       "    .dataframe tbody tr th:only-of-type {\n",
       "        vertical-align: middle;\n",
       "    }\n",
       "\n",
       "    .dataframe tbody tr th {\n",
       "        vertical-align: top;\n",
       "    }\n",
       "\n",
       "    .dataframe thead th {\n",
       "        text-align: right;\n",
       "    }\n",
       "</style>\n",
       "<table border=\"1\" class=\"dataframe\">\n",
       "  <thead>\n",
       "    <tr style=\"text-align: right;\">\n",
       "      <th></th>\n",
       "      <th>I</th>\n",
       "      <th>Qc</th>\n",
       "      <th>Qd</th>\n",
       "      <th>T</th>\n",
       "      <th>V</th>\n",
       "      <th>t</th>\n",
       "    </tr>\n",
       "  </thead>\n",
       "  <tbody>\n",
       "    <tr>\n",
       "      <th>0</th>\n",
       "      <td>2</td>\n",
       "      <td>2</td>\n",
       "      <td>2</td>\n",
       "      <td>2</td>\n",
       "      <td>2</td>\n",
       "      <td>2</td>\n",
       "    </tr>\n",
       "    <tr>\n",
       "      <th>1</th>\n",
       "      <td>1087</td>\n",
       "      <td>1087</td>\n",
       "      <td>1087</td>\n",
       "      <td>1087</td>\n",
       "      <td>1087</td>\n",
       "      <td>1087</td>\n",
       "    </tr>\n",
       "    <tr>\n",
       "      <th>2</th>\n",
       "      <td>1117</td>\n",
       "      <td>1117</td>\n",
       "      <td>1117</td>\n",
       "      <td>1117</td>\n",
       "      <td>1117</td>\n",
       "      <td>1117</td>\n",
       "    </tr>\n",
       "    <tr>\n",
       "      <th>3</th>\n",
       "      <td>1114</td>\n",
       "      <td>1114</td>\n",
       "      <td>1114</td>\n",
       "      <td>1114</td>\n",
       "      <td>1114</td>\n",
       "      <td>1114</td>\n",
       "    </tr>\n",
       "    <tr>\n",
       "      <th>4</th>\n",
       "      <td>1138</td>\n",
       "      <td>1138</td>\n",
       "      <td>1138</td>\n",
       "      <td>1138</td>\n",
       "      <td>1138</td>\n",
       "      <td>1138</td>\n",
       "    </tr>\n",
       "    <tr>\n",
       "      <th>...</th>\n",
       "      <td>...</td>\n",
       "      <td>...</td>\n",
       "      <td>...</td>\n",
       "      <td>...</td>\n",
       "      <td>...</td>\n",
       "      <td>...</td>\n",
       "    </tr>\n",
       "    <tr>\n",
       "      <th>1846</th>\n",
       "      <td>929</td>\n",
       "      <td>929</td>\n",
       "      <td>929</td>\n",
       "      <td>929</td>\n",
       "      <td>929</td>\n",
       "      <td>929</td>\n",
       "    </tr>\n",
       "    <tr>\n",
       "      <th>1847</th>\n",
       "      <td>878</td>\n",
       "      <td>878</td>\n",
       "      <td>878</td>\n",
       "      <td>878</td>\n",
       "      <td>878</td>\n",
       "      <td>878</td>\n",
       "    </tr>\n",
       "    <tr>\n",
       "      <th>1848</th>\n",
       "      <td>879</td>\n",
       "      <td>879</td>\n",
       "      <td>879</td>\n",
       "      <td>879</td>\n",
       "      <td>879</td>\n",
       "      <td>879</td>\n",
       "    </tr>\n",
       "    <tr>\n",
       "      <th>1849</th>\n",
       "      <td>869</td>\n",
       "      <td>869</td>\n",
       "      <td>869</td>\n",
       "      <td>869</td>\n",
       "      <td>869</td>\n",
       "      <td>869</td>\n",
       "    </tr>\n",
       "    <tr>\n",
       "      <th>1850</th>\n",
       "      <td>902</td>\n",
       "      <td>902</td>\n",
       "      <td>902</td>\n",
       "      <td>902</td>\n",
       "      <td>902</td>\n",
       "      <td>902</td>\n",
       "    </tr>\n",
       "  </tbody>\n",
       "</table>\n",
       "<p>1851 rows × 6 columns</p>\n",
       "</div>"
      ],
      "text/plain": [
       "         I    Qc    Qd     T     V     t\n",
       "0        2     2     2     2     2     2\n",
       "1     1087  1087  1087  1087  1087  1087\n",
       "2     1117  1117  1117  1117  1117  1117\n",
       "3     1114  1114  1114  1114  1114  1114\n",
       "4     1138  1138  1138  1138  1138  1138\n",
       "...    ...   ...   ...   ...   ...   ...\n",
       "1846   929   929   929   929   929   929\n",
       "1847   878   878   878   878   878   878\n",
       "1848   879   879   879   879   879   879\n",
       "1849   869   869   869   869   869   869\n",
       "1850   902   902   902   902   902   902\n",
       "\n",
       "[1851 rows x 6 columns]"
      ]
     },
     "metadata": {},
     "output_type": "display_data"
    },
    {
     "name": "stdout",
     "output_type": "stream",
     "text": [
      "Array Length Mapping (Derived):\n"
     ]
    },
    {
     "data": {
      "text/html": [
       "<div>\n",
       "<style scoped>\n",
       "    .dataframe tbody tr th:only-of-type {\n",
       "        vertical-align: middle;\n",
       "    }\n",
       "\n",
       "    .dataframe tbody tr th {\n",
       "        vertical-align: top;\n",
       "    }\n",
       "\n",
       "    .dataframe thead th {\n",
       "        text-align: right;\n",
       "    }\n",
       "</style>\n",
       "<table border=\"1\" class=\"dataframe\">\n",
       "  <thead>\n",
       "    <tr style=\"text-align: right;\">\n",
       "      <th></th>\n",
       "      <th>Qdlin</th>\n",
       "      <th>Tdlin</th>\n",
       "      <th>dQdV</th>\n",
       "    </tr>\n",
       "  </thead>\n",
       "  <tbody>\n",
       "    <tr>\n",
       "      <th>0</th>\n",
       "      <td>2</td>\n",
       "      <td>2</td>\n",
       "      <td>2</td>\n",
       "    </tr>\n",
       "    <tr>\n",
       "      <th>1</th>\n",
       "      <td>1000</td>\n",
       "      <td>1000</td>\n",
       "      <td>1000</td>\n",
       "    </tr>\n",
       "    <tr>\n",
       "      <th>2</th>\n",
       "      <td>1000</td>\n",
       "      <td>1000</td>\n",
       "      <td>1000</td>\n",
       "    </tr>\n",
       "    <tr>\n",
       "      <th>3</th>\n",
       "      <td>1000</td>\n",
       "      <td>1000</td>\n",
       "      <td>1000</td>\n",
       "    </tr>\n",
       "    <tr>\n",
       "      <th>4</th>\n",
       "      <td>1000</td>\n",
       "      <td>1000</td>\n",
       "      <td>1000</td>\n",
       "    </tr>\n",
       "    <tr>\n",
       "      <th>...</th>\n",
       "      <td>...</td>\n",
       "      <td>...</td>\n",
       "      <td>...</td>\n",
       "    </tr>\n",
       "    <tr>\n",
       "      <th>1846</th>\n",
       "      <td>1000</td>\n",
       "      <td>1000</td>\n",
       "      <td>1000</td>\n",
       "    </tr>\n",
       "    <tr>\n",
       "      <th>1847</th>\n",
       "      <td>1000</td>\n",
       "      <td>1000</td>\n",
       "      <td>1000</td>\n",
       "    </tr>\n",
       "    <tr>\n",
       "      <th>1848</th>\n",
       "      <td>1000</td>\n",
       "      <td>1000</td>\n",
       "      <td>1000</td>\n",
       "    </tr>\n",
       "    <tr>\n",
       "      <th>1849</th>\n",
       "      <td>1000</td>\n",
       "      <td>1000</td>\n",
       "      <td>1000</td>\n",
       "    </tr>\n",
       "    <tr>\n",
       "      <th>1850</th>\n",
       "      <td>1000</td>\n",
       "      <td>1000</td>\n",
       "      <td>1000</td>\n",
       "    </tr>\n",
       "  </tbody>\n",
       "</table>\n",
       "<p>1851 rows × 3 columns</p>\n",
       "</div>"
      ],
      "text/plain": [
       "      Qdlin  Tdlin  dQdV\n",
       "0         2      2     2\n",
       "1      1000   1000  1000\n",
       "2      1000   1000  1000\n",
       "3      1000   1000  1000\n",
       "4      1000   1000  1000\n",
       "...     ...    ...   ...\n",
       "1846   1000   1000  1000\n",
       "1847   1000   1000  1000\n",
       "1848   1000   1000  1000\n",
       "1849   1000   1000  1000\n",
       "1850   1000   1000  1000\n",
       "\n",
       "[1851 rows x 3 columns]"
      ]
     },
     "metadata": {},
     "output_type": "display_data"
    },
    {
     "name": "stdout",
     "output_type": "stream",
     "text": [
      "Exploded Measured Data:\n"
     ]
    },
    {
     "data": {
      "text/html": [
       "<div>\n",
       "<style scoped>\n",
       "    .dataframe tbody tr th:only-of-type {\n",
       "        vertical-align: middle;\n",
       "    }\n",
       "\n",
       "    .dataframe tbody tr th {\n",
       "        vertical-align: top;\n",
       "    }\n",
       "\n",
       "    .dataframe thead th {\n",
       "        text-align: right;\n",
       "    }\n",
       "</style>\n",
       "<table border=\"1\" class=\"dataframe\">\n",
       "  <thead>\n",
       "    <tr style=\"text-align: right;\">\n",
       "      <th></th>\n",
       "      <th>batch</th>\n",
       "      <th>CycleIdx</th>\n",
       "      <th>I</th>\n",
       "      <th>Qc</th>\n",
       "      <th>Qd</th>\n",
       "      <th>T</th>\n",
       "      <th>V</th>\n",
       "      <th>t</th>\n",
       "    </tr>\n",
       "  </thead>\n",
       "  <tbody>\n",
       "    <tr>\n",
       "      <th>0</th>\n",
       "      <td>b1c0</td>\n",
       "      <td>1</td>\n",
       "      <td>0</td>\n",
       "      <td>0</td>\n",
       "      <td>0</td>\n",
       "      <td>0</td>\n",
       "      <td>0</td>\n",
       "      <td>0</td>\n",
       "    </tr>\n",
       "    <tr>\n",
       "      <th>1</th>\n",
       "      <td>b1c0</td>\n",
       "      <td>1</td>\n",
       "      <td>0</td>\n",
       "      <td>0</td>\n",
       "      <td>0</td>\n",
       "      <td>0</td>\n",
       "      <td>0</td>\n",
       "      <td>0</td>\n",
       "    </tr>\n",
       "    <tr>\n",
       "      <th>2</th>\n",
       "      <td>b1c0</td>\n",
       "      <td>2</td>\n",
       "      <td>0.0</td>\n",
       "      <td>0.0</td>\n",
       "      <td>0.0</td>\n",
       "      <td>31.632496</td>\n",
       "      <td>2.026416</td>\n",
       "      <td>0.0</td>\n",
       "    </tr>\n",
       "    <tr>\n",
       "      <th>3</th>\n",
       "      <td>b1c0</td>\n",
       "      <td>2</td>\n",
       "      <td>0.215908</td>\n",
       "      <td>0.000001</td>\n",
       "      <td>0.0</td>\n",
       "      <td>31.632496</td>\n",
       "      <td>2.039388</td>\n",
       "      <td>0.002417</td>\n",
       "    </tr>\n",
       "    <tr>\n",
       "      <th>4</th>\n",
       "      <td>b1c0</td>\n",
       "      <td>2</td>\n",
       "      <td>0.359831</td>\n",
       "      <td>0.000001</td>\n",
       "      <td>0.0</td>\n",
       "      <td>31.632496</td>\n",
       "      <td>2.05166</td>\n",
       "      <td>0.002912</td>\n",
       "    </tr>\n",
       "    <tr>\n",
       "      <th>...</th>\n",
       "      <td>...</td>\n",
       "      <td>...</td>\n",
       "      <td>...</td>\n",
       "      <td>...</td>\n",
       "      <td>...</td>\n",
       "      <td>...</td>\n",
       "      <td>...</td>\n",
       "      <td>...</td>\n",
       "    </tr>\n",
       "    <tr>\n",
       "      <th>1936639</th>\n",
       "      <td>b1c0</td>\n",
       "      <td>1851</td>\n",
       "      <td>-0.021138</td>\n",
       "      <td>0.884042</td>\n",
       "      <td>0.882802</td>\n",
       "      <td>32.46542</td>\n",
       "      <td>1.999766</td>\n",
       "      <td>40.202787</td>\n",
       "    </tr>\n",
       "    <tr>\n",
       "      <th>1936640</th>\n",
       "      <td>b1c0</td>\n",
       "      <td>1851</td>\n",
       "      <td>-0.019945</td>\n",
       "      <td>0.884042</td>\n",
       "      <td>0.882808</td>\n",
       "      <td>32.46542</td>\n",
       "      <td>2.000397</td>\n",
       "      <td>40.226328</td>\n",
       "    </tr>\n",
       "    <tr>\n",
       "      <th>1936641</th>\n",
       "      <td>b1c0</td>\n",
       "      <td>1851</td>\n",
       "      <td>-0.019945</td>\n",
       "      <td>0.884042</td>\n",
       "      <td>0.882808</td>\n",
       "      <td>32.46542</td>\n",
       "      <td>2.001862</td>\n",
       "      <td>40.227417</td>\n",
       "    </tr>\n",
       "    <tr>\n",
       "      <th>1936642</th>\n",
       "      <td>b1c0</td>\n",
       "      <td>1851</td>\n",
       "      <td>-0.019945</td>\n",
       "      <td>0.884042</td>\n",
       "      <td>0.882808</td>\n",
       "      <td>32.46542</td>\n",
       "      <td>2.011937</td>\n",
       "      <td>40.237738</td>\n",
       "    </tr>\n",
       "    <tr>\n",
       "      <th>1936643</th>\n",
       "      <td>b1c0</td>\n",
       "      <td>1851</td>\n",
       "      <td>0.0</td>\n",
       "      <td>0.884042</td>\n",
       "      <td>0.882808</td>\n",
       "      <td>32.46542</td>\n",
       "      <td>2.017669</td>\n",
       "      <td>40.244075</td>\n",
       "    </tr>\n",
       "  </tbody>\n",
       "</table>\n",
       "<p>1936644 rows × 8 columns</p>\n",
       "</div>"
      ],
      "text/plain": [
       "        batch  CycleIdx         I        Qc        Qd          T         V  \\\n",
       "0        b1c0         1         0         0         0          0         0   \n",
       "1        b1c0         1         0         0         0          0         0   \n",
       "2        b1c0         2       0.0       0.0       0.0  31.632496  2.026416   \n",
       "3        b1c0         2  0.215908  0.000001       0.0  31.632496  2.039388   \n",
       "4        b1c0         2  0.359831  0.000001       0.0  31.632496   2.05166   \n",
       "...       ...       ...       ...       ...       ...        ...       ...   \n",
       "1936639  b1c0      1851 -0.021138  0.884042  0.882802   32.46542  1.999766   \n",
       "1936640  b1c0      1851 -0.019945  0.884042  0.882808   32.46542  2.000397   \n",
       "1936641  b1c0      1851 -0.019945  0.884042  0.882808   32.46542  2.001862   \n",
       "1936642  b1c0      1851 -0.019945  0.884042  0.882808   32.46542  2.011937   \n",
       "1936643  b1c0      1851       0.0  0.884042  0.882808   32.46542  2.017669   \n",
       "\n",
       "                 t  \n",
       "0                0  \n",
       "1                0  \n",
       "2              0.0  \n",
       "3         0.002417  \n",
       "4         0.002912  \n",
       "...            ...  \n",
       "1936639  40.202787  \n",
       "1936640  40.226328  \n",
       "1936641  40.227417  \n",
       "1936642  40.237738  \n",
       "1936643  40.244075  \n",
       "\n",
       "[1936644 rows x 8 columns]"
      ]
     },
     "metadata": {},
     "output_type": "display_data"
    },
    {
     "name": "stdout",
     "output_type": "stream",
     "text": [
      "Exploded Derived Data:\n"
     ]
    },
    {
     "data": {
      "text/html": [
       "<div>\n",
       "<style scoped>\n",
       "    .dataframe tbody tr th:only-of-type {\n",
       "        vertical-align: middle;\n",
       "    }\n",
       "\n",
       "    .dataframe tbody tr th {\n",
       "        vertical-align: top;\n",
       "    }\n",
       "\n",
       "    .dataframe thead th {\n",
       "        text-align: right;\n",
       "    }\n",
       "</style>\n",
       "<table border=\"1\" class=\"dataframe\">\n",
       "  <thead>\n",
       "    <tr style=\"text-align: right;\">\n",
       "      <th></th>\n",
       "      <th>batch</th>\n",
       "      <th>CycleIdx</th>\n",
       "      <th>Qdlin</th>\n",
       "      <th>Tdlin</th>\n",
       "      <th>dQdV</th>\n",
       "    </tr>\n",
       "  </thead>\n",
       "  <tbody>\n",
       "    <tr>\n",
       "      <th>0</th>\n",
       "      <td>b1c0</td>\n",
       "      <td>1</td>\n",
       "      <td>0</td>\n",
       "      <td>0</td>\n",
       "      <td>0</td>\n",
       "    </tr>\n",
       "    <tr>\n",
       "      <th>1</th>\n",
       "      <td>b1c0</td>\n",
       "      <td>1</td>\n",
       "      <td>0</td>\n",
       "      <td>0</td>\n",
       "      <td>0</td>\n",
       "    </tr>\n",
       "    <tr>\n",
       "      <th>2</th>\n",
       "      <td>b1c0</td>\n",
       "      <td>2</td>\n",
       "      <td>-0.000357</td>\n",
       "      <td>29.585882</td>\n",
       "      <td>-0.01269</td>\n",
       "    </tr>\n",
       "    <tr>\n",
       "      <th>3</th>\n",
       "      <td>b1c0</td>\n",
       "      <td>2</td>\n",
       "      <td>-0.000319</td>\n",
       "      <td>29.58589</td>\n",
       "      <td>-0.01269</td>\n",
       "    </tr>\n",
       "    <tr>\n",
       "      <th>4</th>\n",
       "      <td>b1c0</td>\n",
       "      <td>2</td>\n",
       "      <td>-0.000282</td>\n",
       "      <td>29.585896</td>\n",
       "      <td>-0.01269</td>\n",
       "    </tr>\n",
       "    <tr>\n",
       "      <th>...</th>\n",
       "      <td>...</td>\n",
       "      <td>...</td>\n",
       "      <td>...</td>\n",
       "      <td>...</td>\n",
       "      <td>...</td>\n",
       "    </tr>\n",
       "    <tr>\n",
       "      <th>1849997</th>\n",
       "      <td>b1c0</td>\n",
       "      <td>1851</td>\n",
       "      <td>0.85067</td>\n",
       "      <td>35.516961</td>\n",
       "      <td>-0.071163</td>\n",
       "    </tr>\n",
       "    <tr>\n",
       "      <th>1849998</th>\n",
       "      <td>b1c0</td>\n",
       "      <td>1851</td>\n",
       "      <td>0.850694</td>\n",
       "      <td>35.517119</td>\n",
       "      <td>-0.080123</td>\n",
       "    </tr>\n",
       "    <tr>\n",
       "      <th>1849999</th>\n",
       "      <td>b1c0</td>\n",
       "      <td>1851</td>\n",
       "      <td>0.85072</td>\n",
       "      <td>35.517087</td>\n",
       "      <td>-0.065267</td>\n",
       "    </tr>\n",
       "    <tr>\n",
       "      <th>1850000</th>\n",
       "      <td>b1c0</td>\n",
       "      <td>1851</td>\n",
       "      <td>0.850747</td>\n",
       "      <td>35.516805</td>\n",
       "      <td>-0.035128</td>\n",
       "    </tr>\n",
       "    <tr>\n",
       "      <th>1850001</th>\n",
       "      <td>b1c0</td>\n",
       "      <td>1851</td>\n",
       "      <td>0.850776</td>\n",
       "      <td>35.516208</td>\n",
       "      <td>0.0</td>\n",
       "    </tr>\n",
       "  </tbody>\n",
       "</table>\n",
       "<p>1850002 rows × 5 columns</p>\n",
       "</div>"
      ],
      "text/plain": [
       "        batch  CycleIdx     Qdlin      Tdlin      dQdV\n",
       "0        b1c0         1         0          0         0\n",
       "1        b1c0         1         0          0         0\n",
       "2        b1c0         2 -0.000357  29.585882  -0.01269\n",
       "3        b1c0         2 -0.000319   29.58589  -0.01269\n",
       "4        b1c0         2 -0.000282  29.585896  -0.01269\n",
       "...       ...       ...       ...        ...       ...\n",
       "1849997  b1c0      1851   0.85067  35.516961 -0.071163\n",
       "1849998  b1c0      1851  0.850694  35.517119 -0.080123\n",
       "1849999  b1c0      1851   0.85072  35.517087 -0.065267\n",
       "1850000  b1c0      1851  0.850747  35.516805 -0.035128\n",
       "1850001  b1c0      1851  0.850776  35.516208       0.0\n",
       "\n",
       "[1850002 rows x 5 columns]"
      ]
     },
     "metadata": {},
     "output_type": "display_data"
    },
    {
     "data": {
      "text/markdown": [
       "---"
      ],
      "text/plain": [
       "<IPython.core.display.Markdown object>"
      ]
     },
     "metadata": {},
     "output_type": "display_data"
    },
    {
     "data": {
      "text/markdown": [
       "### <span style=\"color:#54585A\"> <b>Processing data for: b1c1</b></span>"
      ],
      "text/plain": [
       "<IPython.core.display.Markdown object>"
      ]
     },
     "metadata": {},
     "output_type": "display_data"
    },
    {
     "name": "stdout",
     "output_type": "stream",
     "text": [
      "Checking for issues with length of cycle arrays...\n",
      "\tValues for all columns in a given cycle have arrays are the same length. Continuing...\n",
      "Exploding arrays into rows and storing cycle...\n",
      "\tTotal number of rows in measured data: 2,267,975\n",
      "\tTotal number of rows in derived data: 2,158,002\n",
      "Total runtime: 0:00:13.45\n"
     ]
    },
    {
     "data": {
      "text/markdown": [
       "---"
      ],
      "text/plain": [
       "<IPython.core.display.Markdown object>"
      ]
     },
     "metadata": {},
     "output_type": "display_data"
    },
    {
     "data": {
      "text/markdown": [
       "### <span style=\"color:#54585A\"> <b>Processing data for: b1c2</b></span>"
      ],
      "text/plain": [
       "<IPython.core.display.Markdown object>"
      ]
     },
     "metadata": {},
     "output_type": "display_data"
    },
    {
     "name": "stdout",
     "output_type": "stream",
     "text": [
      "Checking for issues with length of cycle arrays...\n",
      "\tValues for all columns in a given cycle have arrays are the same length. Continuing...\n",
      "Exploding arrays into rows and storing cycle...\n",
      "\tTotal number of rows in measured data: 2,370,992\n",
      "\tTotal number of rows in derived data: 2,235,002\n",
      "Total runtime: 0:00:20.96\n"
     ]
    },
    {
     "data": {
      "text/markdown": [
       "---"
      ],
      "text/plain": [
       "<IPython.core.display.Markdown object>"
      ]
     },
     "metadata": {},
     "output_type": "display_data"
    },
    {
     "data": {
      "text/markdown": [
       "### <span style=\"color:#54585A\"> <b>Processing data for: b1c3</b></span>"
      ],
      "text/plain": [
       "<IPython.core.display.Markdown object>"
      ]
     },
     "metadata": {},
     "output_type": "display_data"
    },
    {
     "name": "stdout",
     "output_type": "stream",
     "text": [
      "Checking for issues with length of cycle arrays...\n",
      "\tValues for all columns in a given cycle have arrays are the same length. Continuing...\n",
      "Exploding arrays into rows and storing cycle...\n",
      "\tTotal number of rows in measured data: 1,497,539\n",
      "\tTotal number of rows in derived data: 1,432,002\n",
      "Total runtime: 0:00:25.72\n"
     ]
    },
    {
     "data": {
      "text/markdown": [
       "---"
      ],
      "text/plain": [
       "<IPython.core.display.Markdown object>"
      ]
     },
     "metadata": {},
     "output_type": "display_data"
    },
    {
     "data": {
      "text/markdown": [
       "### <span style=\"color:#54585A\"> <b>Processing data for: b1c4</b></span>"
      ],
      "text/plain": [
       "<IPython.core.display.Markdown object>"
      ]
     },
     "metadata": {},
     "output_type": "display_data"
    },
    {
     "name": "stdout",
     "output_type": "stream",
     "text": [
      "Checking for issues with length of cycle arrays...\n",
      "\tValues for all columns in a given cycle have arrays are the same length. Continuing...\n",
      "Exploding arrays into rows and storing cycle...\n",
      "\tTotal number of rows in measured data: 1,753,307\n",
      "\tTotal number of rows in derived data: 1,707,002\n",
      "Total runtime: 0:00:31.42\n"
     ]
    },
    {
     "data": {
      "text/markdown": [
       "---"
      ],
      "text/plain": [
       "<IPython.core.display.Markdown object>"
      ]
     },
     "metadata": {},
     "output_type": "display_data"
    },
    {
     "data": {
      "text/markdown": [
       "### <span style=\"color:#54585A\"> <b>Processing data for: b1c5</b></span>"
      ],
      "text/plain": [
       "<IPython.core.display.Markdown object>"
      ]
     },
     "metadata": {},
     "output_type": "display_data"
    },
    {
     "name": "stdout",
     "output_type": "stream",
     "text": [
      "Checking for issues with length of cycle arrays...\n",
      "\tValues for all columns in a given cycle have arrays are the same length. Continuing...\n",
      "Exploding arrays into rows and storing cycle...\n",
      "\tTotal number of rows in measured data: 1,107,307\n",
      "\tTotal number of rows in derived data: 1,072,002\n",
      "Total runtime: 0:00:34.95\n"
     ]
    },
    {
     "data": {
      "text/markdown": [
       "---"
      ],
      "text/plain": [
       "<IPython.core.display.Markdown object>"
      ]
     },
     "metadata": {},
     "output_type": "display_data"
    },
    {
     "data": {
      "text/markdown": [
       "### <span style=\"color:#54585A\"> <b>Processing data for: b1c6</b></span>"
      ],
      "text/plain": [
       "<IPython.core.display.Markdown object>"
      ]
     },
     "metadata": {},
     "output_type": "display_data"
    },
    {
     "name": "stdout",
     "output_type": "stream",
     "text": [
      "Checking for issues with length of cycle arrays...\n",
      "\tValues for all columns in a given cycle have arrays are the same length. Continuing...\n",
      "Exploding arrays into rows and storing cycle...\n",
      "\tTotal number of rows in measured data: 660,310\n",
      "\tTotal number of rows in derived data: 634,002\n",
      "Total runtime: 0:00:37.14\n"
     ]
    },
    {
     "data": {
      "text/markdown": [
       "---"
      ],
      "text/plain": [
       "<IPython.core.display.Markdown object>"
      ]
     },
     "metadata": {},
     "output_type": "display_data"
    },
    {
     "data": {
      "text/markdown": [
       "### <span style=\"color:#54585A\"> <b>Processing data for: b1c7</b></span>"
      ],
      "text/plain": [
       "<IPython.core.display.Markdown object>"
      ]
     },
     "metadata": {},
     "output_type": "display_data"
    },
    {
     "name": "stdout",
     "output_type": "stream",
     "text": [
      "Checking for issues with length of cycle arrays...\n",
      "\tValues for all columns in a given cycle have arrays are the same length. Continuing...\n",
      "Exploding arrays into rows and storing cycle...\n",
      "\tTotal number of rows in measured data: 910,990\n",
      "\tTotal number of rows in derived data: 868,002\n",
      "Total runtime: 0:00:40.09\n"
     ]
    },
    {
     "data": {
      "text/markdown": [
       "---"
      ],
      "text/plain": [
       "<IPython.core.display.Markdown object>"
      ]
     },
     "metadata": {},
     "output_type": "display_data"
    },
    {
     "data": {
      "text/markdown": [
       "### <span style=\"color:#54585A\"> <b>Processing data for: b1c9</b></span>"
      ],
      "text/plain": [
       "<IPython.core.display.Markdown object>"
      ]
     },
     "metadata": {},
     "output_type": "display_data"
    },
    {
     "name": "stdout",
     "output_type": "stream",
     "text": [
      "Checking for issues with length of cycle arrays...\n",
      "\tValues for all columns in a given cycle have arrays are the same length. Continuing...\n",
      "Exploding arrays into rows and storing cycle...\n",
      "\tTotal number of rows in measured data: 1,110,015\n",
      "\tTotal number of rows in derived data: 1,052,002\n",
      "Total runtime: 0:00:43.63\n"
     ]
    },
    {
     "data": {
      "text/markdown": [
       "---"
      ],
      "text/plain": [
       "<IPython.core.display.Markdown object>"
      ]
     },
     "metadata": {},
     "output_type": "display_data"
    },
    {
     "data": {
      "text/markdown": [
       "### <span style=\"color:#54585A\"> <b>Processing data for: b1c11</b></span>"
      ],
      "text/plain": [
       "<IPython.core.display.Markdown object>"
      ]
     },
     "metadata": {},
     "output_type": "display_data"
    },
    {
     "name": "stdout",
     "output_type": "stream",
     "text": [
      "Checking for issues with length of cycle arrays...\n",
      "\tValues for all columns in a given cycle have arrays are the same length. Continuing...\n",
      "Exploding arrays into rows and storing cycle...\n",
      "\tTotal number of rows in measured data: 835,014\n",
      "\tTotal number of rows in derived data: 786,002\n",
      "Total runtime: 0:00:46.2\n"
     ]
    },
    {
     "data": {
      "text/markdown": [
       "---"
      ],
      "text/plain": [
       "<IPython.core.display.Markdown object>"
      ]
     },
     "metadata": {},
     "output_type": "display_data"
    },
    {
     "data": {
      "text/markdown": [
       "### <span style=\"color:#54585A\"> <b>Processing data for: b1c14</b></span>"
      ],
      "text/plain": [
       "<IPython.core.display.Markdown object>"
      ]
     },
     "metadata": {},
     "output_type": "display_data"
    },
    {
     "name": "stdout",
     "output_type": "stream",
     "text": [
      "Checking for issues with length of cycle arrays...\n",
      "\tValues for all columns in a given cycle have arrays are the same length. Continuing...\n",
      "Exploding arrays into rows and storing cycle...\n",
      "\tTotal number of rows in measured data: 911,264\n",
      "\tTotal number of rows in derived data: 878,002\n",
      "Total runtime: 0:00:49.06\n"
     ]
    },
    {
     "data": {
      "text/markdown": [
       "---"
      ],
      "text/plain": [
       "<IPython.core.display.Markdown object>"
      ]
     },
     "metadata": {},
     "output_type": "display_data"
    },
    {
     "data": {
      "text/markdown": [
       "### <span style=\"color:#54585A\"> <b>Processing data for: b1c15</b></span>"
      ],
      "text/plain": [
       "<IPython.core.display.Markdown object>"
      ]
     },
     "metadata": {},
     "output_type": "display_data"
    },
    {
     "name": "stdout",
     "output_type": "stream",
     "text": [
      "Checking for issues with length of cycle arrays...\n",
      "\tValues for all columns in a given cycle have arrays are the same length. Continuing...\n",
      "Exploding arrays into rows and storing cycle...\n",
      "\tTotal number of rows in measured data: 752,979\n",
      "\tTotal number of rows in derived data: 717,002\n",
      "Total runtime: 0:00:51.52\n"
     ]
    },
    {
     "data": {
      "text/markdown": [
       "---"
      ],
      "text/plain": [
       "<IPython.core.display.Markdown object>"
      ]
     },
     "metadata": {},
     "output_type": "display_data"
    },
    {
     "data": {
      "text/markdown": [
       "### <span style=\"color:#54585A\"> <b>Processing data for: b1c16</b></span>"
      ],
      "text/plain": [
       "<IPython.core.display.Markdown object>"
      ]
     },
     "metadata": {},
     "output_type": "display_data"
    },
    {
     "name": "stdout",
     "output_type": "stream",
     "text": [
      "Checking for issues with length of cycle arrays...\n",
      "\tValues for all columns in a given cycle have arrays are the same length. Continuing...\n",
      "Exploding arrays into rows and storing cycle...\n",
      "\tTotal number of rows in measured data: 896,661\n",
      "\tTotal number of rows in derived data: 860,002\n",
      "Total runtime: 0:00:54.45\n"
     ]
    },
    {
     "data": {
      "text/markdown": [
       "---"
      ],
      "text/plain": [
       "<IPython.core.display.Markdown object>"
      ]
     },
     "metadata": {},
     "output_type": "display_data"
    },
    {
     "data": {
      "text/markdown": [
       "### <span style=\"color:#54585A\"> <b>Processing data for: b1c17</b></span>"
      ],
      "text/plain": [
       "<IPython.core.display.Markdown object>"
      ]
     },
     "metadata": {},
     "output_type": "display_data"
    },
    {
     "name": "stdout",
     "output_type": "stream",
     "text": [
      "Checking for issues with length of cycle arrays...\n",
      "\tValues for all columns in a given cycle have arrays are the same length. Continuing...\n",
      "Exploding arrays into rows and storing cycle...\n",
      "\tTotal number of rows in measured data: 891,614\n",
      "\tTotal number of rows in derived data: 855,002\n",
      "Total runtime: 0:00:57.29\n"
     ]
    },
    {
     "data": {
      "text/markdown": [
       "---"
      ],
      "text/plain": [
       "<IPython.core.display.Markdown object>"
      ]
     },
     "metadata": {},
     "output_type": "display_data"
    },
    {
     "data": {
      "text/markdown": [
       "### <span style=\"color:#54585A\"> <b>Processing data for: b1c18</b></span>"
      ],
      "text/plain": [
       "<IPython.core.display.Markdown object>"
      ]
     },
     "metadata": {},
     "output_type": "display_data"
    },
    {
     "name": "stdout",
     "output_type": "stream",
     "text": [
      "Checking for issues with length of cycle arrays...\n",
      "\tValues for all columns in a given cycle have arrays are the same length. Continuing...\n",
      "Exploding arrays into rows and storing cycle...\n",
      "\tTotal number of rows in measured data: 857,172\n",
      "\tTotal number of rows in derived data: 689,002\n",
      "Total runtime: 0:00:59.67\n"
     ]
    },
    {
     "data": {
      "text/markdown": [
       "---"
      ],
      "text/plain": [
       "<IPython.core.display.Markdown object>"
      ]
     },
     "metadata": {},
     "output_type": "display_data"
    },
    {
     "data": {
      "text/markdown": [
       "### <span style=\"color:#54585A\"> <b>Processing data for: b1c19</b></span>"
      ],
      "text/plain": [
       "<IPython.core.display.Markdown object>"
      ]
     },
     "metadata": {},
     "output_type": "display_data"
    },
    {
     "name": "stdout",
     "output_type": "stream",
     "text": [
      "Checking for issues with length of cycle arrays...\n",
      "\tValues for all columns in a given cycle have arrays are the same length. Continuing...\n",
      "Exploding arrays into rows and storing cycle...\n",
      "\tTotal number of rows in measured data: 822,929\n",
      "\tTotal number of rows in derived data: 786,002\n",
      "Total runtime: 0:01:02.56\n"
     ]
    },
    {
     "data": {
      "text/markdown": [
       "---"
      ],
      "text/plain": [
       "<IPython.core.display.Markdown object>"
      ]
     },
     "metadata": {},
     "output_type": "display_data"
    },
    {
     "data": {
      "text/markdown": [
       "### <span style=\"color:#54585A\"> <b>Processing data for: b1c20</b></span>"
      ],
      "text/plain": [
       "<IPython.core.display.Markdown object>"
      ]
     },
     "metadata": {},
     "output_type": "display_data"
    },
    {
     "name": "stdout",
     "output_type": "stream",
     "text": [
      "Checking for issues with length of cycle arrays...\n",
      "\tValues for all columns in a given cycle have arrays are the same length. Continuing...\n",
      "Exploding arrays into rows and storing cycle...\n",
      "\tTotal number of rows in measured data: 530,553\n",
      "\tTotal number of rows in derived data: 532,002\n",
      "Total runtime: 0:01:04.27\n"
     ]
    },
    {
     "data": {
      "text/markdown": [
       "---"
      ],
      "text/plain": [
       "<IPython.core.display.Markdown object>"
      ]
     },
     "metadata": {},
     "output_type": "display_data"
    },
    {
     "data": {
      "text/markdown": [
       "### <span style=\"color:#54585A\"> <b>Processing data for: b1c21</b></span>"
      ],
      "text/plain": [
       "<IPython.core.display.Markdown object>"
      ]
     },
     "metadata": {},
     "output_type": "display_data"
    },
    {
     "name": "stdout",
     "output_type": "stream",
     "text": [
      "Checking for issues with length of cycle arrays...\n",
      "\tValues for all columns in a given cycle have arrays are the same length. Continuing...\n",
      "Exploding arrays into rows and storing cycle...\n",
      "\tTotal number of rows in measured data: 562,135\n",
      "\tTotal number of rows in derived data: 557,002\n",
      "Total runtime: 0:01:06.07\n"
     ]
    },
    {
     "data": {
      "text/markdown": [
       "---"
      ],
      "text/plain": [
       "<IPython.core.display.Markdown object>"
      ]
     },
     "metadata": {},
     "output_type": "display_data"
    },
    {
     "data": {
      "text/markdown": [
       "### <span style=\"color:#54585A\"> <b>Processing data for: b1c23</b></span>"
      ],
      "text/plain": [
       "<IPython.core.display.Markdown object>"
      ]
     },
     "metadata": {},
     "output_type": "display_data"
    },
    {
     "name": "stdout",
     "output_type": "stream",
     "text": [
      "Checking for issues with length of cycle arrays...\n",
      "\tValues for all columns in a given cycle have arrays are the same length. Continuing...\n",
      "Exploding arrays into rows and storing cycle...\n",
      "\tTotal number of rows in measured data: 1,067,097\n",
      "\tTotal number of rows in derived data: 1,012,002\n",
      "Total runtime: 0:01:09.35\n"
     ]
    },
    {
     "data": {
      "text/markdown": [
       "---"
      ],
      "text/plain": [
       "<IPython.core.display.Markdown object>"
      ]
     },
     "metadata": {},
     "output_type": "display_data"
    },
    {
     "data": {
      "text/markdown": [
       "### <span style=\"color:#54585A\"> <b>Processing data for: b1c24</b></span>"
      ],
      "text/plain": [
       "<IPython.core.display.Markdown object>"
      ]
     },
     "metadata": {},
     "output_type": "display_data"
    },
    {
     "name": "stdout",
     "output_type": "stream",
     "text": [
      "Checking for issues with length of cycle arrays...\n",
      "\tValues for all columns in a given cycle have arrays are the same length. Continuing...\n",
      "Exploding arrays into rows and storing cycle...\n",
      "\tTotal number of rows in measured data: 1,062,853\n",
      "\tTotal number of rows in derived data: 1,015,002\n",
      "Total runtime: 0:01:12.78\n"
     ]
    },
    {
     "data": {
      "text/markdown": [
       "---"
      ],
      "text/plain": [
       "<IPython.core.display.Markdown object>"
      ]
     },
     "metadata": {},
     "output_type": "display_data"
    },
    {
     "data": {
      "text/markdown": [
       "### <span style=\"color:#54585A\"> <b>Processing data for: b1c25</b></span>"
      ],
      "text/plain": [
       "<IPython.core.display.Markdown object>"
      ]
     },
     "metadata": {},
     "output_type": "display_data"
    },
    {
     "name": "stdout",
     "output_type": "stream",
     "text": [
      "Checking for issues with length of cycle arrays...\n",
      "\tValues for all columns in a given cycle have arrays are the same length. Continuing...\n",
      "Exploding arrays into rows and storing cycle...\n",
      "\tTotal number of rows in measured data: 898,484\n",
      "\tTotal number of rows in derived data: 852,002\n",
      "Total runtime: 0:01:15.57\n"
     ]
    },
    {
     "data": {
      "text/markdown": [
       "---"
      ],
      "text/plain": [
       "<IPython.core.display.Markdown object>"
      ]
     },
     "metadata": {},
     "output_type": "display_data"
    },
    {
     "data": {
      "text/markdown": [
       "### <span style=\"color:#54585A\"> <b>Processing data for: b1c26</b></span>"
      ],
      "text/plain": [
       "<IPython.core.display.Markdown object>"
      ]
     },
     "metadata": {},
     "output_type": "display_data"
    },
    {
     "name": "stdout",
     "output_type": "stream",
     "text": [
      "Checking for issues with length of cycle arrays...\n",
      "\tValues for all columns in a given cycle have arrays are the same length. Continuing...\n",
      "Exploding arrays into rows and storing cycle...\n",
      "\tTotal number of rows in measured data: 922,650\n",
      "\tTotal number of rows in derived data: 868,002\n",
      "Total runtime: 0:01:18.32\n"
     ]
    },
    {
     "data": {
      "text/markdown": [
       "---"
      ],
      "text/plain": [
       "<IPython.core.display.Markdown object>"
      ]
     },
     "metadata": {},
     "output_type": "display_data"
    },
    {
     "data": {
      "text/markdown": [
       "### <span style=\"color:#54585A\"> <b>Processing data for: b1c27</b></span>"
      ],
      "text/plain": [
       "<IPython.core.display.Markdown object>"
      ]
     },
     "metadata": {},
     "output_type": "display_data"
    },
    {
     "name": "stdout",
     "output_type": "stream",
     "text": [
      "Checking for issues with length of cycle arrays...\n",
      "\tValues for all columns in a given cycle have arrays are the same length. Continuing...\n",
      "Exploding arrays into rows and storing cycle...\n",
      "\tTotal number of rows in measured data: 886,894\n",
      "\tTotal number of rows in derived data: 840,002\n",
      "Total runtime: 0:01:20.97\n"
     ]
    },
    {
     "data": {
      "text/markdown": [
       "---"
      ],
      "text/plain": [
       "<IPython.core.display.Markdown object>"
      ]
     },
     "metadata": {},
     "output_type": "display_data"
    },
    {
     "data": {
      "text/markdown": [
       "### <span style=\"color:#54585A\"> <b>Processing data for: b1c28</b></span>"
      ],
      "text/plain": [
       "<IPython.core.display.Markdown object>"
      ]
     },
     "metadata": {},
     "output_type": "display_data"
    },
    {
     "name": "stdout",
     "output_type": "stream",
     "text": [
      "Checking for issues with length of cycle arrays...\n",
      "\tValues for all columns in a given cycle have arrays are the same length. Continuing...\n",
      "Exploding arrays into rows and storing cycle...\n",
      "\tTotal number of rows in measured data: 894,161\n",
      "\tTotal number of rows in derived data: 858,002\n",
      "Total runtime: 0:01:23.82\n"
     ]
    },
    {
     "data": {
      "text/markdown": [
       "---"
      ],
      "text/plain": [
       "<IPython.core.display.Markdown object>"
      ]
     },
     "metadata": {},
     "output_type": "display_data"
    },
    {
     "data": {
      "text/markdown": [
       "### <span style=\"color:#54585A\"> <b>Processing data for: b1c29</b></span>"
      ],
      "text/plain": [
       "<IPython.core.display.Markdown object>"
      ]
     },
     "metadata": {},
     "output_type": "display_data"
    },
    {
     "name": "stdout",
     "output_type": "stream",
     "text": [
      "Checking for issues with length of cycle arrays...\n",
      "\tValues for all columns in a given cycle have arrays are the same length. Continuing...\n",
      "Exploding arrays into rows and storing cycle...\n",
      "\tTotal number of rows in measured data: 941,922\n",
      "\tTotal number of rows in derived data: 915,002\n",
      "Total runtime: 0:01:26.76\n"
     ]
    },
    {
     "data": {
      "text/markdown": [
       "---"
      ],
      "text/plain": [
       "<IPython.core.display.Markdown object>"
      ]
     },
     "metadata": {},
     "output_type": "display_data"
    },
    {
     "data": {
      "text/markdown": [
       "### <span style=\"color:#54585A\"> <b>Processing data for: b1c30</b></span>"
      ],
      "text/plain": [
       "<IPython.core.display.Markdown object>"
      ]
     },
     "metadata": {},
     "output_type": "display_data"
    },
    {
     "name": "stdout",
     "output_type": "stream",
     "text": [
      "Checking for issues with length of cycle arrays...\n",
      "\tValues for all columns in a given cycle have arrays are the same length. Continuing...\n",
      "Exploding arrays into rows and storing cycle...\n",
      "\tTotal number of rows in measured data: 745,668\n",
      "\tTotal number of rows in derived data: 707,002\n",
      "Total runtime: 0:01:29\n"
     ]
    },
    {
     "data": {
      "text/markdown": [
       "---"
      ],
      "text/plain": [
       "<IPython.core.display.Markdown object>"
      ]
     },
     "metadata": {},
     "output_type": "display_data"
    },
    {
     "data": {
      "text/markdown": [
       "### <span style=\"color:#54585A\"> <b>Processing data for: b1c31</b></span>"
      ],
      "text/plain": [
       "<IPython.core.display.Markdown object>"
      ]
     },
     "metadata": {},
     "output_type": "display_data"
    },
    {
     "name": "stdout",
     "output_type": "stream",
     "text": [
      "Checking for issues with length of cycle arrays...\n",
      "\tValues for all columns in a given cycle have arrays are the same length. Continuing...\n",
      "Exploding arrays into rows and storing cycle...\n",
      "\tTotal number of rows in measured data: 914,143\n",
      "\tTotal number of rows in derived data: 874,002\n",
      "Total runtime: 0:01:31.74\n"
     ]
    },
    {
     "data": {
      "text/markdown": [
       "---"
      ],
      "text/plain": [
       "<IPython.core.display.Markdown object>"
      ]
     },
     "metadata": {},
     "output_type": "display_data"
    },
    {
     "data": {
      "text/markdown": [
       "### <span style=\"color:#54585A\"> <b>Processing data for: b1c32</b></span>"
      ],
      "text/plain": [
       "<IPython.core.display.Markdown object>"
      ]
     },
     "metadata": {},
     "output_type": "display_data"
    },
    {
     "name": "stdout",
     "output_type": "stream",
     "text": [
      "Checking for issues with length of cycle arrays...\n",
      "\tValues for all columns in a given cycle have arrays are the same length. Continuing...\n",
      "Exploding arrays into rows and storing cycle...\n",
      "\tTotal number of rows in measured data: 756,891\n",
      "\tTotal number of rows in derived data: 729,002\n",
      "Total runtime: 0:01:34.09\n"
     ]
    },
    {
     "data": {
      "text/markdown": [
       "---"
      ],
      "text/plain": [
       "<IPython.core.display.Markdown object>"
      ]
     },
     "metadata": {},
     "output_type": "display_data"
    },
    {
     "data": {
      "text/markdown": [
       "### <span style=\"color:#54585A\"> <b>Processing data for: b1c33</b></span>"
      ],
      "text/plain": [
       "<IPython.core.display.Markdown object>"
      ]
     },
     "metadata": {},
     "output_type": "display_data"
    },
    {
     "name": "stdout",
     "output_type": "stream",
     "text": [
      "Checking for issues with length of cycle arrays...\n",
      "\tValues for all columns in a given cycle have arrays are the same length. Continuing...\n",
      "Exploding arrays into rows and storing cycle...\n",
      "\tTotal number of rows in measured data: 784,009\n",
      "\tTotal number of rows in derived data: 755,002\n",
      "Total runtime: 0:01:36.47\n"
     ]
    },
    {
     "data": {
      "text/markdown": [
       "---"
      ],
      "text/plain": [
       "<IPython.core.display.Markdown object>"
      ]
     },
     "metadata": {},
     "output_type": "display_data"
    },
    {
     "data": {
      "text/markdown": [
       "### <span style=\"color:#54585A\"> <b>Processing data for: b1c34</b></span>"
      ],
      "text/plain": [
       "<IPython.core.display.Markdown object>"
      ]
     },
     "metadata": {},
     "output_type": "display_data"
    },
    {
     "name": "stdout",
     "output_type": "stream",
     "text": [
      "Checking for issues with length of cycle arrays...\n",
      "\tValues for all columns in a given cycle have arrays are the same length. Continuing...\n",
      "Exploding arrays into rows and storing cycle...\n",
      "\tTotal number of rows in measured data: 779,968\n",
      "\tTotal number of rows in derived data: 740,002\n",
      "Total runtime: 0:01:38.88\n"
     ]
    },
    {
     "data": {
      "text/markdown": [
       "---"
      ],
      "text/plain": [
       "<IPython.core.display.Markdown object>"
      ]
     },
     "metadata": {},
     "output_type": "display_data"
    },
    {
     "data": {
      "text/markdown": [
       "### <span style=\"color:#54585A\"> <b>Processing data for: b1c35</b></span>"
      ],
      "text/plain": [
       "<IPython.core.display.Markdown object>"
      ]
     },
     "metadata": {},
     "output_type": "display_data"
    },
    {
     "name": "stdout",
     "output_type": "stream",
     "text": [
      "Checking for issues with length of cycle arrays...\n",
      "\tValues for all columns in a given cycle have arrays are the same length. Continuing...\n",
      "Exploding arrays into rows and storing cycle...\n",
      "\tTotal number of rows in measured data: 745,965\n",
      "\tTotal number of rows in derived data: 701,002\n",
      "Total runtime: 0:01:41.21\n"
     ]
    },
    {
     "data": {
      "text/markdown": [
       "---"
      ],
      "text/plain": [
       "<IPython.core.display.Markdown object>"
      ]
     },
     "metadata": {},
     "output_type": "display_data"
    },
    {
     "data": {
      "text/markdown": [
       "### <span style=\"color:#54585A\"> <b>Processing data for: b1c36</b></span>"
      ],
      "text/plain": [
       "<IPython.core.display.Markdown object>"
      ]
     },
     "metadata": {},
     "output_type": "display_data"
    },
    {
     "name": "stdout",
     "output_type": "stream",
     "text": [
      "Checking for issues with length of cycle arrays...\n",
      "\tValues for all columns in a given cycle have arrays are the same length. Continuing...\n",
      "Exploding arrays into rows and storing cycle...\n",
      "\tTotal number of rows in measured data: 748,601\n",
      "\tTotal number of rows in derived data: 702,002\n",
      "Total runtime: 0:01:43.48\n"
     ]
    },
    {
     "data": {
      "text/markdown": [
       "---"
      ],
      "text/plain": [
       "<IPython.core.display.Markdown object>"
      ]
     },
     "metadata": {},
     "output_type": "display_data"
    },
    {
     "data": {
      "text/markdown": [
       "### <span style=\"color:#54585A\"> <b>Processing data for: b1c37</b></span>"
      ],
      "text/plain": [
       "<IPython.core.display.Markdown object>"
      ]
     },
     "metadata": {},
     "output_type": "display_data"
    },
    {
     "name": "stdout",
     "output_type": "stream",
     "text": [
      "Checking for issues with length of cycle arrays...\n",
      "\tValues for all columns in a given cycle have arrays are the same length. Continuing...\n",
      "Exploding arrays into rows and storing cycle...\n",
      "\tTotal number of rows in measured data: 685,170\n",
      "\tTotal number of rows in derived data: 646,002\n",
      "Total runtime: 0:01:45.65\n"
     ]
    },
    {
     "data": {
      "text/markdown": [
       "---"
      ],
      "text/plain": [
       "<IPython.core.display.Markdown object>"
      ]
     },
     "metadata": {},
     "output_type": "display_data"
    },
    {
     "data": {
      "text/markdown": [
       "### <span style=\"color:#54585A\"> <b>Processing data for: b1c38</b></span>"
      ],
      "text/plain": [
       "<IPython.core.display.Markdown object>"
      ]
     },
     "metadata": {},
     "output_type": "display_data"
    },
    {
     "name": "stdout",
     "output_type": "stream",
     "text": [
      "Checking for issues with length of cycle arrays...\n",
      "\tValues for all columns in a given cycle have arrays are the same length. Continuing...\n",
      "Exploding arrays into rows and storing cycle...\n",
      "\tTotal number of rows in measured data: 634,781\n",
      "\tTotal number of rows in derived data: 615,002\n",
      "Total runtime: 0:01:47.76\n"
     ]
    },
    {
     "data": {
      "text/markdown": [
       "---"
      ],
      "text/plain": [
       "<IPython.core.display.Markdown object>"
      ]
     },
     "metadata": {},
     "output_type": "display_data"
    },
    {
     "data": {
      "text/markdown": [
       "### <span style=\"color:#54585A\"> <b>Processing data for: b1c39</b></span>"
      ],
      "text/plain": [
       "<IPython.core.display.Markdown object>"
      ]
     },
     "metadata": {},
     "output_type": "display_data"
    },
    {
     "name": "stdout",
     "output_type": "stream",
     "text": [
      "Checking for issues with length of cycle arrays...\n",
      "\tValues for all columns in a given cycle have arrays are the same length. Continuing...\n",
      "Exploding arrays into rows and storing cycle...\n",
      "\tTotal number of rows in measured data: 647,051\n",
      "\tTotal number of rows in derived data: 623,002\n",
      "Total runtime: 0:01:49.94\n"
     ]
    },
    {
     "data": {
      "text/markdown": [
       "---"
      ],
      "text/plain": [
       "<IPython.core.display.Markdown object>"
      ]
     },
     "metadata": {},
     "output_type": "display_data"
    },
    {
     "data": {
      "text/markdown": [
       "### <span style=\"color:#54585A\"> <b>Processing data for: b1c40</b></span>"
      ],
      "text/plain": [
       "<IPython.core.display.Markdown object>"
      ]
     },
     "metadata": {},
     "output_type": "display_data"
    },
    {
     "name": "stdout",
     "output_type": "stream",
     "text": [
      "Checking for issues with length of cycle arrays...\n",
      "\tValues for all columns in a given cycle have arrays are the same length. Continuing...\n",
      "Exploding arrays into rows and storing cycle...\n",
      "\tTotal number of rows in measured data: 1,042,943\n",
      "\tTotal number of rows in derived data: 964,002\n",
      "Total runtime: 0:01:53.49\n"
     ]
    },
    {
     "data": {
      "text/markdown": [
       "---"
      ],
      "text/plain": [
       "<IPython.core.display.Markdown object>"
      ]
     },
     "metadata": {},
     "output_type": "display_data"
    },
    {
     "data": {
      "text/markdown": [
       "### <span style=\"color:#54585A\"> <b>Processing data for: b1c41</b></span>"
      ],
      "text/plain": [
       "<IPython.core.display.Markdown object>"
      ]
     },
     "metadata": {},
     "output_type": "display_data"
    },
    {
     "name": "stdout",
     "output_type": "stream",
     "text": [
      "Checking for issues with length of cycle arrays...\n",
      "\tValues for all columns in a given cycle have arrays are the same length. Continuing...\n",
      "Exploding arrays into rows and storing cycle...\n",
      "\tTotal number of rows in measured data: 1,103,390\n",
      "\tTotal number of rows in derived data: 1,049,002\n",
      "Total runtime: 0:01:57.01\n"
     ]
    },
    {
     "data": {
      "text/markdown": [
       "---"
      ],
      "text/plain": [
       "<IPython.core.display.Markdown object>"
      ]
     },
     "metadata": {},
     "output_type": "display_data"
    },
    {
     "data": {
      "text/markdown": [
       "### <span style=\"color:#54585A\"> <b>Processing data for: b1c42</b></span>"
      ],
      "text/plain": [
       "<IPython.core.display.Markdown object>"
      ]
     },
     "metadata": {},
     "output_type": "display_data"
    },
    {
     "name": "stdout",
     "output_type": "stream",
     "text": [
      "Checking for issues with length of cycle arrays...\n",
      "\tValues for all columns in a given cycle have arrays are the same length. Continuing...\n",
      "Exploding arrays into rows and storing cycle...\n",
      "\tTotal number of rows in measured data: 729,740\n",
      "\tTotal number of rows in derived data: 700,002\n",
      "Total runtime: 0:01:59.41\n"
     ]
    },
    {
     "data": {
      "text/markdown": [
       "---"
      ],
      "text/plain": [
       "<IPython.core.display.Markdown object>"
      ]
     },
     "metadata": {},
     "output_type": "display_data"
    },
    {
     "data": {
      "text/markdown": [
       "### <span style=\"color:#54585A\"> <b>Processing data for: b1c43</b></span>"
      ],
      "text/plain": [
       "<IPython.core.display.Markdown object>"
      ]
     },
     "metadata": {},
     "output_type": "display_data"
    },
    {
     "name": "stdout",
     "output_type": "stream",
     "text": [
      "Checking for issues with length of cycle arrays...\n",
      "\tValues for all columns in a given cycle have arrays are the same length. Continuing...\n",
      "Exploding arrays into rows and storing cycle...\n",
      "\tTotal number of rows in measured data: 677,268\n",
      "\tTotal number of rows in derived data: 649,002\n",
      "Total runtime: 0:02:01.59\n"
     ]
    },
    {
     "data": {
      "text/markdown": [
       "---"
      ],
      "text/plain": [
       "<IPython.core.display.Markdown object>"
      ]
     },
     "metadata": {},
     "output_type": "display_data"
    },
    {
     "data": {
      "text/markdown": [
       "### <span style=\"color:#54585A\"> <b>Processing data for: b1c44</b></span>"
      ],
      "text/plain": [
       "<IPython.core.display.Markdown object>"
      ]
     },
     "metadata": {},
     "output_type": "display_data"
    },
    {
     "name": "stdout",
     "output_type": "stream",
     "text": [
      "Checking for issues with length of cycle arrays...\n",
      "\tValues for all columns in a given cycle have arrays are the same length. Continuing...\n",
      "Exploding arrays into rows and storing cycle...\n",
      "\tTotal number of rows in measured data: 600,046\n",
      "\tTotal number of rows in derived data: 614,002\n",
      "Total runtime: 0:02:03.58\n"
     ]
    },
    {
     "data": {
      "text/markdown": [
       "---"
      ],
      "text/plain": [
       "<IPython.core.display.Markdown object>"
      ]
     },
     "metadata": {},
     "output_type": "display_data"
    },
    {
     "data": {
      "text/markdown": [
       "### <span style=\"color:#54585A\"> <b>Processing data for: b1c45</b></span>"
      ],
      "text/plain": [
       "<IPython.core.display.Markdown object>"
      ]
     },
     "metadata": {},
     "output_type": "display_data"
    },
    {
     "name": "stdout",
     "output_type": "stream",
     "text": [
      "Checking for issues with length of cycle arrays...\n",
      "\tValues for all columns in a given cycle have arrays are the same length. Continuing...\n",
      "Exploding arrays into rows and storing cycle...\n",
      "\tTotal number of rows in measured data: 588,451\n",
      "\tTotal number of rows in derived data: 597,002\n",
      "Total runtime: 0:02:05.57\n"
     ]
    },
    {
     "data": {
      "text/markdown": [
       "---"
      ],
      "text/plain": [
       "<IPython.core.display.Markdown object>"
      ]
     },
     "metadata": {},
     "output_type": "display_data"
    },
    {
     "data": {
      "text/markdown": [
       "### <span style=\"color:#54585A\"> <b>Processing data for: b2c0</b></span>"
      ],
      "text/plain": [
       "<IPython.core.display.Markdown object>"
      ]
     },
     "metadata": {},
     "output_type": "display_data"
    },
    {
     "name": "stdout",
     "output_type": "stream",
     "text": [
      "Checking for issues with length of cycle arrays...\n",
      "\tValues for all columns in a given cycle have arrays are the same length. Continuing...\n",
      "Exploding arrays into rows and storing cycle...\n",
      "\tTotal number of rows in measured data: 474,880\n",
      "\tTotal number of rows in derived data: 326,000\n",
      "Total runtime: 0:02:06.73\n"
     ]
    },
    {
     "data": {
      "text/markdown": [
       "---"
      ],
      "text/plain": [
       "<IPython.core.display.Markdown object>"
      ]
     },
     "metadata": {},
     "output_type": "display_data"
    },
    {
     "data": {
      "text/markdown": [
       "### <span style=\"color:#54585A\"> <b>Processing data for: b2c1</b></span>"
      ],
      "text/plain": [
       "<IPython.core.display.Markdown object>"
      ]
     },
     "metadata": {},
     "output_type": "display_data"
    },
    {
     "name": "stdout",
     "output_type": "stream",
     "text": [
      "Checking for issues with length of cycle arrays...\n",
      "\tValues for all columns in a given cycle have arrays are the same length. Continuing...\n",
      "Exploding arrays into rows and storing cycle...\n",
      "\tTotal number of rows in measured data: 236,884\n",
      "\tTotal number of rows in derived data: 170,000\n",
      "Total runtime: 0:02:07.32\n"
     ]
    },
    {
     "data": {
      "text/markdown": [
       "---"
      ],
      "text/plain": [
       "<IPython.core.display.Markdown object>"
      ]
     },
     "metadata": {},
     "output_type": "display_data"
    },
    {
     "data": {
      "text/markdown": [
       "### <span style=\"color:#54585A\"> <b>Processing data for: b2c2</b></span>"
      ],
      "text/plain": [
       "<IPython.core.display.Markdown object>"
      ]
     },
     "metadata": {},
     "output_type": "display_data"
    },
    {
     "name": "stdout",
     "output_type": "stream",
     "text": [
      "Checking for issues with length of cycle arrays...\n",
      "\tValues for all columns in a given cycle have arrays are the same length. Continuing...\n",
      "Exploding arrays into rows and storing cycle...\n",
      "\tTotal number of rows in measured data: 622,809\n",
      "\tTotal number of rows in derived data: 464,000\n",
      "Total runtime: 0:02:08.95\n"
     ]
    },
    {
     "data": {
      "text/markdown": [
       "---"
      ],
      "text/plain": [
       "<IPython.core.display.Markdown object>"
      ]
     },
     "metadata": {},
     "output_type": "display_data"
    },
    {
     "data": {
      "text/markdown": [
       "### <span style=\"color:#54585A\"> <b>Processing data for: b2c3</b></span>"
      ],
      "text/plain": [
       "<IPython.core.display.Markdown object>"
      ]
     },
     "metadata": {},
     "output_type": "display_data"
    },
    {
     "name": "stdout",
     "output_type": "stream",
     "text": [
      "Checking for issues with length of cycle arrays...\n",
      "\tValues for all columns in a given cycle have arrays are the same length. Continuing...\n",
      "Exploding arrays into rows and storing cycle...\n",
      "\tTotal number of rows in measured data: 591,495\n",
      "\tTotal number of rows in derived data: 361,000\n",
      "Total runtime: 0:02:10.22\n"
     ]
    },
    {
     "data": {
      "text/markdown": [
       "---"
      ],
      "text/plain": [
       "<IPython.core.display.Markdown object>"
      ]
     },
     "metadata": {},
     "output_type": "display_data"
    },
    {
     "data": {
      "text/markdown": [
       "### <span style=\"color:#54585A\"> <b>Processing data for: b2c4</b></span>"
      ],
      "text/plain": [
       "<IPython.core.display.Markdown object>"
      ]
     },
     "metadata": {},
     "output_type": "display_data"
    },
    {
     "name": "stdout",
     "output_type": "stream",
     "text": [
      "Checking for issues with length of cycle arrays...\n",
      "\tValues for all columns in a given cycle have arrays are the same length. Continuing...\n",
      "Exploding arrays into rows and storing cycle...\n",
      "\tTotal number of rows in measured data: 651,133\n",
      "\tTotal number of rows in derived data: 471,000\n",
      "Total runtime: 0:02:11.84\n"
     ]
    },
    {
     "data": {
      "text/markdown": [
       "---"
      ],
      "text/plain": [
       "<IPython.core.display.Markdown object>"
      ]
     },
     "metadata": {},
     "output_type": "display_data"
    },
    {
     "data": {
      "text/markdown": [
       "### <span style=\"color:#54585A\"> <b>Processing data for: b2c5</b></span>"
      ],
      "text/plain": [
       "<IPython.core.display.Markdown object>"
      ]
     },
     "metadata": {},
     "output_type": "display_data"
    },
    {
     "name": "stdout",
     "output_type": "stream",
     "text": [
      "Checking for issues with length of cycle arrays...\n",
      "\tValues for all columns in a given cycle have arrays are the same length. Continuing...\n",
      "Exploding arrays into rows and storing cycle...\n",
      "\tTotal number of rows in measured data: 654,779\n",
      "\tTotal number of rows in derived data: 507,000\n",
      "Total runtime: 0:02:13.51\n"
     ]
    },
    {
     "data": {
      "text/markdown": [
       "---"
      ],
      "text/plain": [
       "<IPython.core.display.Markdown object>"
      ]
     },
     "metadata": {},
     "output_type": "display_data"
    },
    {
     "data": {
      "text/markdown": [
       "### <span style=\"color:#54585A\"> <b>Processing data for: b2c6</b></span>"
      ],
      "text/plain": [
       "<IPython.core.display.Markdown object>"
      ]
     },
     "metadata": {},
     "output_type": "display_data"
    },
    {
     "name": "stdout",
     "output_type": "stream",
     "text": [
      "Checking for issues with length of cycle arrays...\n",
      "\tValues for all columns in a given cycle have arrays are the same length. Continuing...\n",
      "Exploding arrays into rows and storing cycle...\n",
      "\tTotal number of rows in measured data: 873,738\n",
      "\tTotal number of rows in derived data: 545,000\n",
      "Total runtime: 0:02:15.45\n"
     ]
    },
    {
     "data": {
      "text/markdown": [
       "---"
      ],
      "text/plain": [
       "<IPython.core.display.Markdown object>"
      ]
     },
     "metadata": {},
     "output_type": "display_data"
    },
    {
     "data": {
      "text/markdown": [
       "### <span style=\"color:#54585A\"> <b>Processing data for: b2c10</b></span>"
      ],
      "text/plain": [
       "<IPython.core.display.Markdown object>"
      ]
     },
     "metadata": {},
     "output_type": "display_data"
    },
    {
     "name": "stdout",
     "output_type": "stream",
     "text": [
      "Checking for issues with length of cycle arrays...\n",
      "\tValues for all columns in a given cycle have arrays are the same length. Continuing...\n",
      "Exploding arrays into rows and storing cycle...\n",
      "\tTotal number of rows in measured data: 779,801\n",
      "\tTotal number of rows in derived data: 596,000\n",
      "Total runtime: 0:02:17.6\n"
     ]
    },
    {
     "data": {
      "text/markdown": [
       "---"
      ],
      "text/plain": [
       "<IPython.core.display.Markdown object>"
      ]
     },
     "metadata": {},
     "output_type": "display_data"
    },
    {
     "data": {
      "text/markdown": [
       "### <span style=\"color:#54585A\"> <b>Processing data for: b2c11</b></span>"
      ],
      "text/plain": [
       "<IPython.core.display.Markdown object>"
      ]
     },
     "metadata": {},
     "output_type": "display_data"
    },
    {
     "name": "stdout",
     "output_type": "stream",
     "text": [
      "Checking for issues with length of cycle arrays...\n",
      "\tValues for all columns in a given cycle have arrays are the same length. Continuing...\n",
      "Exploding arrays into rows and storing cycle...\n",
      "\tTotal number of rows in measured data: 665,704\n",
      "\tTotal number of rows in derived data: 505,000\n",
      "Total runtime: 0:02:19.55\n"
     ]
    },
    {
     "data": {
      "text/markdown": [
       "---"
      ],
      "text/plain": [
       "<IPython.core.display.Markdown object>"
      ]
     },
     "metadata": {},
     "output_type": "display_data"
    },
    {
     "data": {
      "text/markdown": [
       "### <span style=\"color:#54585A\"> <b>Processing data for: b2c12</b></span>"
      ],
      "text/plain": [
       "<IPython.core.display.Markdown object>"
      ]
     },
     "metadata": {},
     "output_type": "display_data"
    },
    {
     "name": "stdout",
     "output_type": "stream",
     "text": [
      "Checking for issues with length of cycle arrays...\n",
      "\tValues for all columns in a given cycle have arrays are the same length. Continuing...\n",
      "Exploding arrays into rows and storing cycle...\n",
      "\tTotal number of rows in measured data: 667,577\n",
      "\tTotal number of rows in derived data: 491,000\n",
      "Total runtime: 0:02:21.42\n"
     ]
    },
    {
     "data": {
      "text/markdown": [
       "---"
      ],
      "text/plain": [
       "<IPython.core.display.Markdown object>"
      ]
     },
     "metadata": {},
     "output_type": "display_data"
    },
    {
     "data": {
      "text/markdown": [
       "### <span style=\"color:#54585A\"> <b>Processing data for: b2c13</b></span>"
      ],
      "text/plain": [
       "<IPython.core.display.Markdown object>"
      ]
     },
     "metadata": {},
     "output_type": "display_data"
    },
    {
     "name": "stdout",
     "output_type": "stream",
     "text": [
      "Checking for issues with length of cycle arrays...\n",
      "\tValues for all columns in a given cycle have arrays are the same length. Continuing...\n",
      "Exploding arrays into rows and storing cycle...\n",
      "\tTotal number of rows in measured data: 748,863\n",
      "\tTotal number of rows in derived data: 520,000\n",
      "Total runtime: 0:02:23.35\n"
     ]
    },
    {
     "data": {
      "text/markdown": [
       "---"
      ],
      "text/plain": [
       "<IPython.core.display.Markdown object>"
      ]
     },
     "metadata": {},
     "output_type": "display_data"
    },
    {
     "data": {
      "text/markdown": [
       "### <span style=\"color:#54585A\"> <b>Processing data for: b2c14</b></span>"
      ],
      "text/plain": [
       "<IPython.core.display.Markdown object>"
      ]
     },
     "metadata": {},
     "output_type": "display_data"
    },
    {
     "name": "stdout",
     "output_type": "stream",
     "text": [
      "Checking for issues with length of cycle arrays...\n",
      "\tValues for all columns in a given cycle have arrays are the same length. Continuing...\n",
      "Exploding arrays into rows and storing cycle...\n",
      "\tTotal number of rows in measured data: 653,871\n",
      "\tTotal number of rows in derived data: 509,000\n",
      "Total runtime: 0:02:25.48\n"
     ]
    },
    {
     "data": {
      "text/markdown": [
       "---"
      ],
      "text/plain": [
       "<IPython.core.display.Markdown object>"
      ]
     },
     "metadata": {},
     "output_type": "display_data"
    },
    {
     "data": {
      "text/markdown": [
       "### <span style=\"color:#54585A\"> <b>Processing data for: b2c17</b></span>"
      ],
      "text/plain": [
       "<IPython.core.display.Markdown object>"
      ]
     },
     "metadata": {},
     "output_type": "display_data"
    },
    {
     "name": "stdout",
     "output_type": "stream",
     "text": [
      "Checking for issues with length of cycle arrays...\n",
      "\tValues for all columns in a given cycle have arrays are the same length. Continuing...\n",
      "Exploding arrays into rows and storing cycle...\n",
      "\tTotal number of rows in measured data: 688,994\n",
      "\tTotal number of rows in derived data: 525,000\n",
      "Total runtime: 0:02:27.69\n"
     ]
    },
    {
     "data": {
      "text/markdown": [
       "---"
      ],
      "text/plain": [
       "<IPython.core.display.Markdown object>"
      ]
     },
     "metadata": {},
     "output_type": "display_data"
    },
    {
     "data": {
      "text/markdown": [
       "### <span style=\"color:#54585A\"> <b>Processing data for: b2c18</b></span>"
      ],
      "text/plain": [
       "<IPython.core.display.Markdown object>"
      ]
     },
     "metadata": {},
     "output_type": "display_data"
    },
    {
     "name": "stdout",
     "output_type": "stream",
     "text": [
      "Checking for issues with length of cycle arrays...\n",
      "\tValues for all columns in a given cycle have arrays are the same length. Continuing...\n",
      "Exploding arrays into rows and storing cycle...\n",
      "\tTotal number of rows in measured data: 725,091\n",
      "\tTotal number of rows in derived data: 523,000\n",
      "Total runtime: 0:02:29.5\n"
     ]
    },
    {
     "data": {
      "text/markdown": [
       "---"
      ],
      "text/plain": [
       "<IPython.core.display.Markdown object>"
      ]
     },
     "metadata": {},
     "output_type": "display_data"
    },
    {
     "data": {
      "text/markdown": [
       "### <span style=\"color:#54585A\"> <b>Processing data for: b2c19</b></span>"
      ],
      "text/plain": [
       "<IPython.core.display.Markdown object>"
      ]
     },
     "metadata": {},
     "output_type": "display_data"
    },
    {
     "name": "stdout",
     "output_type": "stream",
     "text": [
      "Checking for issues with length of cycle arrays...\n",
      "\tValues for all columns in a given cycle have arrays are the same length. Continuing...\n",
      "Exploding arrays into rows and storing cycle...\n",
      "\tTotal number of rows in measured data: 691,731\n",
      "\tTotal number of rows in derived data: 489,000\n",
      "Total runtime: 0:02:31.33\n"
     ]
    },
    {
     "data": {
      "text/markdown": [
       "---"
      ],
      "text/plain": [
       "<IPython.core.display.Markdown object>"
      ]
     },
     "metadata": {},
     "output_type": "display_data"
    },
    {
     "data": {
      "text/markdown": [
       "### <span style=\"color:#54585A\"> <b>Processing data for: b2c20</b></span>"
      ],
      "text/plain": [
       "<IPython.core.display.Markdown object>"
      ]
     },
     "metadata": {},
     "output_type": "display_data"
    },
    {
     "name": "stdout",
     "output_type": "stream",
     "text": [
      "Checking for issues with length of cycle arrays...\n",
      "\tValues for all columns in a given cycle have arrays are the same length. Continuing...\n",
      "Exploding arrays into rows and storing cycle...\n",
      "\tTotal number of rows in measured data: 679,029\n",
      "\tTotal number of rows in derived data: 531,000\n",
      "Total runtime: 0:02:33.18\n"
     ]
    },
    {
     "data": {
      "text/markdown": [
       "---"
      ],
      "text/plain": [
       "<IPython.core.display.Markdown object>"
      ]
     },
     "metadata": {},
     "output_type": "display_data"
    },
    {
     "data": {
      "text/markdown": [
       "### <span style=\"color:#54585A\"> <b>Processing data for: b2c21</b></span>"
      ],
      "text/plain": [
       "<IPython.core.display.Markdown object>"
      ]
     },
     "metadata": {},
     "output_type": "display_data"
    },
    {
     "name": "stdout",
     "output_type": "stream",
     "text": [
      "Checking for issues with length of cycle arrays...\n",
      "\tValues for all columns in a given cycle have arrays are the same length. Continuing...\n",
      "Exploding arrays into rows and storing cycle...\n",
      "\tTotal number of rows in measured data: 678,554\n",
      "\tTotal number of rows in derived data: 520,000\n",
      "Total runtime: 0:02:35.01\n"
     ]
    },
    {
     "data": {
      "text/markdown": [
       "---"
      ],
      "text/plain": [
       "<IPython.core.display.Markdown object>"
      ]
     },
     "metadata": {},
     "output_type": "display_data"
    },
    {
     "data": {
      "text/markdown": [
       "### <span style=\"color:#54585A\"> <b>Processing data for: b2c22</b></span>"
      ],
      "text/plain": [
       "<IPython.core.display.Markdown object>"
      ]
     },
     "metadata": {},
     "output_type": "display_data"
    },
    {
     "name": "stdout",
     "output_type": "stream",
     "text": [
      "Checking for issues with length of cycle arrays...\n",
      "\tValues for all columns in a given cycle have arrays are the same length. Continuing...\n",
      "Exploding arrays into rows and storing cycle...\n",
      "\tTotal number of rows in measured data: 702,819\n",
      "\tTotal number of rows in derived data: 540,000\n",
      "Total runtime: 0:02:36.93\n"
     ]
    },
    {
     "data": {
      "text/markdown": [
       "---"
      ],
      "text/plain": [
       "<IPython.core.display.Markdown object>"
      ]
     },
     "metadata": {},
     "output_type": "display_data"
    },
    {
     "data": {
      "text/markdown": [
       "### <span style=\"color:#54585A\"> <b>Processing data for: b2c23</b></span>"
      ],
      "text/plain": [
       "<IPython.core.display.Markdown object>"
      ]
     },
     "metadata": {},
     "output_type": "display_data"
    },
    {
     "name": "stdout",
     "output_type": "stream",
     "text": [
      "Checking for issues with length of cycle arrays...\n",
      "\tValues for all columns in a given cycle have arrays are the same length. Continuing...\n",
      "Exploding arrays into rows and storing cycle...\n",
      "\tTotal number of rows in measured data: 755,497\n",
      "\tTotal number of rows in derived data: 562,000\n",
      "Total runtime: 0:02:38.85\n"
     ]
    },
    {
     "data": {
      "text/markdown": [
       "---"
      ],
      "text/plain": [
       "<IPython.core.display.Markdown object>"
      ]
     },
     "metadata": {},
     "output_type": "display_data"
    },
    {
     "data": {
      "text/markdown": [
       "### <span style=\"color:#54585A\"> <b>Processing data for: b2c24</b></span>"
      ],
      "text/plain": [
       "<IPython.core.display.Markdown object>"
      ]
     },
     "metadata": {},
     "output_type": "display_data"
    },
    {
     "name": "stdout",
     "output_type": "stream",
     "text": [
      "Checking for issues with length of cycle arrays...\n",
      "\tValues for all columns in a given cycle have arrays are the same length. Continuing...\n",
      "Exploding arrays into rows and storing cycle...\n",
      "\tTotal number of rows in measured data: 626,607\n",
      "\tTotal number of rows in derived data: 524,000\n",
      "Total runtime: 0:02:40.62\n"
     ]
    },
    {
     "data": {
      "text/markdown": [
       "---"
      ],
      "text/plain": [
       "<IPython.core.display.Markdown object>"
      ]
     },
     "metadata": {},
     "output_type": "display_data"
    },
    {
     "data": {
      "text/markdown": [
       "### <span style=\"color:#54585A\"> <b>Processing data for: b2c25</b></span>"
      ],
      "text/plain": [
       "<IPython.core.display.Markdown object>"
      ]
     },
     "metadata": {},
     "output_type": "display_data"
    },
    {
     "name": "stdout",
     "output_type": "stream",
     "text": [
      "Checking for issues with length of cycle arrays...\n",
      "\tValues for all columns in a given cycle have arrays are the same length. Continuing...\n",
      "Exploding arrays into rows and storing cycle...\n",
      "\tTotal number of rows in measured data: 584,403\n",
      "\tTotal number of rows in derived data: 487,000\n",
      "Total runtime: 0:02:42.2\n"
     ]
    },
    {
     "data": {
      "text/markdown": [
       "---"
      ],
      "text/plain": [
       "<IPython.core.display.Markdown object>"
      ]
     },
     "metadata": {},
     "output_type": "display_data"
    },
    {
     "data": {
      "text/markdown": [
       "### <span style=\"color:#54585A\"> <b>Processing data for: b2c26</b></span>"
      ],
      "text/plain": [
       "<IPython.core.display.Markdown object>"
      ]
     },
     "metadata": {},
     "output_type": "display_data"
    },
    {
     "name": "stdout",
     "output_type": "stream",
     "text": [
      "Checking for issues with length of cycle arrays...\n",
      "\tValues for all columns in a given cycle have arrays are the same length. Continuing...\n",
      "Exploding arrays into rows and storing cycle...\n",
      "\tTotal number of rows in measured data: 599,587\n",
      "\tTotal number of rows in derived data: 498,000\n",
      "Total runtime: 0:02:43.92\n"
     ]
    },
    {
     "data": {
      "text/markdown": [
       "---"
      ],
      "text/plain": [
       "<IPython.core.display.Markdown object>"
      ]
     },
     "metadata": {},
     "output_type": "display_data"
    },
    {
     "data": {
      "text/markdown": [
       "### <span style=\"color:#54585A\"> <b>Processing data for: b2c27</b></span>"
      ],
      "text/plain": [
       "<IPython.core.display.Markdown object>"
      ]
     },
     "metadata": {},
     "output_type": "display_data"
    },
    {
     "name": "stdout",
     "output_type": "stream",
     "text": [
      "Checking for issues with length of cycle arrays...\n",
      "\tValues for all columns in a given cycle have arrays are the same length. Continuing...\n",
      "Exploding arrays into rows and storing cycle...\n",
      "\tTotal number of rows in measured data: 642,124\n",
      "\tTotal number of rows in derived data: 495,000\n",
      "Total runtime: 0:02:45.51\n"
     ]
    },
    {
     "data": {
      "text/markdown": [
       "---"
      ],
      "text/plain": [
       "<IPython.core.display.Markdown object>"
      ]
     },
     "metadata": {},
     "output_type": "display_data"
    },
    {
     "data": {
      "text/markdown": [
       "### <span style=\"color:#54585A\"> <b>Processing data for: b2c28</b></span>"
      ],
      "text/plain": [
       "<IPython.core.display.Markdown object>"
      ]
     },
     "metadata": {},
     "output_type": "display_data"
    },
    {
     "name": "stdout",
     "output_type": "stream",
     "text": [
      "Checking for issues with length of cycle arrays...\n",
      "\tValues for all columns in a given cycle have arrays are the same length. Continuing...\n",
      "Exploding arrays into rows and storing cycle...\n",
      "\tTotal number of rows in measured data: 693,024\n",
      "\tTotal number of rows in derived data: 541,000\n",
      "Total runtime: 0:02:47.37\n"
     ]
    },
    {
     "data": {
      "text/markdown": [
       "---"
      ],
      "text/plain": [
       "<IPython.core.display.Markdown object>"
      ]
     },
     "metadata": {},
     "output_type": "display_data"
    },
    {
     "data": {
      "text/markdown": [
       "### <span style=\"color:#54585A\"> <b>Processing data for: b2c29</b></span>"
      ],
      "text/plain": [
       "<IPython.core.display.Markdown object>"
      ]
     },
     "metadata": {},
     "output_type": "display_data"
    },
    {
     "name": "stdout",
     "output_type": "stream",
     "text": [
      "Checking for issues with length of cycle arrays...\n",
      "\tValues for all columns in a given cycle have arrays are the same length. Continuing...\n",
      "Exploding arrays into rows and storing cycle...\n",
      "\tTotal number of rows in measured data: 667,928\n",
      "\tTotal number of rows in derived data: 522,000\n",
      "Total runtime: 0:02:49.06\n"
     ]
    },
    {
     "data": {
      "text/markdown": [
       "---"
      ],
      "text/plain": [
       "<IPython.core.display.Markdown object>"
      ]
     },
     "metadata": {},
     "output_type": "display_data"
    },
    {
     "data": {
      "text/markdown": [
       "### <span style=\"color:#54585A\"> <b>Processing data for: b2c30</b></span>"
      ],
      "text/plain": [
       "<IPython.core.display.Markdown object>"
      ]
     },
     "metadata": {},
     "output_type": "display_data"
    },
    {
     "name": "stdout",
     "output_type": "stream",
     "text": [
      "Checking for issues with length of cycle arrays...\n",
      "\tValues for all columns in a given cycle have arrays are the same length. Continuing...\n",
      "Exploding arrays into rows and storing cycle...\n",
      "\tTotal number of rows in measured data: 655,160\n",
      "\tTotal number of rows in derived data: 507,000\n",
      "Total runtime: 0:02:50.73\n"
     ]
    },
    {
     "data": {
      "text/markdown": [
       "---"
      ],
      "text/plain": [
       "<IPython.core.display.Markdown object>"
      ]
     },
     "metadata": {},
     "output_type": "display_data"
    },
    {
     "data": {
      "text/markdown": [
       "### <span style=\"color:#54585A\"> <b>Processing data for: b2c31</b></span>"
      ],
      "text/plain": [
       "<IPython.core.display.Markdown object>"
      ]
     },
     "metadata": {},
     "output_type": "display_data"
    },
    {
     "name": "stdout",
     "output_type": "stream",
     "text": [
      "Checking for issues with length of cycle arrays...\n",
      "\tValues for all columns in a given cycle have arrays are the same length. Continuing...\n",
      "Exploding arrays into rows and storing cycle...\n",
      "\tTotal number of rows in measured data: 655,003\n",
      "\tTotal number of rows in derived data: 519,000\n",
      "Total runtime: 0:02:52.49\n"
     ]
    },
    {
     "data": {
      "text/markdown": [
       "---"
      ],
      "text/plain": [
       "<IPython.core.display.Markdown object>"
      ]
     },
     "metadata": {},
     "output_type": "display_data"
    },
    {
     "data": {
      "text/markdown": [
       "### <span style=\"color:#54585A\"> <b>Processing data for: b2c32</b></span>"
      ],
      "text/plain": [
       "<IPython.core.display.Markdown object>"
      ]
     },
     "metadata": {},
     "output_type": "display_data"
    },
    {
     "name": "stdout",
     "output_type": "stream",
     "text": [
      "Checking for issues with length of cycle arrays...\n",
      "\tValues for all columns in a given cycle have arrays are the same length. Continuing...\n",
      "Exploding arrays into rows and storing cycle...\n",
      "\tTotal number of rows in measured data: 685,761\n",
      "\tTotal number of rows in derived data: 544,000\n",
      "Total runtime: 0:02:54.4\n"
     ]
    },
    {
     "data": {
      "text/markdown": [
       "---"
      ],
      "text/plain": [
       "<IPython.core.display.Markdown object>"
      ]
     },
     "metadata": {},
     "output_type": "display_data"
    },
    {
     "data": {
      "text/markdown": [
       "### <span style=\"color:#54585A\"> <b>Processing data for: b2c33</b></span>"
      ],
      "text/plain": [
       "<IPython.core.display.Markdown object>"
      ]
     },
     "metadata": {},
     "output_type": "display_data"
    },
    {
     "name": "stdout",
     "output_type": "stream",
     "text": [
      "Checking for issues with length of cycle arrays...\n",
      "\tValues for all columns in a given cycle have arrays are the same length. Continuing...\n",
      "Exploding arrays into rows and storing cycle...\n",
      "\tTotal number of rows in measured data: 684,303\n",
      "\tTotal number of rows in derived data: 546,000\n",
      "Total runtime: 0:02:56.29\n"
     ]
    },
    {
     "data": {
      "text/markdown": [
       "---"
      ],
      "text/plain": [
       "<IPython.core.display.Markdown object>"
      ]
     },
     "metadata": {},
     "output_type": "display_data"
    },
    {
     "data": {
      "text/markdown": [
       "### <span style=\"color:#54585A\"> <b>Processing data for: b2c34</b></span>"
      ],
      "text/plain": [
       "<IPython.core.display.Markdown object>"
      ]
     },
     "metadata": {},
     "output_type": "display_data"
    },
    {
     "name": "stdout",
     "output_type": "stream",
     "text": [
      "Checking for issues with length of cycle arrays...\n",
      "\tValues for all columns in a given cycle have arrays are the same length. Continuing...\n",
      "Exploding arrays into rows and storing cycle...\n",
      "\tTotal number of rows in measured data: 647,526\n",
      "\tTotal number of rows in derived data: 526,000\n",
      "Total runtime: 0:02:57.95\n"
     ]
    },
    {
     "data": {
      "text/markdown": [
       "---"
      ],
      "text/plain": [
       "<IPython.core.display.Markdown object>"
      ]
     },
     "metadata": {},
     "output_type": "display_data"
    },
    {
     "data": {
      "text/markdown": [
       "### <span style=\"color:#54585A\"> <b>Processing data for: b2c35</b></span>"
      ],
      "text/plain": [
       "<IPython.core.display.Markdown object>"
      ]
     },
     "metadata": {},
     "output_type": "display_data"
    },
    {
     "name": "stdout",
     "output_type": "stream",
     "text": [
      "Checking for issues with length of cycle arrays...\n",
      "\tValues for all columns in a given cycle have arrays are the same length. Continuing...\n",
      "Exploding arrays into rows and storing cycle...\n",
      "\tTotal number of rows in measured data: 600,872\n",
      "\tTotal number of rows in derived data: 486,000\n",
      "Total runtime: 0:02:59.54\n"
     ]
    },
    {
     "data": {
      "text/markdown": [
       "---"
      ],
      "text/plain": [
       "<IPython.core.display.Markdown object>"
      ]
     },
     "metadata": {},
     "output_type": "display_data"
    },
    {
     "data": {
      "text/markdown": [
       "### <span style=\"color:#54585A\"> <b>Processing data for: b2c36</b></span>"
      ],
      "text/plain": [
       "<IPython.core.display.Markdown object>"
      ]
     },
     "metadata": {},
     "output_type": "display_data"
    },
    {
     "name": "stdout",
     "output_type": "stream",
     "text": [
      "Checking for issues with length of cycle arrays...\n",
      "\tValues for all columns in a given cycle have arrays are the same length. Continuing...\n",
      "Exploding arrays into rows and storing cycle...\n",
      "\tTotal number of rows in measured data: 727,947\n",
      "\tTotal number of rows in derived data: 560,000\n",
      "Total runtime: 0:03:01.39\n"
     ]
    },
    {
     "data": {
      "text/markdown": [
       "---"
      ],
      "text/plain": [
       "<IPython.core.display.Markdown object>"
      ]
     },
     "metadata": {},
     "output_type": "display_data"
    },
    {
     "data": {
      "text/markdown": [
       "### <span style=\"color:#54585A\"> <b>Processing data for: b2c37</b></span>"
      ],
      "text/plain": [
       "<IPython.core.display.Markdown object>"
      ]
     },
     "metadata": {},
     "output_type": "display_data"
    },
    {
     "name": "stdout",
     "output_type": "stream",
     "text": [
      "Checking for issues with length of cycle arrays...\n",
      "\tValues for all columns in a given cycle have arrays are the same length. Continuing...\n",
      "Exploding arrays into rows and storing cycle...\n",
      "\tTotal number of rows in measured data: 643,371\n",
      "\tTotal number of rows in derived data: 502,000\n",
      "Total runtime: 0:03:03.02\n"
     ]
    },
    {
     "data": {
      "text/markdown": [
       "---"
      ],
      "text/plain": [
       "<IPython.core.display.Markdown object>"
      ]
     },
     "metadata": {},
     "output_type": "display_data"
    },
    {
     "data": {
      "text/markdown": [
       "### <span style=\"color:#54585A\"> <b>Processing data for: b2c38</b></span>"
      ],
      "text/plain": [
       "<IPython.core.display.Markdown object>"
      ]
     },
     "metadata": {},
     "output_type": "display_data"
    },
    {
     "name": "stdout",
     "output_type": "stream",
     "text": [
      "Checking for issues with length of cycle arrays...\n",
      "\tValues for all columns in a given cycle have arrays are the same length. Continuing...\n",
      "Exploding arrays into rows and storing cycle...\n",
      "\tTotal number of rows in measured data: 617,462\n",
      "\tTotal number of rows in derived data: 487,000\n",
      "Total runtime: 0:03:04.75\n"
     ]
    },
    {
     "data": {
      "text/markdown": [
       "---"
      ],
      "text/plain": [
       "<IPython.core.display.Markdown object>"
      ]
     },
     "metadata": {},
     "output_type": "display_data"
    },
    {
     "data": {
      "text/markdown": [
       "### <span style=\"color:#54585A\"> <b>Processing data for: b2c39</b></span>"
      ],
      "text/plain": [
       "<IPython.core.display.Markdown object>"
      ]
     },
     "metadata": {},
     "output_type": "display_data"
    },
    {
     "name": "stdout",
     "output_type": "stream",
     "text": [
      "Checking for issues with length of cycle arrays...\n",
      "\tValues for all columns in a given cycle have arrays are the same length. Continuing...\n",
      "Exploding arrays into rows and storing cycle...\n",
      "\tTotal number of rows in measured data: 606,633\n",
      "\tTotal number of rows in derived data: 480,000\n",
      "Total runtime: 0:03:06.38\n"
     ]
    },
    {
     "data": {
      "text/markdown": [
       "---"
      ],
      "text/plain": [
       "<IPython.core.display.Markdown object>"
      ]
     },
     "metadata": {},
     "output_type": "display_data"
    },
    {
     "data": {
      "text/markdown": [
       "### <span style=\"color:#54585A\"> <b>Processing data for: b2c40</b></span>"
      ],
      "text/plain": [
       "<IPython.core.display.Markdown object>"
      ]
     },
     "metadata": {},
     "output_type": "display_data"
    },
    {
     "name": "stdout",
     "output_type": "stream",
     "text": [
      "Checking for issues with length of cycle arrays...\n",
      "\tValues for all columns in a given cycle have arrays are the same length. Continuing...\n",
      "Exploding arrays into rows and storing cycle...\n",
      "\tTotal number of rows in measured data: 720,208\n",
      "\tTotal number of rows in derived data: 530,000\n",
      "Total runtime: 0:03:08.23\n"
     ]
    },
    {
     "data": {
      "text/markdown": [
       "---"
      ],
      "text/plain": [
       "<IPython.core.display.Markdown object>"
      ]
     },
     "metadata": {},
     "output_type": "display_data"
    },
    {
     "data": {
      "text/markdown": [
       "### <span style=\"color:#54585A\"> <b>Processing data for: b2c41</b></span>"
      ],
      "text/plain": [
       "<IPython.core.display.Markdown object>"
      ]
     },
     "metadata": {},
     "output_type": "display_data"
    },
    {
     "name": "stdout",
     "output_type": "stream",
     "text": [
      "Checking for issues with length of cycle arrays...\n",
      "\tValues for all columns in a given cycle have arrays are the same length. Continuing...\n",
      "Exploding arrays into rows and storing cycle...\n",
      "\tTotal number of rows in measured data: 681,188\n",
      "\tTotal number of rows in derived data: 452,000\n",
      "Total runtime: 0:03:09.77\n"
     ]
    },
    {
     "data": {
      "text/markdown": [
       "---"
      ],
      "text/plain": [
       "<IPython.core.display.Markdown object>"
      ]
     },
     "metadata": {},
     "output_type": "display_data"
    },
    {
     "data": {
      "text/markdown": [
       "### <span style=\"color:#54585A\"> <b>Processing data for: b2c42</b></span>"
      ],
      "text/plain": [
       "<IPython.core.display.Markdown object>"
      ]
     },
     "metadata": {},
     "output_type": "display_data"
    },
    {
     "name": "stdout",
     "output_type": "stream",
     "text": [
      "Checking for issues with length of cycle arrays...\n",
      "\tValues for all columns in a given cycle have arrays are the same length. Continuing...\n",
      "Exploding arrays into rows and storing cycle...\n",
      "\tTotal number of rows in measured data: 677,931\n",
      "\tTotal number of rows in derived data: 492,000\n",
      "Total runtime: 0:03:11.54\n"
     ]
    },
    {
     "data": {
      "text/markdown": [
       "---"
      ],
      "text/plain": [
       "<IPython.core.display.Markdown object>"
      ]
     },
     "metadata": {},
     "output_type": "display_data"
    },
    {
     "data": {
      "text/markdown": [
       "### <span style=\"color:#54585A\"> <b>Processing data for: b2c43</b></span>"
      ],
      "text/plain": [
       "<IPython.core.display.Markdown object>"
      ]
     },
     "metadata": {},
     "output_type": "display_data"
    },
    {
     "name": "stdout",
     "output_type": "stream",
     "text": [
      "Checking for issues with length of cycle arrays...\n",
      "\tValues for all columns in a given cycle have arrays are the same length. Continuing...\n",
      "Exploding arrays into rows and storing cycle...\n",
      "\tTotal number of rows in measured data: 676,098\n",
      "\tTotal number of rows in derived data: 487,000\n",
      "Total runtime: 0:03:13.13\n"
     ]
    },
    {
     "data": {
      "text/markdown": [
       "---"
      ],
      "text/plain": [
       "<IPython.core.display.Markdown object>"
      ]
     },
     "metadata": {},
     "output_type": "display_data"
    },
    {
     "data": {
      "text/markdown": [
       "### <span style=\"color:#54585A\"> <b>Processing data for: b2c44</b></span>"
      ],
      "text/plain": [
       "<IPython.core.display.Markdown object>"
      ]
     },
     "metadata": {},
     "output_type": "display_data"
    },
    {
     "name": "stdout",
     "output_type": "stream",
     "text": [
      "Checking for issues with length of cycle arrays...\n",
      "\tValues for all columns in a given cycle have arrays are the same length. Continuing...\n",
      "Exploding arrays into rows and storing cycle...\n",
      "\tTotal number of rows in measured data: 676,297\n",
      "\tTotal number of rows in derived data: 479,000\n",
      "Total runtime: 0:03:14.77\n"
     ]
    },
    {
     "data": {
      "text/markdown": [
       "---"
      ],
      "text/plain": [
       "<IPython.core.display.Markdown object>"
      ]
     },
     "metadata": {},
     "output_type": "display_data"
    },
    {
     "data": {
      "text/markdown": [
       "### <span style=\"color:#54585A\"> <b>Processing data for: b2c45</b></span>"
      ],
      "text/plain": [
       "<IPython.core.display.Markdown object>"
      ]
     },
     "metadata": {},
     "output_type": "display_data"
    },
    {
     "name": "stdout",
     "output_type": "stream",
     "text": [
      "Checking for issues with length of cycle arrays...\n",
      "\tValues for all columns in a given cycle have arrays are the same length. Continuing...\n",
      "Exploding arrays into rows and storing cycle...\n",
      "\tTotal number of rows in measured data: 666,519\n",
      "\tTotal number of rows in derived data: 514,000\n",
      "Total runtime: 0:03:16.58\n"
     ]
    },
    {
     "data": {
      "text/markdown": [
       "---"
      ],
      "text/plain": [
       "<IPython.core.display.Markdown object>"
      ]
     },
     "metadata": {},
     "output_type": "display_data"
    },
    {
     "data": {
      "text/markdown": [
       "### <span style=\"color:#54585A\"> <b>Processing data for: b2c46</b></span>"
      ],
      "text/plain": [
       "<IPython.core.display.Markdown object>"
      ]
     },
     "metadata": {},
     "output_type": "display_data"
    },
    {
     "name": "stdout",
     "output_type": "stream",
     "text": [
      "Checking for issues with length of cycle arrays...\n",
      "\tValues for all columns in a given cycle have arrays are the same length. Continuing...\n",
      "Exploding arrays into rows and storing cycle...\n",
      "\tTotal number of rows in measured data: 651,402\n",
      "\tTotal number of rows in derived data: 449,000\n",
      "Total runtime: 0:03:18.26\n"
     ]
    },
    {
     "data": {
      "text/markdown": [
       "---"
      ],
      "text/plain": [
       "<IPython.core.display.Markdown object>"
      ]
     },
     "metadata": {},
     "output_type": "display_data"
    },
    {
     "data": {
      "text/markdown": [
       "### <span style=\"color:#54585A\"> <b>Processing data for: b2c47</b></span>"
      ],
      "text/plain": [
       "<IPython.core.display.Markdown object>"
      ]
     },
     "metadata": {},
     "output_type": "display_data"
    },
    {
     "name": "stdout",
     "output_type": "stream",
     "text": [
      "Checking for issues with length of cycle arrays...\n",
      "\tValues for all columns in a given cycle have arrays are the same length. Continuing...\n",
      "Exploding arrays into rows and storing cycle...\n",
      "\tTotal number of rows in measured data: 1,116,723\n",
      "\tTotal number of rows in derived data: 745,000\n",
      "Total runtime: 0:03:20.74\n"
     ]
    },
    {
     "data": {
      "text/markdown": [
       "---"
      ],
      "text/plain": [
       "<IPython.core.display.Markdown object>"
      ]
     },
     "metadata": {},
     "output_type": "display_data"
    },
    {
     "data": {
      "text/markdown": [
       "### <span style=\"color:#54585A\"> <b>Processing data for: b3c0</b></span>"
      ],
      "text/plain": [
       "<IPython.core.display.Markdown object>"
      ]
     },
     "metadata": {},
     "output_type": "display_data"
    },
    {
     "name": "stdout",
     "output_type": "stream",
     "text": [
      "Checking for issues with length of cycle arrays...\n",
      "\tValues for all columns in a given cycle have arrays are the same length. Continuing...\n",
      "Exploding arrays into rows and storing cycle...\n",
      "\tTotal number of rows in measured data: 739,224\n",
      "\tTotal number of rows in derived data: 1,008,000\n",
      "Total runtime: 0:03:24.07\n"
     ]
    },
    {
     "data": {
      "text/markdown": [
       "---"
      ],
      "text/plain": [
       "<IPython.core.display.Markdown object>"
      ]
     },
     "metadata": {},
     "output_type": "display_data"
    },
    {
     "data": {
      "text/markdown": [
       "### <span style=\"color:#54585A\"> <b>Processing data for: b3c1</b></span>"
      ],
      "text/plain": [
       "<IPython.core.display.Markdown object>"
      ]
     },
     "metadata": {},
     "output_type": "display_data"
    },
    {
     "name": "stdout",
     "output_type": "stream",
     "text": [
      "Checking for issues with length of cycle arrays...\n",
      "\tValues for all columns in a given cycle have arrays are the same length. Continuing...\n",
      "Exploding arrays into rows and storing cycle...\n",
      "\tTotal number of rows in measured data: 764,976\n",
      "\tTotal number of rows in derived data: 1,062,000\n",
      "Total runtime: 0:03:27.47\n"
     ]
    },
    {
     "data": {
      "text/markdown": [
       "---"
      ],
      "text/plain": [
       "<IPython.core.display.Markdown object>"
      ]
     },
     "metadata": {},
     "output_type": "display_data"
    },
    {
     "data": {
      "text/markdown": [
       "### <span style=\"color:#54585A\"> <b>Processing data for: b3c3</b></span>"
      ],
      "text/plain": [
       "<IPython.core.display.Markdown object>"
      ]
     },
     "metadata": {},
     "output_type": "display_data"
    },
    {
     "name": "stdout",
     "output_type": "stream",
     "text": [
      "Checking for issues with length of cycle arrays...\n",
      "\tValues for all columns in a given cycle have arrays are the same length. Continuing...\n",
      "Exploding arrays into rows and storing cycle...\n",
      "\tTotal number of rows in measured data: 805,165\n",
      "\tTotal number of rows in derived data: 1,114,000\n",
      "Total runtime: 0:03:31.06\n"
     ]
    },
    {
     "data": {
      "text/markdown": [
       "---"
      ],
      "text/plain": [
       "<IPython.core.display.Markdown object>"
      ]
     },
     "metadata": {},
     "output_type": "display_data"
    },
    {
     "data": {
      "text/markdown": [
       "### <span style=\"color:#54585A\"> <b>Processing data for: b3c4</b></span>"
      ],
      "text/plain": [
       "<IPython.core.display.Markdown object>"
      ]
     },
     "metadata": {},
     "output_type": "display_data"
    },
    {
     "name": "stdout",
     "output_type": "stream",
     "text": [
      "Checking for issues with length of cycle arrays...\n",
      "\tValues for all columns in a given cycle have arrays are the same length. Continuing...\n",
      "Exploding arrays into rows and storing cycle...\n",
      "\tTotal number of rows in measured data: 781,540\n",
      "\tTotal number of rows in derived data: 1,047,000\n",
      "Total runtime: 0:03:34.49\n"
     ]
    },
    {
     "data": {
      "text/markdown": [
       "---"
      ],
      "text/plain": [
       "<IPython.core.display.Markdown object>"
      ]
     },
     "metadata": {},
     "output_type": "display_data"
    },
    {
     "data": {
      "text/markdown": [
       "### <span style=\"color:#54585A\"> <b>Processing data for: b3c5</b></span>"
      ],
      "text/plain": [
       "<IPython.core.display.Markdown object>"
      ]
     },
     "metadata": {},
     "output_type": "display_data"
    },
    {
     "name": "stdout",
     "output_type": "stream",
     "text": [
      "Checking for issues with length of cycle arrays...\n",
      "\tValues for all columns in a given cycle have arrays are the same length. Continuing...\n",
      "Exploding arrays into rows and storing cycle...\n",
      "\tTotal number of rows in measured data: 603,918\n",
      "\tTotal number of rows in derived data: 827,000\n",
      "Total runtime: 0:03:37.08\n"
     ]
    },
    {
     "data": {
      "text/markdown": [
       "---"
      ],
      "text/plain": [
       "<IPython.core.display.Markdown object>"
      ]
     },
     "metadata": {},
     "output_type": "display_data"
    },
    {
     "data": {
      "text/markdown": [
       "### <span style=\"color:#54585A\"> <b>Processing data for: b3c6</b></span>"
      ],
      "text/plain": [
       "<IPython.core.display.Markdown object>"
      ]
     },
     "metadata": {},
     "output_type": "display_data"
    },
    {
     "name": "stdout",
     "output_type": "stream",
     "text": [
      "Checking for issues with length of cycle arrays...\n",
      "\tValues for all columns in a given cycle have arrays are the same length. Continuing...\n",
      "Exploding arrays into rows and storing cycle...\n",
      "\tTotal number of rows in measured data: 566,346\n",
      "\tTotal number of rows in derived data: 666,000\n",
      "Total runtime: 0:03:39.19\n"
     ]
    },
    {
     "data": {
      "text/markdown": [
       "---"
      ],
      "text/plain": [
       "<IPython.core.display.Markdown object>"
      ]
     },
     "metadata": {},
     "output_type": "display_data"
    },
    {
     "data": {
      "text/markdown": [
       "### <span style=\"color:#54585A\"> <b>Processing data for: b3c7</b></span>"
      ],
      "text/plain": [
       "<IPython.core.display.Markdown object>"
      ]
     },
     "metadata": {},
     "output_type": "display_data"
    },
    {
     "name": "stdout",
     "output_type": "stream",
     "text": [
      "Checking for issues with length of cycle arrays...\n",
      "\tValues for all columns in a given cycle have arrays are the same length. Continuing...\n",
      "Exploding arrays into rows and storing cycle...\n",
      "\tTotal number of rows in measured data: 1,376,281\n",
      "\tTotal number of rows in derived data: 1,835,000\n",
      "Total runtime: 0:03:44.95\n"
     ]
    },
    {
     "data": {
      "text/markdown": [
       "---"
      ],
      "text/plain": [
       "<IPython.core.display.Markdown object>"
      ]
     },
     "metadata": {},
     "output_type": "display_data"
    },
    {
     "data": {
      "text/markdown": [
       "### <span style=\"color:#54585A\"> <b>Processing data for: b3c8</b></span>"
      ],
      "text/plain": [
       "<IPython.core.display.Markdown object>"
      ]
     },
     "metadata": {},
     "output_type": "display_data"
    },
    {
     "name": "stdout",
     "output_type": "stream",
     "text": [
      "Checking for issues with length of cycle arrays...\n",
      "\tValues for all columns in a given cycle have arrays are the same length. Continuing...\n",
      "Exploding arrays into rows and storing cycle...\n",
      "\tTotal number of rows in measured data: 621,179\n",
      "\tTotal number of rows in derived data: 827,000\n",
      "Total runtime: 0:03:47.68\n"
     ]
    },
    {
     "data": {
      "text/markdown": [
       "---"
      ],
      "text/plain": [
       "<IPython.core.display.Markdown object>"
      ]
     },
     "metadata": {},
     "output_type": "display_data"
    },
    {
     "data": {
      "text/markdown": [
       "### <span style=\"color:#54585A\"> <b>Processing data for: b3c9</b></span>"
      ],
      "text/plain": [
       "<IPython.core.display.Markdown object>"
      ]
     },
     "metadata": {},
     "output_type": "display_data"
    },
    {
     "name": "stdout",
     "output_type": "stream",
     "text": [
      "Checking for issues with length of cycle arrays...\n",
      "\tValues for all columns in a given cycle have arrays are the same length. Continuing...\n",
      "Exploding arrays into rows and storing cycle...\n",
      "\tTotal number of rows in measured data: 792,025\n",
      "\tTotal number of rows in derived data: 1,038,000\n",
      "Total runtime: 0:03:51\n"
     ]
    },
    {
     "data": {
      "text/markdown": [
       "---"
      ],
      "text/plain": [
       "<IPython.core.display.Markdown object>"
      ]
     },
     "metadata": {},
     "output_type": "display_data"
    },
    {
     "data": {
      "text/markdown": [
       "### <span style=\"color:#54585A\"> <b>Processing data for: b3c10</b></span>"
      ],
      "text/plain": [
       "<IPython.core.display.Markdown object>"
      ]
     },
     "metadata": {},
     "output_type": "display_data"
    },
    {
     "name": "stdout",
     "output_type": "stream",
     "text": [
      "Checking for issues with length of cycle arrays...\n",
      "\tValues for all columns in a given cycle have arrays are the same length. Continuing...\n",
      "Exploding arrays into rows and storing cycle...\n",
      "\tTotal number of rows in measured data: 813,183\n",
      "\tTotal number of rows in derived data: 1,077,000\n",
      "Total runtime: 0:03:54.56\n"
     ]
    },
    {
     "data": {
      "text/markdown": [
       "---"
      ],
      "text/plain": [
       "<IPython.core.display.Markdown object>"
      ]
     },
     "metadata": {},
     "output_type": "display_data"
    },
    {
     "data": {
      "text/markdown": [
       "### <span style=\"color:#54585A\"> <b>Processing data for: b3c11</b></span>"
      ],
      "text/plain": [
       "<IPython.core.display.Markdown object>"
      ]
     },
     "metadata": {},
     "output_type": "display_data"
    },
    {
     "name": "stdout",
     "output_type": "stream",
     "text": [
      "Checking for issues with length of cycle arrays...\n",
      "\tValues for all columns in a given cycle have arrays are the same length. Continuing...\n",
      "Exploding arrays into rows and storing cycle...\n",
      "\tTotal number of rows in measured data: 634,412\n",
      "\tTotal number of rows in derived data: 816,000\n",
      "Total runtime: 0:03:57.61\n"
     ]
    },
    {
     "data": {
      "text/markdown": [
       "---"
      ],
      "text/plain": [
       "<IPython.core.display.Markdown object>"
      ]
     },
     "metadata": {},
     "output_type": "display_data"
    },
    {
     "data": {
      "text/markdown": [
       "### <span style=\"color:#54585A\"> <b>Processing data for: b3c12</b></span>"
      ],
      "text/plain": [
       "<IPython.core.display.Markdown object>"
      ]
     },
     "metadata": {},
     "output_type": "display_data"
    },
    {
     "name": "stdout",
     "output_type": "stream",
     "text": [
      "Checking for issues with length of cycle arrays...\n",
      "\tValues for all columns in a given cycle have arrays are the same length. Continuing...\n",
      "Exploding arrays into rows and storing cycle...\n",
      "\tTotal number of rows in measured data: 720,092\n",
      "\tTotal number of rows in derived data: 931,000\n",
      "Total runtime: 0:04:00.78\n"
     ]
    },
    {
     "data": {
      "text/markdown": [
       "---"
      ],
      "text/plain": [
       "<IPython.core.display.Markdown object>"
      ]
     },
     "metadata": {},
     "output_type": "display_data"
    },
    {
     "data": {
      "text/markdown": [
       "### <span style=\"color:#54585A\"> <b>Processing data for: b3c13</b></span>"
      ],
      "text/plain": [
       "<IPython.core.display.Markdown object>"
      ]
     },
     "metadata": {},
     "output_type": "display_data"
    },
    {
     "name": "stdout",
     "output_type": "stream",
     "text": [
      "Checking for issues with length of cycle arrays...\n",
      "\tValues for all columns in a given cycle have arrays are the same length. Continuing...\n",
      "Exploding arrays into rows and storing cycle...\n",
      "\tTotal number of rows in measured data: 628,900\n",
      "\tTotal number of rows in derived data: 815,000\n",
      "Total runtime: 0:04:03.34\n"
     ]
    },
    {
     "data": {
      "text/markdown": [
       "---"
      ],
      "text/plain": [
       "<IPython.core.display.Markdown object>"
      ]
     },
     "metadata": {},
     "output_type": "display_data"
    },
    {
     "data": {
      "text/markdown": [
       "### <span style=\"color:#54585A\"> <b>Processing data for: b3c14</b></span>"
      ],
      "text/plain": [
       "<IPython.core.display.Markdown object>"
      ]
     },
     "metadata": {},
     "output_type": "display_data"
    },
    {
     "name": "stdout",
     "output_type": "stream",
     "text": [
      "Checking for issues with length of cycle arrays...\n",
      "\tValues for all columns in a given cycle have arrays are the same length. Continuing...\n",
      "Exploding arrays into rows and storing cycle...\n",
      "\tTotal number of rows in measured data: 664,686\n",
      "\tTotal number of rows in derived data: 857,000\n",
      "Total runtime: 0:04:06.02\n"
     ]
    },
    {
     "data": {
      "text/markdown": [
       "---"
      ],
      "text/plain": [
       "<IPython.core.display.Markdown object>"
      ]
     },
     "metadata": {},
     "output_type": "display_data"
    },
    {
     "data": {
      "text/markdown": [
       "### <span style=\"color:#54585A\"> <b>Processing data for: b3c15</b></span>"
      ],
      "text/plain": [
       "<IPython.core.display.Markdown object>"
      ]
     },
     "metadata": {},
     "output_type": "display_data"
    },
    {
     "name": "stdout",
     "output_type": "stream",
     "text": [
      "Checking for issues with length of cycle arrays...\n",
      "\tValues for all columns in a given cycle have arrays are the same length. Continuing...\n",
      "Exploding arrays into rows and storing cycle...\n",
      "\tTotal number of rows in measured data: 677,509\n",
      "\tTotal number of rows in derived data: 875,000\n",
      "Total runtime: 0:04:08.77\n"
     ]
    },
    {
     "data": {
      "text/markdown": [
       "---"
      ],
      "text/plain": [
       "<IPython.core.display.Markdown object>"
      ]
     },
     "metadata": {},
     "output_type": "display_data"
    },
    {
     "data": {
      "text/markdown": [
       "### <span style=\"color:#54585A\"> <b>Processing data for: b3c16</b></span>"
      ],
      "text/plain": [
       "<IPython.core.display.Markdown object>"
      ]
     },
     "metadata": {},
     "output_type": "display_data"
    },
    {
     "name": "stdout",
     "output_type": "stream",
     "text": [
      "Checking for issues with length of cycle arrays...\n",
      "\tValues for all columns in a given cycle have arrays are the same length. Continuing...\n",
      "Exploding arrays into rows and storing cycle...\n",
      "\tTotal number of rows in measured data: 1,187,584\n",
      "\tTotal number of rows in derived data: 1,637,000\n",
      "Total runtime: 0:04:14.01\n"
     ]
    },
    {
     "data": {
      "text/markdown": [
       "---"
      ],
      "text/plain": [
       "<IPython.core.display.Markdown object>"
      ]
     },
     "metadata": {},
     "output_type": "display_data"
    },
    {
     "data": {
      "text/markdown": [
       "### <span style=\"color:#54585A\"> <b>Processing data for: b3c17</b></span>"
      ],
      "text/plain": [
       "<IPython.core.display.Markdown object>"
      ]
     },
     "metadata": {},
     "output_type": "display_data"
    },
    {
     "name": "stdout",
     "output_type": "stream",
     "text": [
      "Checking for issues with length of cycle arrays...\n",
      "\tValues for all columns in a given cycle have arrays are the same length. Continuing...\n",
      "Exploding arrays into rows and storing cycle...\n",
      "\tTotal number of rows in measured data: 936,102\n",
      "\tTotal number of rows in derived data: 1,314,000\n",
      "Total runtime: 0:04:18.36\n"
     ]
    },
    {
     "data": {
      "text/markdown": [
       "---"
      ],
      "text/plain": [
       "<IPython.core.display.Markdown object>"
      ]
     },
     "metadata": {},
     "output_type": "display_data"
    },
    {
     "data": {
      "text/markdown": [
       "### <span style=\"color:#54585A\"> <b>Processing data for: b3c18</b></span>"
      ],
      "text/plain": [
       "<IPython.core.display.Markdown object>"
      ]
     },
     "metadata": {},
     "output_type": "display_data"
    },
    {
     "name": "stdout",
     "output_type": "stream",
     "text": [
      "Checking for issues with length of cycle arrays...\n",
      "\tValues for all columns in a given cycle have arrays are the same length. Continuing...\n",
      "Exploding arrays into rows and storing cycle...\n",
      "\tTotal number of rows in measured data: 845,256\n",
      "\tTotal number of rows in derived data: 1,145,000\n",
      "Total runtime: 0:04:22.39\n"
     ]
    },
    {
     "data": {
      "text/markdown": [
       "---"
      ],
      "text/plain": [
       "<IPython.core.display.Markdown object>"
      ]
     },
     "metadata": {},
     "output_type": "display_data"
    },
    {
     "data": {
      "text/markdown": [
       "### <span style=\"color:#54585A\"> <b>Processing data for: b3c19</b></span>"
      ],
      "text/plain": [
       "<IPython.core.display.Markdown object>"
      ]
     },
     "metadata": {},
     "output_type": "display_data"
    },
    {
     "name": "stdout",
     "output_type": "stream",
     "text": [
      "Checking for issues with length of cycle arrays...\n",
      "\tValues for all columns in a given cycle have arrays are the same length. Continuing...\n",
      "Exploding arrays into rows and storing cycle...\n",
      "\tTotal number of rows in measured data: 846,180\n",
      "\tTotal number of rows in derived data: 1,154,000\n",
      "Total runtime: 0:04:26.24\n"
     ]
    },
    {
     "data": {
      "text/markdown": [
       "---"
      ],
      "text/plain": [
       "<IPython.core.display.Markdown object>"
      ]
     },
     "metadata": {},
     "output_type": "display_data"
    },
    {
     "data": {
      "text/markdown": [
       "### <span style=\"color:#54585A\"> <b>Processing data for: b3c20</b></span>"
      ],
      "text/plain": [
       "<IPython.core.display.Markdown object>"
      ]
     },
     "metadata": {},
     "output_type": "display_data"
    },
    {
     "name": "stdout",
     "output_type": "stream",
     "text": [
      "Checking for issues with length of cycle arrays...\n",
      "\tValues for all columns in a given cycle have arrays are the same length. Continuing...\n",
      "Exploding arrays into rows and storing cycle...\n",
      "\tTotal number of rows in measured data: 611,399\n",
      "\tTotal number of rows in derived data: 812,000\n",
      "Total runtime: 0:04:28.94\n"
     ]
    },
    {
     "data": {
      "text/markdown": [
       "---"
      ],
      "text/plain": [
       "<IPython.core.display.Markdown object>"
      ]
     },
     "metadata": {},
     "output_type": "display_data"
    },
    {
     "data": {
      "text/markdown": [
       "### <span style=\"color:#54585A\"> <b>Processing data for: b3c21</b></span>"
      ],
      "text/plain": [
       "<IPython.core.display.Markdown object>"
      ]
     },
     "metadata": {},
     "output_type": "display_data"
    },
    {
     "name": "stdout",
     "output_type": "stream",
     "text": [
      "Checking for issues with length of cycle arrays...\n",
      "\tValues for all columns in a given cycle have arrays are the same length. Continuing...\n",
      "Exploding arrays into rows and storing cycle...\n",
      "\tTotal number of rows in measured data: 665,390\n",
      "\tTotal number of rows in derived data: 771,000\n",
      "Total runtime: 0:04:31.53\n"
     ]
    },
    {
     "data": {
      "text/markdown": [
       "---"
      ],
      "text/plain": [
       "<IPython.core.display.Markdown object>"
      ]
     },
     "metadata": {},
     "output_type": "display_data"
    },
    {
     "data": {
      "text/markdown": [
       "### <span style=\"color:#54585A\"> <b>Processing data for: b3c22</b></span>"
      ],
      "text/plain": [
       "<IPython.core.display.Markdown object>"
      ]
     },
     "metadata": {},
     "output_type": "display_data"
    },
    {
     "name": "stdout",
     "output_type": "stream",
     "text": [
      "Checking for issues with length of cycle arrays...\n",
      "\tValues for all columns in a given cycle have arrays are the same length. Continuing...\n",
      "Exploding arrays into rows and storing cycle...\n",
      "\tTotal number of rows in measured data: 721,926\n",
      "\tTotal number of rows in derived data: 1,001,000\n",
      "Total runtime: 0:04:34.72\n"
     ]
    },
    {
     "data": {
      "text/markdown": [
       "---"
      ],
      "text/plain": [
       "<IPython.core.display.Markdown object>"
      ]
     },
     "metadata": {},
     "output_type": "display_data"
    },
    {
     "data": {
      "text/markdown": [
       "### <span style=\"color:#54585A\"> <b>Processing data for: b3c24</b></span>"
      ],
      "text/plain": [
       "<IPython.core.display.Markdown object>"
      ]
     },
     "metadata": {},
     "output_type": "display_data"
    },
    {
     "name": "stdout",
     "output_type": "stream",
     "text": [
      "Checking for issues with length of cycle arrays...\n",
      "\tValues for all columns in a given cycle have arrays are the same length. Continuing...\n",
      "Exploding arrays into rows and storing cycle...\n",
      "\tTotal number of rows in measured data: 608,125\n",
      "\tTotal number of rows in derived data: 824,000\n",
      "Total runtime: 0:04:37.39\n"
     ]
    },
    {
     "data": {
      "text/markdown": [
       "---"
      ],
      "text/plain": [
       "<IPython.core.display.Markdown object>"
      ]
     },
     "metadata": {},
     "output_type": "display_data"
    },
    {
     "data": {
      "text/markdown": [
       "### <span style=\"color:#54585A\"> <b>Processing data for: b3c25</b></span>"
      ],
      "text/plain": [
       "<IPython.core.display.Markdown object>"
      ]
     },
     "metadata": {},
     "output_type": "display_data"
    },
    {
     "name": "stdout",
     "output_type": "stream",
     "text": [
      "Checking for issues with length of cycle arrays...\n",
      "\tValues for all columns in a given cycle have arrays are the same length. Continuing...\n",
      "Exploding arrays into rows and storing cycle...\n",
      "\tTotal number of rows in measured data: 731,123\n",
      "\tTotal number of rows in derived data: 988,000\n",
      "Total runtime: 0:04:40.7\n"
     ]
    },
    {
     "data": {
      "text/markdown": [
       "---"
      ],
      "text/plain": [
       "<IPython.core.display.Markdown object>"
      ]
     },
     "metadata": {},
     "output_type": "display_data"
    },
    {
     "data": {
      "text/markdown": [
       "### <span style=\"color:#54585A\"> <b>Processing data for: b3c26</b></span>"
      ],
      "text/plain": [
       "<IPython.core.display.Markdown object>"
      ]
     },
     "metadata": {},
     "output_type": "display_data"
    },
    {
     "name": "stdout",
     "output_type": "stream",
     "text": [
      "Checking for issues with length of cycle arrays...\n",
      "\tValues for all columns in a given cycle have arrays are the same length. Continuing...\n",
      "Exploding arrays into rows and storing cycle...\n",
      "\tTotal number of rows in measured data: 780,987\n",
      "\tTotal number of rows in derived data: 1,027,000\n",
      "Total runtime: 0:04:44.09\n"
     ]
    },
    {
     "data": {
      "text/markdown": [
       "---"
      ],
      "text/plain": [
       "<IPython.core.display.Markdown object>"
      ]
     },
     "metadata": {},
     "output_type": "display_data"
    },
    {
     "data": {
      "text/markdown": [
       "### <span style=\"color:#54585A\"> <b>Processing data for: b3c27</b></span>"
      ],
      "text/plain": [
       "<IPython.core.display.Markdown object>"
      ]
     },
     "metadata": {},
     "output_type": "display_data"
    },
    {
     "name": "stdout",
     "output_type": "stream",
     "text": [
      "Checking for issues with length of cycle arrays...\n",
      "\tValues for all columns in a given cycle have arrays are the same length. Continuing...\n",
      "Exploding arrays into rows and storing cycle...\n",
      "\tTotal number of rows in measured data: 634,299\n",
      "\tTotal number of rows in derived data: 849,000\n",
      "Total runtime: 0:04:46.84\n"
     ]
    },
    {
     "data": {
      "text/markdown": [
       "---"
      ],
      "text/plain": [
       "<IPython.core.display.Markdown object>"
      ]
     },
     "metadata": {},
     "output_type": "display_data"
    },
    {
     "data": {
      "text/markdown": [
       "### <span style=\"color:#54585A\"> <b>Processing data for: b3c28</b></span>"
      ],
      "text/plain": [
       "<IPython.core.display.Markdown object>"
      ]
     },
     "metadata": {},
     "output_type": "display_data"
    },
    {
     "name": "stdout",
     "output_type": "stream",
     "text": [
      "Checking for issues with length of cycle arrays...\n",
      "\tValues for all columns in a given cycle have arrays are the same length. Continuing...\n",
      "Exploding arrays into rows and storing cycle...\n",
      "\tTotal number of rows in measured data: 462,915\n",
      "\tTotal number of rows in derived data: 540,000\n",
      "Total runtime: 0:04:48.57\n"
     ]
    },
    {
     "data": {
      "text/markdown": [
       "---"
      ],
      "text/plain": [
       "<IPython.core.display.Markdown object>"
      ]
     },
     "metadata": {},
     "output_type": "display_data"
    },
    {
     "data": {
      "text/markdown": [
       "### <span style=\"color:#54585A\"> <b>Processing data for: b3c29</b></span>"
      ],
      "text/plain": [
       "<IPython.core.display.Markdown object>"
      ]
     },
     "metadata": {},
     "output_type": "display_data"
    },
    {
     "name": "stdout",
     "output_type": "stream",
     "text": [
      "Checking for issues with length of cycle arrays...\n",
      "\tValues for all columns in a given cycle have arrays are the same length. Continuing...\n",
      "Exploding arrays into rows and storing cycle...\n",
      "\tTotal number of rows in measured data: 658,927\n",
      "\tTotal number of rows in derived data: 857,000\n",
      "Total runtime: 0:04:51.38\n"
     ]
    },
    {
     "data": {
      "text/markdown": [
       "---"
      ],
      "text/plain": [
       "<IPython.core.display.Markdown object>"
      ]
     },
     "metadata": {},
     "output_type": "display_data"
    },
    {
     "data": {
      "text/markdown": [
       "### <span style=\"color:#54585A\"> <b>Processing data for: b3c30</b></span>"
      ],
      "text/plain": [
       "<IPython.core.display.Markdown object>"
      ]
     },
     "metadata": {},
     "output_type": "display_data"
    },
    {
     "name": "stdout",
     "output_type": "stream",
     "text": [
      "Checking for issues with length of cycle arrays...\n",
      "\tValues for all columns in a given cycle have arrays are the same length. Continuing...\n",
      "Exploding arrays into rows and storing cycle...\n",
      "\tTotal number of rows in measured data: 697,079\n",
      "\tTotal number of rows in derived data: 934,000\n",
      "Total runtime: 0:04:54.38\n"
     ]
    },
    {
     "data": {
      "text/markdown": [
       "---"
      ],
      "text/plain": [
       "<IPython.core.display.Markdown object>"
      ]
     },
     "metadata": {},
     "output_type": "display_data"
    },
    {
     "data": {
      "text/markdown": [
       "### <span style=\"color:#54585A\"> <b>Processing data for: b3c31</b></span>"
      ],
      "text/plain": [
       "<IPython.core.display.Markdown object>"
      ]
     },
     "metadata": {},
     "output_type": "display_data"
    },
    {
     "name": "stdout",
     "output_type": "stream",
     "text": [
      "Checking for issues with length of cycle arrays...\n",
      "\tValues for all columns in a given cycle have arrays are the same length. Continuing...\n",
      "Exploding arrays into rows and storing cycle...\n",
      "\tTotal number of rows in measured data: 554,216\n",
      "\tTotal number of rows in derived data: 730,000\n",
      "Total runtime: 0:04:56.79\n"
     ]
    },
    {
     "data": {
      "text/markdown": [
       "---"
      ],
      "text/plain": [
       "<IPython.core.display.Markdown object>"
      ]
     },
     "metadata": {},
     "output_type": "display_data"
    },
    {
     "data": {
      "text/markdown": [
       "### <span style=\"color:#54585A\"> <b>Processing data for: b3c33</b></span>"
      ],
      "text/plain": [
       "<IPython.core.display.Markdown object>"
      ]
     },
     "metadata": {},
     "output_type": "display_data"
    },
    {
     "name": "stdout",
     "output_type": "stream",
     "text": [
      "Checking for issues with length of cycle arrays...\n",
      "\tValues for all columns in a given cycle have arrays are the same length. Continuing...\n",
      "Exploding arrays into rows and storing cycle...\n",
      "\tTotal number of rows in measured data: 899,735\n",
      "\tTotal number of rows in derived data: 1,283,000\n",
      "Total runtime: 0:05:00.92\n"
     ]
    },
    {
     "data": {
      "text/markdown": [
       "---"
      ],
      "text/plain": [
       "<IPython.core.display.Markdown object>"
      ]
     },
     "metadata": {},
     "output_type": "display_data"
    },
    {
     "data": {
      "text/markdown": [
       "### <span style=\"color:#54585A\"> <b>Processing data for: b3c34</b></span>"
      ],
      "text/plain": [
       "<IPython.core.display.Markdown object>"
      ]
     },
     "metadata": {},
     "output_type": "display_data"
    },
    {
     "name": "stdout",
     "output_type": "stream",
     "text": [
      "Checking for issues with length of cycle arrays...\n",
      "\tValues for all columns in a given cycle have arrays are the same length. Continuing...\n",
      "Exploding arrays into rows and storing cycle...\n",
      "\tTotal number of rows in measured data: 820,735\n",
      "\tTotal number of rows in derived data: 1,157,000\n",
      "Total runtime: 0:05:04.59\n"
     ]
    },
    {
     "data": {
      "text/markdown": [
       "---"
      ],
      "text/plain": [
       "<IPython.core.display.Markdown object>"
      ]
     },
     "metadata": {},
     "output_type": "display_data"
    },
    {
     "data": {
      "text/markdown": [
       "### <span style=\"color:#54585A\"> <b>Processing data for: b3c35</b></span>"
      ],
      "text/plain": [
       "<IPython.core.display.Markdown object>"
      ]
     },
     "metadata": {},
     "output_type": "display_data"
    },
    {
     "name": "stdout",
     "output_type": "stream",
     "text": [
      "Checking for issues with length of cycle arrays...\n",
      "\tValues for all columns in a given cycle have arrays are the same length. Continuing...\n",
      "Exploding arrays into rows and storing cycle...\n",
      "\tTotal number of rows in measured data: 808,369\n",
      "\tTotal number of rows in derived data: 1,092,000\n",
      "Total runtime: 0:05:08.19\n"
     ]
    },
    {
     "data": {
      "text/markdown": [
       "---"
      ],
      "text/plain": [
       "<IPython.core.display.Markdown object>"
      ]
     },
     "metadata": {},
     "output_type": "display_data"
    },
    {
     "data": {
      "text/markdown": [
       "### <span style=\"color:#54585A\"> <b>Processing data for: b3c36</b></span>"
      ],
      "text/plain": [
       "<IPython.core.display.Markdown object>"
      ]
     },
     "metadata": {},
     "output_type": "display_data"
    },
    {
     "name": "stdout",
     "output_type": "stream",
     "text": [
      "Checking for issues with length of cycle arrays...\n",
      "\tValues for all columns in a given cycle have arrays are the same length. Continuing...\n",
      "Exploding arrays into rows and storing cycle...\n",
      "\tTotal number of rows in measured data: 678,650\n",
      "\tTotal number of rows in derived data: 922,000\n",
      "Total runtime: 0:05:11.4\n"
     ]
    },
    {
     "data": {
      "text/markdown": [
       "---"
      ],
      "text/plain": [
       "<IPython.core.display.Markdown object>"
      ]
     },
     "metadata": {},
     "output_type": "display_data"
    },
    {
     "data": {
      "text/markdown": [
       "### <span style=\"color:#54585A\"> <b>Processing data for: b3c38</b></span>"
      ],
      "text/plain": [
       "<IPython.core.display.Markdown object>"
      ]
     },
     "metadata": {},
     "output_type": "display_data"
    },
    {
     "name": "stdout",
     "output_type": "stream",
     "text": [
      "Checking for issues with length of cycle arrays...\n",
      "\tValues for all columns in a given cycle have arrays are the same length. Continuing...\n",
      "Exploding arrays into rows and storing cycle...\n",
      "\tTotal number of rows in measured data: 1,373,373\n",
      "\tTotal number of rows in derived data: 1,934,000\n",
      "Total runtime: 0:05:18.03\n"
     ]
    },
    {
     "data": {
      "text/markdown": [
       "---"
      ],
      "text/plain": [
       "<IPython.core.display.Markdown object>"
      ]
     },
     "metadata": {},
     "output_type": "display_data"
    },
    {
     "data": {
      "text/markdown": [
       "### <span style=\"color:#54585A\"> <b>Processing data for: b3c39</b></span>"
      ],
      "text/plain": [
       "<IPython.core.display.Markdown object>"
      ]
     },
     "metadata": {},
     "output_type": "display_data"
    },
    {
     "name": "stdout",
     "output_type": "stream",
     "text": [
      "Checking for issues with length of cycle arrays...\n",
      "\tValues for all columns in a given cycle have arrays are the same length. Continuing...\n",
      "Exploding arrays into rows and storing cycle...\n",
      "\tTotal number of rows in measured data: 798,693\n",
      "\tTotal number of rows in derived data: 1,155,000\n",
      "Total runtime: 0:05:21.72\n"
     ]
    },
    {
     "data": {
      "text/markdown": [
       "---"
      ],
      "text/plain": [
       "<IPython.core.display.Markdown object>"
      ]
     },
     "metadata": {},
     "output_type": "display_data"
    },
    {
     "data": {
      "text/markdown": [
       "### <span style=\"color:#54585A\"> <b>Processing data for: b3c40</b></span>"
      ],
      "text/plain": [
       "<IPython.core.display.Markdown object>"
      ]
     },
     "metadata": {},
     "output_type": "display_data"
    },
    {
     "name": "stdout",
     "output_type": "stream",
     "text": [
      "Checking for issues with length of cycle arrays...\n",
      "\tValues for all columns in a given cycle have arrays are the same length. Continuing...\n",
      "Exploding arrays into rows and storing cycle...\n",
      "\tTotal number of rows in measured data: 606,303\n",
      "\tTotal number of rows in derived data: 795,000\n",
      "Total runtime: 0:05:24.74\n"
     ]
    },
    {
     "data": {
      "text/markdown": [
       "---"
      ],
      "text/plain": [
       "<IPython.core.display.Markdown object>"
      ]
     },
     "metadata": {},
     "output_type": "display_data"
    },
    {
     "data": {
      "text/markdown": [
       "### <span style=\"color:#54585A\"> <b>Processing data for: b3c41</b></span>"
      ],
      "text/plain": [
       "<IPython.core.display.Markdown object>"
      ]
     },
     "metadata": {},
     "output_type": "display_data"
    },
    {
     "name": "stdout",
     "output_type": "stream",
     "text": [
      "Checking for issues with length of cycle arrays...\n",
      "\tValues for all columns in a given cycle have arrays are the same length. Continuing...\n",
      "Exploding arrays into rows and storing cycle...\n",
      "\tTotal number of rows in measured data: 586,121\n",
      "\tTotal number of rows in derived data: 785,000\n",
      "Total runtime: 0:05:27.26\n"
     ]
    },
    {
     "data": {
      "text/markdown": [
       "---"
      ],
      "text/plain": [
       "<IPython.core.display.Markdown object>"
      ]
     },
     "metadata": {},
     "output_type": "display_data"
    },
    {
     "data": {
      "text/markdown": [
       "### <span style=\"color:#54585A\"> <b>Processing data for: b3c44</b></span>"
      ],
      "text/plain": [
       "<IPython.core.display.Markdown object>"
      ]
     },
     "metadata": {},
     "output_type": "display_data"
    },
    {
     "name": "stdout",
     "output_type": "stream",
     "text": [
      "Checking for issues with length of cycle arrays...\n",
      "\tValues for all columns in a given cycle have arrays are the same length. Continuing...\n",
      "Exploding arrays into rows and storing cycle...\n",
      "\tTotal number of rows in measured data: 709,848\n",
      "\tTotal number of rows in derived data: 939,000\n",
      "Total runtime: 0:05:30.45\n"
     ]
    },
    {
     "data": {
      "text/markdown": [
       "---"
      ],
      "text/plain": [
       "<IPython.core.display.Markdown object>"
      ]
     },
     "metadata": {},
     "output_type": "display_data"
    },
    {
     "data": {
      "text/markdown": [
       "### <span style=\"color:#54585A\"> <b>Processing data for: b3c45</b></span>"
      ],
      "text/plain": [
       "<IPython.core.display.Markdown object>"
      ]
     },
     "metadata": {},
     "output_type": "display_data"
    },
    {
     "name": "stdout",
     "output_type": "stream",
     "text": [
      "Checking for issues with length of cycle arrays...\n",
      "\tValues for all columns in a given cycle have arrays are the same length. Continuing...\n",
      "Exploding arrays into rows and storing cycle...\n",
      "\tTotal number of rows in measured data: 1,313,011\n",
      "\tTotal number of rows in derived data: 1,800,000\n",
      "Total runtime: 0:05:36.85\n"
     ]
    },
    {
     "data": {
      "text/markdown": [
       "---"
      ],
      "text/plain": [
       "<IPython.core.display.Markdown object>"
      ]
     },
     "metadata": {},
     "output_type": "display_data"
    },
    {
     "data": {
      "text/markdown": [
       "## <span style=\"color:#003057\"> <b>Combining Measured & Derived Data</b></span>"
      ],
      "text/plain": [
       "<IPython.core.display.Markdown object>"
      ]
     },
     "metadata": {},
     "output_type": "display_data"
    },
    {
     "data": {
      "text/markdown": [
       "### <span style=\"color:#54585A\"> <b>Measured Data</b></span>"
      ],
      "text/plain": [
       "<IPython.core.display.Markdown object>"
      ]
     },
     "metadata": {},
     "output_type": "display_data"
    },
    {
     "data": {
      "text/html": [
       "<div>\n",
       "<style scoped>\n",
       "    .dataframe tbody tr th:only-of-type {\n",
       "        vertical-align: middle;\n",
       "    }\n",
       "\n",
       "    .dataframe tbody tr th {\n",
       "        vertical-align: top;\n",
       "    }\n",
       "\n",
       "    .dataframe thead th {\n",
       "        text-align: right;\n",
       "    }\n",
       "</style>\n",
       "<table border=\"1\" class=\"dataframe\">\n",
       "  <thead>\n",
       "    <tr style=\"text-align: right;\">\n",
       "      <th></th>\n",
       "      <th>batch</th>\n",
       "      <th>CycleIdx</th>\n",
       "      <th>I</th>\n",
       "      <th>Qc</th>\n",
       "      <th>Qd</th>\n",
       "      <th>T</th>\n",
       "      <th>V</th>\n",
       "      <th>t</th>\n",
       "    </tr>\n",
       "  </thead>\n",
       "  <tbody>\n",
       "    <tr>\n",
       "      <th>0</th>\n",
       "      <td>b1c0</td>\n",
       "      <td>1</td>\n",
       "      <td>0</td>\n",
       "      <td>0</td>\n",
       "      <td>0</td>\n",
       "      <td>0</td>\n",
       "      <td>0</td>\n",
       "      <td>0</td>\n",
       "    </tr>\n",
       "    <tr>\n",
       "      <th>1</th>\n",
       "      <td>b1c0</td>\n",
       "      <td>1</td>\n",
       "      <td>0</td>\n",
       "      <td>0</td>\n",
       "      <td>0</td>\n",
       "      <td>0</td>\n",
       "      <td>0</td>\n",
       "      <td>0</td>\n",
       "    </tr>\n",
       "    <tr>\n",
       "      <th>2</th>\n",
       "      <td>b1c0</td>\n",
       "      <td>2</td>\n",
       "      <td>0.0</td>\n",
       "      <td>0.0</td>\n",
       "      <td>0.0</td>\n",
       "      <td>31.632496</td>\n",
       "      <td>2.026416</td>\n",
       "      <td>0.0</td>\n",
       "    </tr>\n",
       "    <tr>\n",
       "      <th>3</th>\n",
       "      <td>b1c0</td>\n",
       "      <td>2</td>\n",
       "      <td>0.215908</td>\n",
       "      <td>0.000001</td>\n",
       "      <td>0.0</td>\n",
       "      <td>31.632496</td>\n",
       "      <td>2.039388</td>\n",
       "      <td>0.002417</td>\n",
       "    </tr>\n",
       "    <tr>\n",
       "      <th>4</th>\n",
       "      <td>b1c0</td>\n",
       "      <td>2</td>\n",
       "      <td>0.359831</td>\n",
       "      <td>0.000001</td>\n",
       "      <td>0.0</td>\n",
       "      <td>31.632496</td>\n",
       "      <td>2.05166</td>\n",
       "      <td>0.002912</td>\n",
       "    </tr>\n",
       "    <tr>\n",
       "      <th>...</th>\n",
       "      <td>...</td>\n",
       "      <td>...</td>\n",
       "      <td>...</td>\n",
       "      <td>...</td>\n",
       "      <td>...</td>\n",
       "      <td>...</td>\n",
       "      <td>...</td>\n",
       "      <td>...</td>\n",
       "    </tr>\n",
       "    <tr>\n",
       "      <th>99006649</th>\n",
       "      <td>b3c45</td>\n",
       "      <td>1800</td>\n",
       "      <td>0.0</td>\n",
       "      <td>0.880991</td>\n",
       "      <td>0.880473</td>\n",
       "      <td>33.654392</td>\n",
       "      <td>2.037572</td>\n",
       "      <td>34.026343</td>\n",
       "    </tr>\n",
       "    <tr>\n",
       "      <th>99006650</th>\n",
       "      <td>b3c45</td>\n",
       "      <td>1800</td>\n",
       "      <td>0.0</td>\n",
       "      <td>0.880991</td>\n",
       "      <td>0.880473</td>\n",
       "      <td>33.632633</td>\n",
       "      <td>2.052066</td>\n",
       "      <td>34.043017</td>\n",
       "    </tr>\n",
       "    <tr>\n",
       "      <th>99006651</th>\n",
       "      <td>b3c45</td>\n",
       "      <td>1800</td>\n",
       "      <td>0.0</td>\n",
       "      <td>0.880991</td>\n",
       "      <td>0.880473</td>\n",
       "      <td>33.61088</td>\n",
       "      <td>2.065194</td>\n",
       "      <td>34.059685</td>\n",
       "    </tr>\n",
       "    <tr>\n",
       "      <th>99006652</th>\n",
       "      <td>b3c45</td>\n",
       "      <td>1800</td>\n",
       "      <td>0.0</td>\n",
       "      <td>0.880991</td>\n",
       "      <td>0.880473</td>\n",
       "      <td>33.589129</td>\n",
       "      <td>2.077281</td>\n",
       "      <td>34.076352</td>\n",
       "    </tr>\n",
       "    <tr>\n",
       "      <th>99006653</th>\n",
       "      <td>b3c45</td>\n",
       "      <td>1800</td>\n",
       "      <td>0.0</td>\n",
       "      <td>0.880991</td>\n",
       "      <td>0.880473</td>\n",
       "      <td>33.589118</td>\n",
       "      <td>2.077281</td>\n",
       "      <td>34.076402</td>\n",
       "    </tr>\n",
       "  </tbody>\n",
       "</table>\n",
       "<p>99006654 rows × 8 columns</p>\n",
       "</div>"
      ],
      "text/plain": [
       "          batch  CycleIdx         I        Qc        Qd          T         V  \\\n",
       "0          b1c0         1         0         0         0          0         0   \n",
       "1          b1c0         1         0         0         0          0         0   \n",
       "2          b1c0         2       0.0       0.0       0.0  31.632496  2.026416   \n",
       "3          b1c0         2  0.215908  0.000001       0.0  31.632496  2.039388   \n",
       "4          b1c0         2  0.359831  0.000001       0.0  31.632496   2.05166   \n",
       "...         ...       ...       ...       ...       ...        ...       ...   \n",
       "99006649  b3c45      1800       0.0  0.880991  0.880473  33.654392  2.037572   \n",
       "99006650  b3c45      1800       0.0  0.880991  0.880473  33.632633  2.052066   \n",
       "99006651  b3c45      1800       0.0  0.880991  0.880473   33.61088  2.065194   \n",
       "99006652  b3c45      1800       0.0  0.880991  0.880473  33.589129  2.077281   \n",
       "99006653  b3c45      1800       0.0  0.880991  0.880473  33.589118  2.077281   \n",
       "\n",
       "                  t  \n",
       "0                 0  \n",
       "1                 0  \n",
       "2               0.0  \n",
       "3          0.002417  \n",
       "4          0.002912  \n",
       "...             ...  \n",
       "99006649  34.026343  \n",
       "99006650  34.043017  \n",
       "99006651  34.059685  \n",
       "99006652  34.076352  \n",
       "99006653  34.076402  \n",
       "\n",
       "[99006654 rows x 8 columns]"
      ]
     },
     "metadata": {},
     "output_type": "display_data"
    },
    {
     "name": "stdout",
     "output_type": "stream",
     "text": [
      "<class 'pandas.core.frame.DataFrame'>\n",
      "RangeIndex: 99006654 entries, 0 to 99006653\n",
      "Data columns (total 8 columns):\n",
      " #   Column    Dtype \n",
      "---  ------    ----- \n",
      " 0   batch     object\n",
      " 1   CycleIdx  int64 \n",
      " 2   I         object\n",
      " 3   Qc        object\n",
      " 4   Qd        object\n",
      " 5   T         object\n",
      " 6   V         object\n",
      " 7   t         object\n",
      "dtypes: int64(1), object(7)\n",
      "memory usage: 28.6 GB\n"
     ]
    },
    {
     "data": {
      "text/markdown": [
       "### <span style=\"color:#54585A\"> <b>Derived Data</b></span>"
      ],
      "text/plain": [
       "<IPython.core.display.Markdown object>"
      ]
     },
     "metadata": {},
     "output_type": "display_data"
    },
    {
     "data": {
      "text/html": [
       "<div>\n",
       "<style scoped>\n",
       "    .dataframe tbody tr th:only-of-type {\n",
       "        vertical-align: middle;\n",
       "    }\n",
       "\n",
       "    .dataframe tbody tr th {\n",
       "        vertical-align: top;\n",
       "    }\n",
       "\n",
       "    .dataframe thead th {\n",
       "        text-align: right;\n",
       "    }\n",
       "</style>\n",
       "<table border=\"1\" class=\"dataframe\">\n",
       "  <thead>\n",
       "    <tr style=\"text-align: right;\">\n",
       "      <th></th>\n",
       "      <th>batch</th>\n",
       "      <th>CycleIdx</th>\n",
       "      <th>Qdlin</th>\n",
       "      <th>Tdlin</th>\n",
       "      <th>dQdV</th>\n",
       "    </tr>\n",
       "  </thead>\n",
       "  <tbody>\n",
       "    <tr>\n",
       "      <th>0</th>\n",
       "      <td>b1c0</td>\n",
       "      <td>1</td>\n",
       "      <td>0</td>\n",
       "      <td>0</td>\n",
       "      <td>0</td>\n",
       "    </tr>\n",
       "    <tr>\n",
       "      <th>1</th>\n",
       "      <td>b1c0</td>\n",
       "      <td>1</td>\n",
       "      <td>0</td>\n",
       "      <td>0</td>\n",
       "      <td>0</td>\n",
       "    </tr>\n",
       "    <tr>\n",
       "      <th>2</th>\n",
       "      <td>b1c0</td>\n",
       "      <td>2</td>\n",
       "      <td>-0.000357</td>\n",
       "      <td>29.585882</td>\n",
       "      <td>-0.01269</td>\n",
       "    </tr>\n",
       "    <tr>\n",
       "      <th>3</th>\n",
       "      <td>b1c0</td>\n",
       "      <td>2</td>\n",
       "      <td>-0.000319</td>\n",
       "      <td>29.58589</td>\n",
       "      <td>-0.01269</td>\n",
       "    </tr>\n",
       "    <tr>\n",
       "      <th>4</th>\n",
       "      <td>b1c0</td>\n",
       "      <td>2</td>\n",
       "      <td>-0.000282</td>\n",
       "      <td>29.585896</td>\n",
       "      <td>-0.01269</td>\n",
       "    </tr>\n",
       "    <tr>\n",
       "      <th>...</th>\n",
       "      <td>...</td>\n",
       "      <td>...</td>\n",
       "      <td>...</td>\n",
       "      <td>...</td>\n",
       "      <td>...</td>\n",
       "    </tr>\n",
       "    <tr>\n",
       "      <th>100460077</th>\n",
       "      <td>b3c45</td>\n",
       "      <td>1800</td>\n",
       "      <td>0.833907</td>\n",
       "      <td>32.628174</td>\n",
       "      <td>-0.104053</td>\n",
       "    </tr>\n",
       "    <tr>\n",
       "      <th>100460078</th>\n",
       "      <td>b3c45</td>\n",
       "      <td>1800</td>\n",
       "      <td>0.833935</td>\n",
       "      <td>32.628602</td>\n",
       "      <td>-0.099304</td>\n",
       "    </tr>\n",
       "    <tr>\n",
       "      <th>100460079</th>\n",
       "      <td>b3c45</td>\n",
       "      <td>1800</td>\n",
       "      <td>0.833964</td>\n",
       "      <td>32.62903</td>\n",
       "      <td>-0.090756</td>\n",
       "    </tr>\n",
       "    <tr>\n",
       "      <th>100460080</th>\n",
       "      <td>b3c45</td>\n",
       "      <td>1800</td>\n",
       "      <td>0.833994</td>\n",
       "      <td>32.629458</td>\n",
       "      <td>-0.070811</td>\n",
       "    </tr>\n",
       "    <tr>\n",
       "      <th>100460081</th>\n",
       "      <td>b3c45</td>\n",
       "      <td>1800</td>\n",
       "      <td>0.834023</td>\n",
       "      <td>32.629886</td>\n",
       "      <td>0.0</td>\n",
       "    </tr>\n",
       "  </tbody>\n",
       "</table>\n",
       "<p>100460082 rows × 5 columns</p>\n",
       "</div>"
      ],
      "text/plain": [
       "           batch  CycleIdx     Qdlin      Tdlin      dQdV\n",
       "0           b1c0         1         0          0         0\n",
       "1           b1c0         1         0          0         0\n",
       "2           b1c0         2 -0.000357  29.585882  -0.01269\n",
       "3           b1c0         2 -0.000319   29.58589  -0.01269\n",
       "4           b1c0         2 -0.000282  29.585896  -0.01269\n",
       "...          ...       ...       ...        ...       ...\n",
       "100460077  b3c45      1800  0.833907  32.628174 -0.104053\n",
       "100460078  b3c45      1800  0.833935  32.628602 -0.099304\n",
       "100460079  b3c45      1800  0.833964   32.62903 -0.090756\n",
       "100460080  b3c45      1800  0.833994  32.629458 -0.070811\n",
       "100460081  b3c45      1800  0.834023  32.629886       0.0\n",
       "\n",
       "[100460082 rows x 5 columns]"
      ]
     },
     "metadata": {},
     "output_type": "display_data"
    },
    {
     "name": "stdout",
     "output_type": "stream",
     "text": [
      "<class 'pandas.core.frame.DataFrame'>\n",
      "RangeIndex: 100460082 entries, 0 to 100460081\n",
      "Data columns (total 5 columns):\n",
      " #   Column    Dtype \n",
      "---  ------    ----- \n",
      " 0   batch     object\n",
      " 1   CycleIdx  int64 \n",
      " 2   Qdlin     object\n",
      " 3   Tdlin     object\n",
      " 4   dQdV      object\n",
      "dtypes: int64(1), object(4)\n",
      "memory usage: 17.8 GB\n"
     ]
    },
    {
     "data": {
      "text/markdown": [
       "## <span style=\"color:#003057\"> All Data Processed in 0:08:42.77</span>"
      ],
      "text/plain": [
       "<IPython.core.display.Markdown object>"
      ]
     },
     "metadata": {},
     "output_type": "display_data"
    }
   ],
   "source": [
    "\n",
    "# columns of the measured data\n",
    "meas_cols = ['I','Qc','Qd','T','V','t']\n",
    "#? derived columns have different lengths than measured columns (all 1,000) they will need to be dealt with separately\n",
    "#? https://github.com/rdbraatz/data-driven-prediction-of-battery-cycle-life-before-capacity-degradation/issues/27\n",
    "derive_cols = ['Qdlin','Tdlin','dQdV',]\n",
    "\n",
    "def get_length(cell):\n",
    "    \"\"\"Get the length of an array/list in a cell\n",
    "    \n",
    "    Args:\n",
    "        cell (list or np.ndarray): cell to get the length of\n",
    "    \n",
    "    Returns:\n",
    "        int: length of the cell. 0 if not a list or array.\n",
    "    \"\"\"\n",
    "    return len(cell) if isinstance(cell, list) or isinstance(cell,np.ndarray) else 0\n",
    "\n",
    "\n",
    "measured_data_dfs = []\n",
    "derived_data_dfs = []\n",
    "\n",
    "s_loop = timer()\n",
    "cnt = 0\n",
    "for batch_key in bat_dict.keys():\n",
    "    printmd(f'### <b>Processing data for: {batch_key}</b>')\n",
    "    \n",
    "    #! check for array lengths to ensure they are all the same for a given row (cycle)\n",
    "    print(f'Checking for issues with length of cycle arrays...')\n",
    "    tmp_array_data = pd.DataFrame(bat_dict[batch_key]['cycles']).T\n",
    "    \n",
    "    array_lens = tmp_array_data.map(get_length)\n",
    "\n",
    "    meas_lens = array_lens[meas_cols]\n",
    "    derive_lens = array_lens[derive_cols]\n",
    "\n",
    "    #? check if all the lengths are the same\n",
    "    if meas_lens.nunique(axis=1).sum() != meas_lens.shape[0]:\n",
    "        raise ValueError(f'{batch_key} has different lengths for measured columns {meas_cols}')\n",
    "\n",
    "    if derive_lens.nunique(axis=1).sum() != derive_lens.shape[0]:\n",
    "        raise ValueError(f'{batch_key} has different lengths for derived columns {derive_cols}')\n",
    "    \n",
    "    print('\\tValues for all columns in a given cycle have arrays are the same length. Continuing...')\n",
    "    \n",
    "    print(f'Exploding arrays into rows and storing cycle...')\n",
    "    tmp_meas = tmp_array_data[meas_cols]\n",
    "    tmp_derive = tmp_array_data[derive_cols]\n",
    "    \n",
    "    expl_meas_dfs = []\n",
    "    for index, row in tmp_meas.iterrows():\n",
    "        tmp_expl_meas = pd.DataFrame(row).T.explode(meas_cols)\n",
    "        tmp_expl_meas.insert(0,'CycleIdx',int(index)+1)\n",
    "        expl_meas_dfs.append(tmp_expl_meas)\n",
    "\n",
    "    expl_meas = pd.concat(expl_meas_dfs, ignore_index=True)\n",
    "    expl_meas.insert(0,'batch',batch_key)\n",
    "\n",
    "    expl_derive_dfs = []\n",
    "    for index, row in tmp_derive.iterrows():\n",
    "        tmp_expl_derive = pd.DataFrame(row).T.explode(derive_cols)\n",
    "        tmp_expl_derive.insert(0,'CycleIdx',int(index)+1)\n",
    "        expl_derive_dfs.append(tmp_expl_derive)\n",
    "    \n",
    "    expl_derive = pd.concat(expl_derive_dfs, ignore_index=True)\n",
    "    expl_derive.insert(0,'batch',batch_key)\n",
    "    \n",
    "    print('\\tTotal number of rows in measured data:',f'{expl_meas.shape[0]:,}')\n",
    "    print('\\tTotal number of rows in derived data:',f'{expl_derive.shape[0]:,}')\n",
    "    \n",
    "    runtime = str(dt.timedelta(seconds=np.round((timer()-s_loop), 2))).rstrip(\"0\")\n",
    "    print(f'Total runtime: {runtime}')\n",
    "    \n",
    "    \n",
    "    measured_data_dfs.append(expl_meas)\n",
    "    derived_data_dfs.append(expl_derive)\n",
    "    \n",
    "    if cnt == 0:\n",
    "        printmd('**Example of handling performed for a single cycle and batch**')\n",
    "        \n",
    "        print('Raw Data (All):')\n",
    "        display(tmp_array_data)\n",
    "        \n",
    "        print('Array Length Mapping (Measured):')\n",
    "        display(meas_lens)\n",
    "        \n",
    "        print('Array Length Mapping (Derived):')\n",
    "        display(derive_lens)\n",
    "        \n",
    "        print('Exploded Measured Data:')\n",
    "        display(expl_meas)\n",
    "        \n",
    "        print('Exploded Derived Data:')\n",
    "        display(expl_derive)\n",
    "        \n",
    "        cnt += 1\n",
    "    \n",
    "    printmd('---')\n",
    "\n",
    "printmd('## <b>Combining Measured & Derived Data</b>')\n",
    "measured_data = pd.concat(measured_data_dfs, ignore_index=True)\n",
    "derived_data = pd.concat(derived_data_dfs, ignore_index=True)\n",
    "\n",
    "printmd('### <b>Measured Data</b>')\n",
    "display(measured_data)\n",
    "measured_data.info(memory_usage='deep')\n",
    "\n",
    "printmd('### <b>Derived Data</b>')\n",
    "display(derived_data)\n",
    "derived_data.info(memory_usage='deep')\n",
    "\n",
    "total_runtime = str(dt.timedelta(seconds=np.round((timer()-s_loop), 2))).rstrip(\"0\")\n",
    "printmd(f'## All Data Processed in {total_runtime}')"
   ]
  },
  {
   "cell_type": "markdown",
   "metadata": {},
   "source": [
    "### <span style='color:#54585A'> Delete All Unnecessary Data Before Saving Data </span>"
   ]
  },
  {
   "cell_type": "code",
   "execution_count": 9,
   "metadata": {},
   "outputs": [],
   "source": [
    "# delete variables from last cell to free up memory again\n",
    "try:\n",
    "    del bat_dict\n",
    "    gc.collect()\n",
    "except:\n",
    "    pass\n",
    "try:\n",
    "    del tmp_array_data\n",
    "    gc.collect()\n",
    "except:\n",
    "    pass\n",
    "try:\n",
    "    del tmp_meas\n",
    "    gc.collect()\n",
    "except:\n",
    "    pass\n",
    "try:\n",
    "    del tmp_derive\n",
    "    gc.collect()\n",
    "except:\n",
    "    pass\n",
    "try:\n",
    "    del expl_meas\n",
    "    gc.collect()\n",
    "except:\n",
    "    pass\n",
    "try:\n",
    "    del expl_derive\n",
    "    gc.collect()\n",
    "except:\n",
    "    pass\n",
    "try:\n",
    "    del measured_data_dfs\n",
    "    gc.collect()\n",
    "except:\n",
    "    pass\n",
    "try:\n",
    "    del derived_data_dfs\n",
    "    gc.collect()\n",
    "except:\n",
    "    pass"
   ]
  },
  {
   "cell_type": "markdown",
   "metadata": {},
   "source": [
    "### <span style='color:#54585A'> Re-Type the Measured and Derived Data Before Saving </span>\n",
    "\n",
    "> As can be seen in the previous output, the datatypes for columns are not efficient. Here I remap the datatypes to be more efficient which results in a significant reduction in memory usage."
   ]
  },
  {
   "cell_type": "code",
   "execution_count": 10,
   "metadata": {},
   "outputs": [
    {
     "name": "stdout",
     "output_type": "stream",
     "text": [
      "<class 'pandas.core.frame.DataFrame'>\n",
      "RangeIndex: 99006654 entries, 0 to 99006653\n",
      "Data columns (total 8 columns):\n",
      " #   Column    Dtype   \n",
      "---  ------    -----   \n",
      " 0   batch     category\n",
      " 1   CycleIdx  int16   \n",
      " 2   I         float64 \n",
      " 3   Qc        float64 \n",
      " 4   Qd        float64 \n",
      " 5   T         float64 \n",
      " 6   V         float64 \n",
      " 7   t         float64 \n",
      "dtypes: category(1), float64(6), int16(1)\n",
      "memory usage: 4.7 GB\n",
      "<class 'pandas.core.frame.DataFrame'>\n",
      "RangeIndex: 100460082 entries, 0 to 100460081\n",
      "Data columns (total 5 columns):\n",
      " #   Column    Dtype   \n",
      "---  ------    -----   \n",
      " 0   batch     category\n",
      " 1   CycleIdx  int16   \n",
      " 2   Qdlin     float64 \n",
      " 3   Tdlin     float64 \n",
      " 4   dQdV      float64 \n",
      "dtypes: category(1), float64(3), int16(1)\n",
      "memory usage: 2.5 GB\n"
     ]
    }
   ],
   "source": [
    "meas_type_map = {\n",
    "    'batch': 'category',\n",
    "    'CycleIdx':np.int16,\n",
    "    'I':np.float64,\n",
    "    'Qc':np.float64,\n",
    "    'Qd':np.float64,\n",
    "    'T':np.float64,\n",
    "    'V':np.float64,\n",
    "    't':np.float64\n",
    "    }\n",
    "measured_data = measured_data.astype(meas_type_map)\n",
    "measured_data.info(memory_usage='deep')\n",
    "\n",
    "derive_type_map = {\n",
    "    'batch': 'category',\n",
    "    'CycleIdx':np.int16,\n",
    "    'Qdlin':np.float64,\n",
    "    'Tdlin':np.float64,\n",
    "    'dQdV':np.float64\n",
    "    }\n",
    "derived_data = derived_data.astype(derive_type_map)\n",
    "derived_data.info(memory_usage='deep')"
   ]
  },
  {
   "cell_type": "markdown",
   "metadata": {},
   "source": [
    "### <span style='color:#54585A'> Export Cycle (Measured and Derived) to Pickle </span>\n"
   ]
  },
  {
   "cell_type": "code",
   "execution_count": 11,
   "metadata": {},
   "outputs": [
    {
     "name": "stdout",
     "output_type": "stream",
     "text": [
      "Measured Data Saved as Saved as measured_data_df_name | Time: 0:00:04.6\n",
      "Derived Data Saved as Saved as derived_data_df_name | Time: 0:00:02.44\n"
     ]
    }
   ],
   "source": [
    "s_save = timer()\n",
    "measured_data_df_name = f'data/CycleMeasuredData.pkl'\n",
    "measured_data.to_pickle(measured_data_df_name)\n",
    "print(f'Measured Data Saved as Saved as measured_data_df_name | Time: {str(dt.timedelta(seconds=np.round((timer()-s_save), 2))).rstrip(\"0\")}')\n",
    "\n",
    "try:\n",
    "    del measured_data\n",
    "    gc.collect()\n",
    "except:\n",
    "    pass\n",
    "\n",
    "s_save = timer()\n",
    "derived_data_df_name = f'data/CycleDerivedData.pkl'\n",
    "derived_data.to_pickle(derived_data_df_name)\n",
    "print(f'Derived Data Saved as Saved as derived_data_df_name | Time: {str(dt.timedelta(seconds=np.round((timer()-s_save), 2))).rstrip(\"0\")}')\n",
    "\n",
    "try:\n",
    "    del derived_data\n",
    "    gc.collect()\n",
    "except:\n",
    "    pass"
   ]
  },
  {
   "cell_type": "markdown",
   "metadata": {},
   "source": [
    "## <span style='color:#003057'> Export Source Code </span>"
   ]
  },
  {
   "cell_type": "code",
   "execution_count": 12,
   "metadata": {},
   "outputs": [
    {
     "name": "stdout",
     "output_type": "stream",
     "text": [
      "User running code is the student. Continue to file Export.\n"
     ]
    },
    {
     "data": {
      "text/markdown": [
       "<h3>Code saved to 01 Clean and Consolidate Battery Data.html</h3>"
      ],
      "text/plain": [
       "<IPython.core.display.Markdown object>"
      ]
     },
     "metadata": {},
     "output_type": "display_data"
    },
    {
     "name": "stdout",
     "output_type": "stream",
     "text": [
      "Replacing GeorgiaTech_RGB.png\n"
     ]
    }
   ],
   "source": [
    "\n",
    "\n",
    "user = str(pathlib.Path.home()).split('\\\\')[-1]\n",
    "export_flag = False\n",
    "if user != 'bkeith' and user != 'Brian':\n",
    "    raise Exception('User running code is not the student. No need to run below.')\n",
    "else:\n",
    "    export_flag = True\n",
    "    print('User running code is the student. Continue to file Export.')\n",
    "\n",
    "def export_code(cur_file: str, output_dir: str = '', output_name: str = '', cell_tags_exist: bool = False, template:str = 'lab'):\n",
    "    \"\"\"Export Jupyter Notebook as HTML file\n",
    "\n",
    "    Args:\n",
    "        cur_file (str, required): Name of the file function is being used in FULL PATH of the file. Defaults to the name of the ipynb file.\n",
    "        output_dir (str, optional): Directory to output the file to. Defaults to local directory of Jupyter Notebook.\n",
    "        output_name (str, optional): Name of the file that will be exported. Defaults to the name of the ipynb file.\n",
    "        cell_tags_exist (bool, optional): Flag for if cell tags exist . Defaults to False.\n",
    "        template (str, optional): Template to use for export. Defaults to 'lab'. Options are 'lab' or 'classic'. 'classic' should be used if you're planning to convert the HTML to PDF. 'lab' is better for viewing in browser.\n",
    "    \"\"\"\n",
    "    \n",
    "    from subprocess import run\n",
    "    from os import getcwd\n",
    "    \n",
    "    if output_dir == '':\n",
    "        output_dir = getcwd().replace('\\\\','/')\n",
    "\n",
    "    if output_name == '':\n",
    "        cur_file = cur_file.replace('\\\\', '/')\n",
    "        output_name = cur_file.split('/')[-1].split('.')[0] + '.html'\n",
    "\n",
    "    if cell_tags_exist == False:\n",
    "        process = run([\n",
    "            'jupyter', \n",
    "            'nbconvert',\n",
    "            \"--output-dir={}\".format(output_dir),     \n",
    "            '--to','html',  \n",
    "            cur_file,\n",
    "            '--template',f'{template}',\n",
    "            '--output', f'{output_name}'], \n",
    "            shell=True,\n",
    "            capture_output=True)\n",
    "    else:\n",
    "        process = run([\n",
    "            'jupyter', \n",
    "            'nbconvert',\n",
    "            \"--output-dir={}\".format(output_dir),     \n",
    "            '--to','html',\n",
    "            '--template',f'{template}',\n",
    "            '--TagRemovePreprocessor.enabled=True',\n",
    "            '--TagRemovePreprocessor.remove_cell_tags={\\\"remove_cell\\\"}',\n",
    "            '--TagRemovePreprocessor.remove_input_tags={\\\"remove_input\\\"}',\n",
    "            '--no-prompt',\n",
    "            cur_file,\n",
    "            '--output', f'{output_name}'], \n",
    "            shell=True,\n",
    "            capture_output=True)\n",
    "        \n",
    "    if process.returncode == 0:\n",
    "        display(Markdown(f'<h3>Code saved to {output_name}</h3>'))\n",
    "    else:\n",
    "        display(Markdown('<h1> REPORT ERROR:'))\n",
    "        import re\n",
    "        print(re.sub(r'\\\\.',lambda x:{'\\\\n':'\\n','\\\\t':'\\t', '\\\\r': '\\r',\"\\\\'\":\"'\", '\\\\\\\\': '\\\\'}.get(x[0],x[0]),str(process.stderr)))\n",
    "\n",
    "cur_file = __vsc_ipynb_file__\n",
    "output_dir = 'zlogs'\n",
    "output_name = cur_file.split('\\\\')[-1].split('.')[0] + f'.html'\n",
    "cell_tags_exist = False\n",
    "template = 'classic'\n",
    "\n",
    "if export_flag == True:\n",
    "    export_code(cur_file,output_dir, output_name, cell_tags_exist, template=template)\n",
    "\n",
    "if export_flag == True:\n",
    "    import os\n",
    "    from bs4 import BeautifulSoup as soup\n",
    "    import base64\n",
    "\n",
    "    soup_html = soup(open(os.path.join(output_dir, output_name)).read())\n",
    "    img_tags = soup_html.findAll('img')\n",
    "    img_path = os.path.join(os.path.dirname(output_dir), 'imgs')\n",
    "\n",
    "    for tag in img_tags:\n",
    "        #skip any images that already have base64\n",
    "        if 'base64' in tag['src']:\n",
    "            continue\n",
    "        \n",
    "        img_src = tag['src'].split('/')[-1]\n",
    "        print(f'Replacing {img_src}')\n",
    "        tag['src'] = os.path.join(img_path, img_src)\n",
    "        \n",
    "        base64_str = base64.b64encode(open(os.path.join(img_path, img_src), 'rb').read()).decode('utf-8')\n",
    "        new_src = 'data:image/png;base64,' + base64_str\n",
    "        \n",
    "        tag['src'] = new_src\n",
    "\n",
    "    with open(os.path.join(output_dir, output_name), 'w') as f:\n",
    "        f.write(str(soup_html))"
   ]
  }
 ],
 "metadata": {
  "kernelspec": {
   "display_name": "isye6420_proj",
   "language": "python",
   "name": "python3"
  },
  "language_info": {
   "codemirror_mode": {
    "name": "ipython",
    "version": 3
   },
   "file_extension": ".py",
   "mimetype": "text/x-python",
   "name": "python",
   "nbconvert_exporter": "python",
   "pygments_lexer": "ipython3",
   "version": "3.11.5"
  }
 },
 "nbformat": 4,
 "nbformat_minor": 2
}
