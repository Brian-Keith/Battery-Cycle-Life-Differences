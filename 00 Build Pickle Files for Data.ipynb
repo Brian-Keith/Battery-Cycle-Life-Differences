{
 "cells": [
  {
   "cell_type": "markdown",
   "metadata": {},
   "source": [
    "<img src=\"imgs/GeorgiaTech_RGB.png\" alt=\"GeorgiaTech_RGB\" width=\"200\" style=\"float: left;\"/>\n",
    "<br><br><br>\n",
    "\n",
    "# <span style='color:#B3A369'> <b>Create Pickle Files for Battery Batch Data</b> </span>\n",
    "\n",
    "> <b> Notebook Author:</b> Brian Keith (bkeith9@gatech.edu) <br>\n",
    "> \n",
    "> **Based on codes provided by authors of paper at:**\n",
    "> - https://github.com/rdbraatz/data-driven-prediction-of-battery-cycle-life-before-capacity-degradation/blob/master/BuildPkl_Batch1.ipynb\n",
    "> - https://github.com/rdbraatz/data-driven-prediction-of-battery-cycle-life-before-capacity-degradation/blob/master/BuildPkl_Batch2.ipynb\n",
    "> - https://github.com/rdbraatz/data-driven-prediction-of-battery-cycle-life-before-capacity-degradation/blob/master/BuildPkl_Batch3.ipynb\n",
    "> \n",
    "> **Data Citation:**\n",
    "> - Severson et al. Data-driven prediction of battery cycle life before capacity degradation. Nature Energy volume 4, pages 383–391 (2019)\n",
    "> - Downloaded from: https://data.matr.io/1/projects/5c48dd2bc625d700019f3204\n",
    ">   - Batch 1 (`2017-05-12_batchdata_updated_struct_errorcorrect.mat`): https://data.matr.io/1/projects/5c48dd2bc625d700019f3204/batches/5c86c0b5fa2ede00015ddf67\n",
    ">   - Batch 2 (`2017-06-30_batchdata_updated_struct_errorcorrect.mat`): https://data.matr.io/1/projects/5c48dd2bc625d700019f3204/batches/5c86bf14fa2ede00015ddd83\n",
    ">   - Batch 3 (`2018-04-12_batchdata_updated_struct_errorcorrect.mat`): https://data.matr.io/1/projects/5c48dd2bc625d700019f3204/batches/5c86bd64fa2ede00015ddbb3"
   ]
  },
  {
   "cell_type": "markdown",
   "metadata": {},
   "source": [
    "## <span style='color:#003057'> Batch Notes from Authors </span>\n",
    "\n",
    "### <span style='color:#54585A'> Batch 1: 2017-05-12 </span>\n",
    "\n",
    "**Experimental Design:**\n",
    "- All cells were cycled with one-step or two-step charging policies. The charging time varies from ~8 to 13.3 minutes (0-80% SOC). There are generally two cells tested per policy, with the exception of 3.6C(80%).\n",
    "- 1 minute and 1 second rests were placed after reaching 80% SOC during charging and after discharging, respectively.\n",
    "- We cycle to 80% of nominal capacity (0.88 Ah).\n",
    "- An initial C/10 cycle was performed in the beginning of each test.\n",
    "- The cutoff currents for the constant-voltage steps were C/50 for both charge and discharge.\n",
    "- The pulse width of the IR test is 30 ms.\n",
    "\n",
    "**Experimental Notes**\n",
    "- The computer automatically restarted twice. As such, there are some time gaps in the data.\n",
    "- The temperature control is somewhat inconsistent, leading to variability in the baseline chamber temperature.\n",
    "- The tests in channels 4 and 8 did not successfully start and thus do not have data.\n",
    "- The thermocouples for channels 15 and 16 were accidentally switched.\n",
    "\n",
    "**Data notes**\n",
    "- Cycle 1 data is not available in the struct. The sampling rate for this cycle was initially too high, so we excluded it from the data set to create more manageable file sizes.\n",
    "- The cells in Channels 1, 2, 3, 5, and 6 (3.6C(80%) and 4C(80%) policies) were stopped at the end of this batch and resumed in the 2017-06-30 batch. This pause in cycling lead to a rise in capacity upon resuming the tests.\n",
    "- The tests in channels 13, 19, 21, 22, and 31 were terminated before the cells reached 80% of nominal capacity.\n",
    "\n",
    "### <span style='color:#54585A'> Batch 2: 2017-06-30 </span>\n",
    "\n",
    "**Experimental Design:**\n",
    "- All cells were cycled with one-step or two-step charging policies. The charging time is fixed at 10 minutes (0-80% SOC). There is generally only one cell tested per policy, with the exception of 4.8C(80%) (three cells).\n",
    "- We resumed 5 cells from the 2017-05-12 batch that didn’t complete yet - 3.6C and 4.0C.\n",
    "- We cycle to 75% of nominal capacity (0.88 Ah).\n",
    "- 5 minute rests were placed both after reaching 80% SOC during charging and after discharging.\n",
    "- An initial C/10 cycle was performed in the beginning of each test.\n",
    "- The cutoff currents for the constant-voltage steps were C/50 for both charge and discharge.\n",
    "- The pulse width of the IR test is 30 ms.\n",
    "\n",
    "**Experimental Notes**\n",
    "- The computer automatically restarted, affecting all tests (around cycle 250 for most policies). There are some ‘spikes’ in capacity. This effectively lead to around an 8-hour ‘rest’.\n",
    "- The computer also restarted near the end of the tests, with one cell (Channel 3, EL150800460623) affected (expect a ‘spike’ near the end of life).\n",
    "- Upon unloading the cells, we noticed the thermocouples from channels 7 and 21 had fallen off the cell.\n",
    "- The thermocouples for channels 15 and 16 were accidentally switched.\n",
    "\n",
    "**Data notes**\n",
    "- 3.6C(80%) and 4C(80%) policies have data that carry over from batch 1 (link on barcode). This applies to the cells in channels 1, 2, 3, 5, and 6. Please note that these are NOT new experiments, but a continuation of experiments from the 2017-05-12 batch.\n",
    "- Channel 10 (EL150800460605), dies quite quickly. This cell is possibly defective, although we detected no obvious signs of this.\n",
    "\n",
    "### <span style='color:#54585A'> Batch 3: 2018-04-12 </span>\n",
    "\n",
    "**Experimental Design:**\n",
    "- All cells were cycled with two-step charging policies. The charging time fixed at 10 minutes (0-80% SOC). We test multiple cells per policy (3-8x per policy).\n",
    "- We cycle to 80% of nominal capacity (0.88 Ah).\n",
    "- Four 5-second rests were placed after reaching 80% SOC during charging, after the IR test, before discharging, and after discharging.\n",
    "- A final C/10 cycle was performed at 80% of nominal capacity.\n",
    "- The cutoff currents for the constant-voltage steps were C/20 for both charge and discharge.\n",
    "- The pulse width of the IR test is 33 ms.\n",
    "\n",
    "**Experimental Notes**\n",
    "- Some cells had OCV errors (caused by the internal resistance test) that lead to temporary pauses in cycling.\n",
    "\n",
    "**Data notes**\n",
    "- The tests in channels 33 and 41 were terminated before the cells reached 80% of nominal capacity.\n",
    "- The cell in channel 46 has noisy voltage profiles, likely due to an electronic connection error."
   ]
  },
  {
   "cell_type": "markdown",
   "metadata": {},
   "source": [
    "## <span style='color:#003057'> Initial Tasks </span>"
   ]
  },
  {
   "cell_type": "code",
   "execution_count": 1,
   "metadata": {},
   "outputs": [],
   "source": [
    "import h5py\n",
    "import numpy as np\n",
    "import pickle\n",
    "import pathlib\n",
    "import os\n",
    "from IPython.display import display, Markdown\n",
    "import datetime as dt\n",
    "curr_time = dt.datetime.today().strftime('%Y-%m-%d %H%M')\n",
    "\n",
    "def printmd(string):\n",
    "    header_map = {1:'#B3A369',2:'#003057',3:'#54585A'}\n",
    "    if string.startswith('#'):\n",
    "        nh = string.count('#')\n",
    "        string = string.replace('#','')\n",
    "        display(Markdown('#'*nh + f' <span style=\"color:{header_map[nh]}\">{string}</span>'))\n",
    "    else:\n",
    "        display(Markdown(string))"
   ]
  },
  {
   "cell_type": "markdown",
   "metadata": {},
   "source": [
    "## <span style='color:#003057'> Specify Directories </span>"
   ]
  },
  {
   "cell_type": "code",
   "execution_count": 2,
   "metadata": {},
   "outputs": [
    {
     "name": "stdout",
     "output_type": "stream",
     "text": [
      "Files:\n",
      "\t2017-05-12_batchdata_updated_struct_errorcorrect.mat\n",
      "\t2017-06-30_batchdata_updated_struct_errorcorrect.mat\n",
      "\t2018-04-12_batchdata_updated_struct_errorcorrect.mat\n",
      "Aliases:\n",
      "\tbatch1\n",
      "\tbatch2\n",
      "\tbatch3\n"
     ]
    }
   ],
   "source": [
    "\n",
    "DATA_DIR = 'data/'\n",
    "\n",
    "files = [f for f in os.listdir(DATA_DIR) if f.endswith('.mat')]\n",
    "aliases = ['batch1', 'batch2', 'batch3']\n",
    "\n",
    "\n",
    "print('Files:')\n",
    "for f in files:\n",
    "    print('\\t'+f)\n",
    "print('Aliases:')\n",
    "for a in aliases:\n",
    "    print('\\t'+a)"
   ]
  },
  {
   "cell_type": "markdown",
   "metadata": {},
   "source": [
    "## <span style='color:#003057'> Pickle Data Files </span>"
   ]
  },
  {
   "cell_type": "code",
   "execution_count": 3,
   "metadata": {},
   "outputs": [
    {
     "data": {
      "text/markdown": [
       "## <span style=\"color:#003057\"> batch1 - 2017-05-12_batchdata_updated_struct_errorcorrect.mat</span>"
      ],
      "text/plain": [
       "<IPython.core.display.Markdown object>"
      ]
     },
     "metadata": {},
     "output_type": "display_data"
    },
    {
     "data": {
      "text/markdown": [
       "### <span style=\"color:#54585A\"> Info</span>"
      ],
      "text/plain": [
       "<IPython.core.display.Markdown object>"
      ]
     },
     "metadata": {},
     "output_type": "display_data"
    },
    {
     "name": "stdout",
     "output_type": "stream",
     "text": [
      "Keys: ['#refs#', '#subsystem#', 'batch', 'batch_date']\n",
      "Batch Keys: ['Vdlin', 'barcode', 'channel_id', 'cycle_life', 'cycles', 'policy', 'policy_readable', 'summary']\n",
      "Number of cells: 46\n",
      "Batch Dictionary Keys:['b1c0', 'b1c1', 'b1c2', 'b1c3', 'b1c4', 'b1c5', 'b1c6', 'b1c7', 'b1c8', 'b1c9', 'b1c10', 'b1c11', 'b1c12', 'b1c13', 'b1c14', 'b1c15', 'b1c16', 'b1c17', 'b1c18', 'b1c19', 'b1c20', 'b1c21', 'b1c22', 'b1c23', 'b1c24', 'b1c25', 'b1c26', 'b1c27', 'b1c28', 'b1c29', 'b1c30', 'b1c31', 'b1c32', 'b1c33', 'b1c34', 'b1c35', 'b1c36', 'b1c37', 'b1c38', 'b1c39', 'b1c40', 'b1c41', 'b1c42', 'b1c43', 'b1c44', 'b1c45']\n"
     ]
    },
    {
     "data": {
      "text/markdown": [
       "### <span style=\"color:#54585A\"> Pickle File Saved as data/batch1.pkl</span>"
      ],
      "text/plain": [
       "<IPython.core.display.Markdown object>"
      ]
     },
     "metadata": {},
     "output_type": "display_data"
    },
    {
     "data": {
      "text/markdown": [
       "--------------------------------------------------"
      ],
      "text/plain": [
       "<IPython.core.display.Markdown object>"
      ]
     },
     "metadata": {},
     "output_type": "display_data"
    },
    {
     "data": {
      "text/markdown": [
       "## <span style=\"color:#003057\"> batch2 - 2017-06-30_batchdata_updated_struct_errorcorrect.mat</span>"
      ],
      "text/plain": [
       "<IPython.core.display.Markdown object>"
      ]
     },
     "metadata": {},
     "output_type": "display_data"
    },
    {
     "data": {
      "text/markdown": [
       "### <span style=\"color:#54585A\"> Info</span>"
      ],
      "text/plain": [
       "<IPython.core.display.Markdown object>"
      ]
     },
     "metadata": {},
     "output_type": "display_data"
    },
    {
     "name": "stdout",
     "output_type": "stream",
     "text": [
      "Keys: ['#refs#', '#subsystem#', 'batch', 'batch_date']\n",
      "Batch Keys: ['Vdlin', 'barcode', 'channel_id', 'cycle_life', 'cycles', 'policy', 'policy_readable', 'summary']\n",
      "Number of cells: 48\n",
      "Batch Dictionary Keys:['b2c0', 'b2c1', 'b2c2', 'b2c3', 'b2c4', 'b2c5', 'b2c6', 'b2c7', 'b2c8', 'b2c9', 'b2c10', 'b2c11', 'b2c12', 'b2c13', 'b2c14', 'b2c15', 'b2c16', 'b2c17', 'b2c18', 'b2c19', 'b2c20', 'b2c21', 'b2c22', 'b2c23', 'b2c24', 'b2c25', 'b2c26', 'b2c27', 'b2c28', 'b2c29', 'b2c30', 'b2c31', 'b2c32', 'b2c33', 'b2c34', 'b2c35', 'b2c36', 'b2c37', 'b2c38', 'b2c39', 'b2c40', 'b2c41', 'b2c42', 'b2c43', 'b2c44', 'b2c45', 'b2c46', 'b2c47']\n"
     ]
    },
    {
     "data": {
      "text/markdown": [
       "### <span style=\"color:#54585A\"> Pickle File Saved as data/batch2.pkl</span>"
      ],
      "text/plain": [
       "<IPython.core.display.Markdown object>"
      ]
     },
     "metadata": {},
     "output_type": "display_data"
    },
    {
     "data": {
      "text/markdown": [
       "--------------------------------------------------"
      ],
      "text/plain": [
       "<IPython.core.display.Markdown object>"
      ]
     },
     "metadata": {},
     "output_type": "display_data"
    },
    {
     "data": {
      "text/markdown": [
       "## <span style=\"color:#003057\"> batch3 - 2018-04-12_batchdata_updated_struct_errorcorrect.mat</span>"
      ],
      "text/plain": [
       "<IPython.core.display.Markdown object>"
      ]
     },
     "metadata": {},
     "output_type": "display_data"
    },
    {
     "data": {
      "text/markdown": [
       "### <span style=\"color:#54585A\"> Info</span>"
      ],
      "text/plain": [
       "<IPython.core.display.Markdown object>"
      ]
     },
     "metadata": {},
     "output_type": "display_data"
    },
    {
     "name": "stdout",
     "output_type": "stream",
     "text": [
      "Keys: ['#refs#', '#subsystem#', 'batch', 'batch_date']\n",
      "Batch Keys: ['Vdlin', 'barcode', 'channel_id', 'cycle_life', 'cycles', 'policy', 'policy_readable', 'summary']\n",
      "Number of cells: 46\n",
      "Batch Dictionary Keys:['b3c0', 'b3c1', 'b3c2', 'b3c3', 'b3c4', 'b3c5', 'b3c6', 'b3c7', 'b3c8', 'b3c9', 'b3c10', 'b3c11', 'b3c12', 'b3c13', 'b3c14', 'b3c15', 'b3c16', 'b3c17', 'b3c18', 'b3c19', 'b3c20', 'b3c21', 'b3c22', 'b3c23', 'b3c24', 'b3c25', 'b3c26', 'b3c27', 'b3c28', 'b3c29', 'b3c30', 'b3c31', 'b3c32', 'b3c33', 'b3c34', 'b3c35', 'b3c36', 'b3c37', 'b3c38', 'b3c39', 'b3c40', 'b3c41', 'b3c42', 'b3c43', 'b3c44', 'b3c45']\n"
     ]
    },
    {
     "data": {
      "text/markdown": [
       "### <span style=\"color:#54585A\"> Pickle File Saved as data/batch3.pkl</span>"
      ],
      "text/plain": [
       "<IPython.core.display.Markdown object>"
      ]
     },
     "metadata": {},
     "output_type": "display_data"
    },
    {
     "data": {
      "text/markdown": [
       "--------------------------------------------------"
      ],
      "text/plain": [
       "<IPython.core.display.Markdown object>"
      ]
     },
     "metadata": {},
     "output_type": "display_data"
    }
   ],
   "source": [
    "for file, alias in zip(files, aliases):\n",
    "\n",
    "    with h5py.File(DATA_DIR+file, 'r') as f:\n",
    "        printmd(f'## {alias} - {file}')\n",
    "        printmd('### Info')\n",
    "        print(f'Keys: {list(f.keys())}')\n",
    "        batch = f['batch']\n",
    "        print(f'Batch Keys: {list(batch.keys())}')\n",
    "        num_cells = batch['summary'].shape[0]\n",
    "        print(f'Number of cells: {num_cells}')\n",
    "        bat_dict = {}\n",
    "        for i in range(num_cells):\n",
    "            #? NOTE: .value commands from h5py are deprecated so the .values were replaced with [()]\n",
    "            #? using .value will give an error: AttributeError: 'Dataset' object has no attribute 'value'\n",
    "            #? https://stackoverflow.com/questions/67409919/attributeerror-dataset-object-has-no-attribute-value\n",
    "            cl = f[batch['cycle_life'][i,0]][()]\n",
    "            policy = f[batch['policy_readable'][i,0]][()].tobytes()[::2].decode()\n",
    "            summary_IR = np.hstack(f[batch['summary'][i,0]]['IR'][0,:].tolist())\n",
    "            summary_QC = np.hstack(f[batch['summary'][i,0]]['QCharge'][0,:].tolist())\n",
    "            summary_QD = np.hstack(f[batch['summary'][i,0]]['QDischarge'][0,:].tolist())\n",
    "            summary_TA = np.hstack(f[batch['summary'][i,0]]['Tavg'][0,:].tolist())\n",
    "            summary_TM = np.hstack(f[batch['summary'][i,0]]['Tmin'][0,:].tolist())\n",
    "            summary_TX = np.hstack(f[batch['summary'][i,0]]['Tmax'][0,:].tolist())\n",
    "            summary_CT = np.hstack(f[batch['summary'][i,0]]['chargetime'][0,:].tolist())\n",
    "            summary_CY = np.hstack(f[batch['summary'][i,0]]['cycle'][0,:].tolist())\n",
    "            summary = {'IR': summary_IR, 'QC': summary_QC, 'QD': summary_QD, 'Tavg':\n",
    "                        summary_TA, 'Tmin': summary_TM, 'Tmax': summary_TX, 'chargetime': summary_CT,\n",
    "                        'cycle': summary_CY}\n",
    "            cycles = f[batch['cycles'][i,0]]\n",
    "            cycle_dict = {}\n",
    "            for j in range(cycles['I'].shape[0]):\n",
    "                I = np.hstack((f[cycles['I'][j,0]][()]))\n",
    "                Qc = np.hstack((f[cycles['Qc'][j,0]][()]))\n",
    "                Qd = np.hstack((f[cycles['Qd'][j,0]][()]))\n",
    "                Qdlin = np.hstack((f[cycles['Qdlin'][j,0]][()]))\n",
    "                T = np.hstack((f[cycles['T'][j,0]][()]))\n",
    "                Tdlin = np.hstack((f[cycles['Tdlin'][j,0]][()]))\n",
    "                V = np.hstack((f[cycles['V'][j,0]][()]))\n",
    "                dQdV = np.hstack((f[cycles['discharge_dQdV'][j,0]][()]))\n",
    "                t = np.hstack((f[cycles['t'][j,0]][()]))\n",
    "                cd = {'I': I, 'Qc': Qc, 'Qd': Qd, 'Qdlin': Qdlin, 'T': T, 'Tdlin': Tdlin, 'V':V, 'dQdV': dQdV, 't':t}\n",
    "                cycle_dict[str(j)] = cd\n",
    "                \n",
    "            cell_dict = {'cycle_life': cl, 'charge_policy':policy, 'summary': summary, 'cycles': cycle_dict}\n",
    "            key = f'b{alias[-1]}c' + str(i)\n",
    "            bat_dict[key] = cell_dict\n",
    "        \n",
    "        print(f'Batch Dictionary Keys:{list(bat_dict.keys())}')\n",
    "        \n",
    "        pkl_name = f'{DATA_DIR+alias}.pkl'\n",
    "        with open(pkl_name,'wb') as fp:\n",
    "            pickle.dump(bat_dict,fp)\n",
    "        printmd('### Pickle File Saved as ' + f'{DATA_DIR+alias}.pkl')\n",
    "\n",
    "    printmd('-'*50)"
   ]
  },
  {
   "cell_type": "markdown",
   "metadata": {},
   "source": [
    "## <span style='color:#003057'> Export Source Code </span>"
   ]
  },
  {
   "cell_type": "code",
   "execution_count": 4,
   "metadata": {},
   "outputs": [
    {
     "name": "stdout",
     "output_type": "stream",
     "text": [
      "User running code is the student. Continue to file Export.\n"
     ]
    },
    {
     "data": {
      "text/markdown": [
       "<h3>Code saved to 00 Build Pickle Files for Data.html</h3>"
      ],
      "text/plain": [
       "<IPython.core.display.Markdown object>"
      ]
     },
     "metadata": {},
     "output_type": "display_data"
    },
    {
     "name": "stdout",
     "output_type": "stream",
     "text": [
      "Replacing GeorgiaTech_RGB.png\n"
     ]
    }
   ],
   "source": [
    "user = str(pathlib.Path.home()).split('\\\\')[-1]\n",
    "export_flag = False\n",
    "if user != 'bkeith' and user != 'Brian':\n",
    "    raise Exception('User running code is not the student. No need to run below.')\n",
    "else:\n",
    "    export_flag = True\n",
    "    print('User running code is the student. Continue to file Export.')\n",
    "\n",
    "def export_code(cur_file: str, output_dir: str = '', output_name: str = '', cell_tags_exist: bool = False, template:str = 'lab'):\n",
    "    \"\"\"Export Jupyter Notebook as HTML file\n",
    "\n",
    "    Args:\n",
    "        cur_file (str, required): Name of the file function is being used in FULL PATH of the file. Defaults to the name of the ipynb file.\n",
    "        output_dir (str, optional): Directory to output the file to. Defaults to local directory of Jupyter Notebook.\n",
    "        output_name (str, optional): Name of the file that will be exported. Defaults to the name of the ipynb file.\n",
    "        cell_tags_exist (bool, optional): Flag for if cell tags exist . Defaults to False.\n",
    "        template (str, optional): Template to use for export. Defaults to 'lab'. Options are 'lab' or 'classic'. 'classic' should be used if you're planning to convert the HTML to PDF. 'lab' is better for viewing in browser.\n",
    "    \"\"\"\n",
    "    \n",
    "    from subprocess import run\n",
    "    from os import getcwd\n",
    "    \n",
    "    if output_dir == '':\n",
    "        output_dir = getcwd().replace('\\\\','/')\n",
    "\n",
    "    if output_name == '':\n",
    "        cur_file = cur_file.replace('\\\\', '/')\n",
    "        output_name = cur_file.split('/')[-1].split('.')[0] + '.html'\n",
    "\n",
    "    if cell_tags_exist == False:\n",
    "        process = run([\n",
    "            'jupyter', \n",
    "            'nbconvert',\n",
    "            \"--output-dir={}\".format(output_dir),     \n",
    "            '--to','html',  \n",
    "            cur_file,\n",
    "            '--template',f'{template}',\n",
    "            '--output', f'{output_name}'], \n",
    "            shell=True,\n",
    "            capture_output=True)\n",
    "    else:\n",
    "        process = run([\n",
    "            'jupyter', \n",
    "            'nbconvert',\n",
    "            \"--output-dir={}\".format(output_dir),     \n",
    "            '--to','html',\n",
    "            '--template',f'{template}',\n",
    "            '--TagRemovePreprocessor.enabled=True',\n",
    "            '--TagRemovePreprocessor.remove_cell_tags={\\\"remove_cell\\\"}',\n",
    "            '--TagRemovePreprocessor.remove_input_tags={\\\"remove_input\\\"}',\n",
    "            '--no-prompt',\n",
    "            cur_file,\n",
    "            '--output', f'{output_name}'], \n",
    "            shell=True,\n",
    "            capture_output=True)\n",
    "        \n",
    "    if process.returncode == 0:\n",
    "        display(Markdown(f'<h3>Code saved to {output_name}</h3>'))\n",
    "    else:\n",
    "        display(Markdown('<h1> REPORT ERROR:'))\n",
    "        import re\n",
    "        print(re.sub(r'\\\\.',lambda x:{'\\\\n':'\\n','\\\\t':'\\t', '\\\\r': '\\r',\"\\\\'\":\"'\", '\\\\\\\\': '\\\\'}.get(x[0],x[0]),str(process.stderr)))\n",
    "\n",
    "cur_file = __vsc_ipynb_file__\n",
    "output_dir = 'zlogs'\n",
    "output_name = cur_file.split('\\\\')[-1].split('.')[0] + f'.html'\n",
    "cell_tags_exist = False\n",
    "template = 'classic'\n",
    "\n",
    "if export_flag == True:\n",
    "    export_code(cur_file,output_dir, output_name, cell_tags_exist, template=template)\n",
    "\n",
    "if export_flag == True:\n",
    "    import os\n",
    "    from bs4 import BeautifulSoup as soup\n",
    "    import base64\n",
    "\n",
    "    soup_html = soup(open(os.path.join(output_dir, output_name)).read())\n",
    "    img_tags = soup_html.findAll('img')\n",
    "    img_path = os.path.join(os.path.dirname(output_dir), 'imgs')\n",
    "\n",
    "    for tag in img_tags:\n",
    "        #skip any images that already have base64\n",
    "        if 'base64' in tag['src']:\n",
    "            continue\n",
    "        \n",
    "        img_src = tag['src'].split('/')[-1]\n",
    "        print(f'Replacing {img_src}')\n",
    "        tag['src'] = os.path.join(img_path, img_src)\n",
    "        \n",
    "        base64_str = base64.b64encode(open(os.path.join(img_path, img_src), 'rb').read()).decode('utf-8')\n",
    "        new_src = 'data:image/png;base64,' + base64_str\n",
    "        \n",
    "        tag['src'] = new_src\n",
    "\n",
    "    with open(os.path.join(output_dir, output_name), 'w') as f:\n",
    "        f.write(str(soup_html))"
   ]
  }
 ],
 "metadata": {
  "kernelspec": {
   "display_name": "pymc_env",
   "language": "python",
   "name": "python3"
  },
  "language_info": {
   "codemirror_mode": {
    "name": "ipython",
    "version": 3
   },
   "file_extension": ".py",
   "mimetype": "text/x-python",
   "name": "python",
   "nbconvert_exporter": "python",
   "pygments_lexer": "ipython3",
   "version": "3.11.5"
  }
 },
 "nbformat": 4,
 "nbformat_minor": 2
}
